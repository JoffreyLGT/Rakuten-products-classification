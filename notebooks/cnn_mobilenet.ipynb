{
 "cells": [
  {
   "cell_type": "code",
   "execution_count": 17,
   "metadata": {},
   "outputs": [
    {
     "name": "stdout",
     "output_type": "stream",
     "text": [
      "data\\models\\cnn_mobilenetv2\\cp_{epoch:04d}.ckpt\n"
     ]
    }
   ],
   "source": [
    "import os\n",
    "import src.data.data as data\n",
    "\n",
    "IMG_SIZE = 224\n",
    "BATCH_SIZE = 128\n",
    "NO_OF_OUTPUT_CLASSES = 27\n",
    "\n",
    "TRAIN_DIR = data.get_output_dir(IMG_SIZE, IMG_SIZE, True, False, \"train\")\n",
    "VALIDATION_DIR = data.get_output_dir(IMG_SIZE, IMG_SIZE, True, False, \"test\")\n",
    "\n",
    "CHECKPOINT_DIR = os.path.join(\"data\", \"models\", \"cnn_mobilenetv2\")\n",
    "CHECKPOINT_PATH = os.path.join(CHECKPOINT_DIR, \"cp_{epoch:04d}.ckpt\")\n",
    "\n",
    "print(CHECKPOINT_PATH)"
   ]
  },
  {
   "cell_type": "code",
   "execution_count": 18,
   "metadata": {},
   "outputs": [],
   "source": [
    "import tensorflow_hub as hub\n",
    "from tensorflow.keras import layers, Sequential, regularizers\n",
    "\n",
    "# Download mobilenet model from tensorflow hub\n",
    "URL = \"https://tfhub.dev/google/tf2-preview/mobilenet_v2/feature_vector/2\"\n",
    "feature_extractor = hub.KerasLayer(URL,\n",
    "                                   input_shape=(IMG_SIZE, IMG_SIZE,3),\n",
    "                                   trainable=True)\n",
    "\n",
    "model = Sequential([\n",
    "    layers.InputLayer(input_shape=(IMG_SIZE, IMG_SIZE, 3)),\n",
    "    feature_extractor,\n",
    "    layers.Dropout(rate=0.2),\n",
    "    layers.Dense(NO_OF_OUTPUT_CLASSES,\n",
    "                 kernel_regularizer=regularizers.l2(0.0001))\n",
    "])\n",
    "model.build((None, IMG_SIZE, IMG_SIZE, 3))"
   ]
  },
  {
   "cell_type": "code",
   "execution_count": 19,
   "metadata": {},
   "outputs": [
    {
     "name": "stdout",
     "output_type": "stream",
     "text": [
      "Found 67932 images belonging to 27 classes.\n",
      "Found 16984 images belonging to 27 classes.\n"
     ]
    }
   ],
   "source": [
    "from tensorflow.keras.preprocessing.image import ImageDataGenerator\n",
    "\n",
    "\n",
    "image_gen_train = ImageDataGenerator(\n",
    "      rescale=1./255,               # Normalization\n",
    "      # rotation_range=40,\n",
    "      # width_shift_range=0.2,                \n",
    "      # height_shift_range=0.2,\n",
    "      # shear_range=0.2,\n",
    "      # zoom_range=0.2,\n",
    "      # horizontal_flip=True,\n",
    "      # fill_mode='nearest'\n",
    ")\n",
    "\n",
    "image_gen_validation = ImageDataGenerator(\n",
    "    rescale=1./255, # Normalization\n",
    ")\n",
    "\n",
    "train_data_gen = image_gen_train.flow_from_directory(batch_size=BATCH_SIZE,     # Batch size means at a time it takes 100\n",
    "                                                     directory=TRAIN_DIR,    # Here we put shuffle= True so tat model doesnt memorise order\n",
    "                                                     shuffle=True,\n",
    "                                                     target_size=(IMG_SIZE,IMG_SIZE),\n",
    "                                                     class_mode='categorical')\n",
    "\n",
    "validation_data_gen = image_gen_validation.flow_from_directory(batch_size=BATCH_SIZE,     # Batch size means at a time it takes 100\n",
    "                                                     directory=VALIDATION_DIR,    # Here we put shuffle= True so tat model doesnt memorise order\n",
    "                                                     shuffle=True,\n",
    "                                                     target_size=(IMG_SIZE,IMG_SIZE),\n",
    "                                                     class_mode='categorical')\n"
   ]
  },
  {
   "cell_type": "code",
   "execution_count": 20,
   "metadata": {},
   "outputs": [
    {
     "name": "stdout",
     "output_type": "stream",
     "text": [
      "No checkpoint to load\n",
      "Epoch 1/100\n"
     ]
    },
    {
     "ename": "ResourceExhaustedError",
     "evalue": "Graph execution error:\n\nDetected at node 'train/MobilenetV2/Conv_1/Conv2D' defined at (most recent call last):\nNode: 'train/MobilenetV2/Conv_1/Conv2D'\nOOM when allocating tensor with shape[1280,320,1,1] and type float on /job:localhost/replica:0/task:0/device:GPU:0 by allocator GPU_0_bfc\n\t [[{{node train/MobilenetV2/Conv_1/Conv2D}}]]\nHint: If you want to see a list of allocated tensors when OOM happens, add report_tensor_allocations_upon_oom to RunOptions for current allocation info. This isn't available when running in Eager mode.\n [Op:__inference_train_function_70401]",
     "output_type": "error",
     "traceback": [
      "\u001b[1;31m---------------------------------------------------------------------------\u001b[0m",
      "\u001b[1;31mResourceExhaustedError\u001b[0m                    Traceback (most recent call last)",
      "Cell \u001b[1;32mIn[20], line 30\u001b[0m\n\u001b[0;32m     28\u001b[0m steps_per_epoch \u001b[39m=\u001b[39m train_data_gen\u001b[39m.\u001b[39msamples \u001b[39m/\u001b[39m\u001b[39m/\u001b[39m BATCH_SIZE\n\u001b[0;32m     29\u001b[0m validation_steps \u001b[39m=\u001b[39m validation_data_gen\u001b[39m.\u001b[39msamples \u001b[39m/\u001b[39m\u001b[39m/\u001b[39m BATCH_SIZE\n\u001b[1;32m---> 30\u001b[0m hist \u001b[39m=\u001b[39m model\u001b[39m.\u001b[39;49mfit(\n\u001b[0;32m     31\u001b[0m     train_data_gen,\n\u001b[0;32m     32\u001b[0m     epochs\u001b[39m=\u001b[39;49m\u001b[39m100\u001b[39;49m, steps_per_epoch\u001b[39m=\u001b[39;49msteps_per_epoch,\n\u001b[0;32m     33\u001b[0m     validation_data\u001b[39m=\u001b[39;49mvalidation_data_gen,\n\u001b[0;32m     34\u001b[0m     validation_steps\u001b[39m=\u001b[39;49mvalidation_steps,\n\u001b[0;32m     35\u001b[0m     callbacks\u001b[39m=\u001b[39;49mcp_callbacks)\u001b[39m.\u001b[39mhistory\n",
      "File \u001b[1;32mc:\\Users\\jlagu\\miniforge3\\envs\\rakuten\\lib\\site-packages\\keras\\utils\\traceback_utils.py:70\u001b[0m, in \u001b[0;36mfilter_traceback.<locals>.error_handler\u001b[1;34m(*args, **kwargs)\u001b[0m\n\u001b[0;32m     67\u001b[0m     filtered_tb \u001b[39m=\u001b[39m _process_traceback_frames(e\u001b[39m.\u001b[39m__traceback__)\n\u001b[0;32m     68\u001b[0m     \u001b[39m# To get the full stack trace, call:\u001b[39;00m\n\u001b[0;32m     69\u001b[0m     \u001b[39m# `tf.debugging.disable_traceback_filtering()`\u001b[39;00m\n\u001b[1;32m---> 70\u001b[0m     \u001b[39mraise\u001b[39;00m e\u001b[39m.\u001b[39mwith_traceback(filtered_tb) \u001b[39mfrom\u001b[39;00m \u001b[39mNone\u001b[39m\n\u001b[0;32m     71\u001b[0m \u001b[39mfinally\u001b[39;00m:\n\u001b[0;32m     72\u001b[0m     \u001b[39mdel\u001b[39;00m filtered_tb\n",
      "File \u001b[1;32mc:\\Users\\jlagu\\miniforge3\\envs\\rakuten\\lib\\site-packages\\tensorflow\\python\\eager\\execute.py:54\u001b[0m, in \u001b[0;36mquick_execute\u001b[1;34m(op_name, num_outputs, inputs, attrs, ctx, name)\u001b[0m\n\u001b[0;32m     52\u001b[0m \u001b[39mtry\u001b[39;00m:\n\u001b[0;32m     53\u001b[0m   ctx\u001b[39m.\u001b[39mensure_initialized()\n\u001b[1;32m---> 54\u001b[0m   tensors \u001b[39m=\u001b[39m pywrap_tfe\u001b[39m.\u001b[39mTFE_Py_Execute(ctx\u001b[39m.\u001b[39m_handle, device_name, op_name,\n\u001b[0;32m     55\u001b[0m                                       inputs, attrs, num_outputs)\n\u001b[0;32m     56\u001b[0m \u001b[39mexcept\u001b[39;00m core\u001b[39m.\u001b[39m_NotOkStatusException \u001b[39mas\u001b[39;00m e:\n\u001b[0;32m     57\u001b[0m   \u001b[39mif\u001b[39;00m name \u001b[39mis\u001b[39;00m \u001b[39mnot\u001b[39;00m \u001b[39mNone\u001b[39;00m:\n",
      "\u001b[1;31mResourceExhaustedError\u001b[0m: Graph execution error:\n\nDetected at node 'train/MobilenetV2/Conv_1/Conv2D' defined at (most recent call last):\nNode: 'train/MobilenetV2/Conv_1/Conv2D'\nOOM when allocating tensor with shape[1280,320,1,1] and type float on /job:localhost/replica:0/task:0/device:GPU:0 by allocator GPU_0_bfc\n\t [[{{node train/MobilenetV2/Conv_1/Conv2D}}]]\nHint: If you want to see a list of allocated tensors when OOM happens, add report_tensor_allocations_upon_oom to RunOptions for current allocation info. This isn't available when running in Eager mode.\n [Op:__inference_train_function_70401]"
     ]
    }
   ],
   "source": [
    "from tensorflow.keras.callbacks import EarlyStopping, ModelCheckpoint\n",
    "from tensorflow.keras.optimizers import SGD\n",
    "from tensorflow.keras.losses import CategoricalCrossentropy\n",
    "from tensorflow.train import latest_checkpoint\n",
    "\n",
    "model.compile(\n",
    "  optimizer=SGD(learning_rate=0.005, momentum=0.9), \n",
    "  loss=CategoricalCrossentropy(from_logits=True, label_smoothing=0.1),\n",
    "  metrics=['accuracy'])\n",
    "\n",
    "\n",
    "latest = latest_checkpoint(CHECKPOINT_PATH)\n",
    "if(latest is not None):\n",
    "    print(\"Loading checkpoint\", latest)\n",
    "    model.load_weights(latest)\n",
    "else:\n",
    "    print(\"No checkpoint to load\")\n",
    "\n",
    "# This callback will stop the training when there is no improvement in\n",
    "# the accuracy for three consecutive epochs.\n",
    "cp_callbacks = [\n",
    "    EarlyStopping(monitor='val_accuracy', patience=3),\n",
    "    ModelCheckpoint(CHECKPOINT_PATH,\n",
    "                    save_weights_only=True,\n",
    "                    verbose=1)\n",
    "    ]\n",
    "\n",
    "steps_per_epoch = train_data_gen.samples // BATCH_SIZE\n",
    "validation_steps = validation_data_gen.samples // BATCH_SIZE\n",
    "hist = model.fit(\n",
    "    train_data_gen,\n",
    "    epochs=100, steps_per_epoch=steps_per_epoch,\n",
    "    validation_data=validation_data_gen,\n",
    "    validation_steps=validation_steps,\n",
    "    callbacks=cp_callbacks).history"
   ]
  }
 ],
 "metadata": {
  "kernelspec": {
   "display_name": "rakuten",
   "language": "python",
   "name": "python3"
  },
  "language_info": {
   "codemirror_mode": {
    "name": "ipython",
    "version": 3
   },
   "file_extension": ".py",
   "mimetype": "text/x-python",
   "name": "python",
   "nbconvert_exporter": "python",
   "pygments_lexer": "ipython3",
   "version": "3.9.16"
  },
  "orig_nbformat": 4
 },
 "nbformat": 4,
 "nbformat_minor": 2
}
