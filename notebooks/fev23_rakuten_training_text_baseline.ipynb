{
 "cells": [
  {
   "cell_type": "code",
   "execution_count": 1,
   "metadata": {},
   "outputs": [],
   "source": [
    "import matplotlib.pyplot as plt\n",
    "import pandas as pd\n",
    "import numpy as np\n",
    "import pickle"
   ]
  },
  {
   "attachments": {},
   "cell_type": "markdown",
   "metadata": {},
   "source": [
    "## Load train description datasets "
   ]
  },
  {
   "cell_type": "code",
   "execution_count": 26,
   "metadata": {},
   "outputs": [],
   "source": [
    "# load sparse matrix\n",
    "X_train = pd.read_pickle('data/X_train_preproc_tfidfV1.pkl')\n",
    "y_train = pd.read_pickle('data/y_train_tfidfV1.pkl')\n",
    "#y_train = y_train.todense()\n",
    "\n",
    "with open('data/voc_tfidfV1.pkl', 'rb') as fp:\n",
    "    vocabulary = pickle.load(fp)"
   ]
  },
  {
   "cell_type": "code",
   "execution_count": 29,
   "metadata": {},
   "outputs": [],
   "source": [
    "a = y_train\n",
    "y_train = y_train.todense().transpose()"
   ]
  },
  {
   "attachments": {},
   "cell_type": "markdown",
   "metadata": {},
   "source": [
    "## Logistic regression model"
   ]
  },
  {
   "attachments": {},
   "cell_type": "markdown",
   "metadata": {},
   "source": [
    "Model initialisation"
   ]
  },
  {
   "cell_type": "code",
   "execution_count": 30,
   "metadata": {},
   "outputs": [],
   "source": [
    "from sklearn.linear_model import LogisticRegression\n",
    "lr = LogisticRegression(max_iter=1000)"
   ]
  },
  {
   "attachments": {},
   "cell_type": "markdown",
   "metadata": {},
   "source": [
    "Training"
   ]
  },
  {
   "cell_type": "code",
   "execution_count": 31,
   "metadata": {},
   "outputs": [
    {
     "name": "stderr",
     "output_type": "stream",
     "text": [
      "d:\\Agnoli\\Datascientest\\Projet\\Fev23_BDS_Rakuten\\.conda\\lib\\site-packages\\sklearn\\utils\\validation.py:1111: DataConversionWarning: A column-vector y was passed when a 1d array was expected. Please change the shape of y to (n_samples, ), for example using ravel().\n",
      "  y = column_or_1d(y, warn=True)\n"
     ]
    },
    {
     "data": {
      "text/plain": [
       "0.604157834408906"
      ]
     },
     "execution_count": 31,
     "metadata": {},
     "output_type": "execute_result"
    }
   ],
   "source": [
    "lr.fit(X_train, y_train)\n",
    "lr.score(X_train,y_train)"
   ]
  },
  {
   "attachments": {},
   "cell_type": "markdown",
   "metadata": {},
   "source": [
    "Test"
   ]
  },
  {
   "cell_type": "code",
   "execution_count": 32,
   "metadata": {},
   "outputs": [],
   "source": [
    "X_test = pd.read_pickle('data/X_test_preproc_tfidfV1.pkl')\n",
    "y_test = pd.read_pickle('data/y_test_tfidfV1.pkl')"
   ]
  },
  {
   "cell_type": "code",
   "execution_count": 33,
   "metadata": {},
   "outputs": [],
   "source": [
    "a = y_test\n",
    "y_test = y_test.todense().transpose()"
   ]
  },
  {
   "attachments": {},
   "cell_type": "markdown",
   "metadata": {},
   "source": [
    "Evaluation"
   ]
  },
  {
   "cell_type": "code",
   "execution_count": 34,
   "metadata": {},
   "outputs": [
    {
     "name": "stdout",
     "output_type": "stream",
     "text": [
      "              precision    recall  f1-score   support\n",
      "\n",
      "          10       0.55      0.04      0.07       771\n",
      "          40       0.73      0.17      0.28       592\n",
      "          50       0.76      0.58      0.66       412\n",
      "          60       0.99      0.75      0.86       210\n",
      "        1140       0.72      0.26      0.38       672\n",
      "        1160       0.87      0.08      0.15       987\n",
      "        1180       0.64      0.04      0.07       181\n",
      "        1280       0.59      0.46      0.52      1167\n",
      "        1281       0.64      0.32      0.43       528\n",
      "        1300       0.80      0.68      0.73      1262\n",
      "        1301       0.95      0.68      0.79       203\n",
      "        1302       0.79      0.63      0.70       628\n",
      "        1320       0.72      0.44      0.55       787\n",
      "        1560       0.74      0.77      0.75      1214\n",
      "        1920       0.88      0.87      0.88      1072\n",
      "        1940       0.95      0.66      0.78       210\n",
      "        2060       0.75      0.71      0.73      1314\n",
      "        2220       0.94      0.62      0.75       196\n",
      "        2280       0.45      0.04      0.07      1218\n",
      "        2403       0.16      0.98      0.27      1207\n",
      "        2462       0.00      0.00      0.00       356\n",
      "        2522       0.85      0.70      0.77      1274\n",
      "        2582       0.76      0.66      0.70       658\n",
      "        2583       0.93      0.88      0.90      2572\n",
      "        2585       0.74      0.64      0.68       648\n",
      "        2705       0.88      0.63      0.73       683\n",
      "        2905       0.95      0.94      0.95       207\n",
      "\n",
      "    accuracy                           0.57     21229\n",
      "   macro avg       0.73      0.53      0.56     21229\n",
      "weighted avg       0.72      0.57      0.58     21229\n",
      "\n"
     ]
    },
    {
     "name": "stderr",
     "output_type": "stream",
     "text": [
      "d:\\Agnoli\\Datascientest\\Projet\\Fev23_BDS_Rakuten\\.conda\\lib\\site-packages\\sklearn\\metrics\\_classification.py:1334: UndefinedMetricWarning: Precision and F-score are ill-defined and being set to 0.0 in labels with no predicted samples. Use `zero_division` parameter to control this behavior.\n",
      "  _warn_prf(average, modifier, msg_start, len(result))\n",
      "d:\\Agnoli\\Datascientest\\Projet\\Fev23_BDS_Rakuten\\.conda\\lib\\site-packages\\sklearn\\metrics\\_classification.py:1334: UndefinedMetricWarning: Precision and F-score are ill-defined and being set to 0.0 in labels with no predicted samples. Use `zero_division` parameter to control this behavior.\n",
      "  _warn_prf(average, modifier, msg_start, len(result))\n",
      "d:\\Agnoli\\Datascientest\\Projet\\Fev23_BDS_Rakuten\\.conda\\lib\\site-packages\\sklearn\\metrics\\_classification.py:1334: UndefinedMetricWarning: Precision and F-score are ill-defined and being set to 0.0 in labels with no predicted samples. Use `zero_division` parameter to control this behavior.\n",
      "  _warn_prf(average, modifier, msg_start, len(result))\n"
     ]
    }
   ],
   "source": [
    "from sklearn.metrics import classification_report\n",
    "\n",
    "y_test_pred = lr.predict(X_test)\n",
    "\n",
    "print(classification_report(y_test, y_test_pred))\n"
   ]
  },
  {
   "cell_type": "code",
   "execution_count": 49,
   "metadata": {},
   "outputs": [
    {
     "name": "stdout",
     "output_type": "stream",
     "text": [
      "Classes prédites  10    40    50    60    1140  1160  1180  1280  1281  1300  \\\n",
      "Classes réelles                                                                \n",
      "10                  27     2     0     0     1     0     1     9     3     0   \n",
      "40                   2   103    21     0     2     2     0     7    10     2   \n",
      "50                   0    14   237     0     5     0     0     6     3     4   \n",
      "60                   0     3    17   158     0     0     0     0     1     1   \n",
      "1140                 1     1     0     0   172     0     0    15     3     4   \n",
      "1160                 0     0     0     0     1    80     0     0     2     0   \n",
      "1180                 0     0     0     0     1     0     7     7    10     0   \n",
      "1280                 5     3     5     0    32     1     2   535    35   166   \n",
      "1281                 1     2     2     0     9     2     0   149   169     3   \n",
      "1300                 0     1     1     0     1     1     0    43     1   859   \n",
      "1301                 0     0     0     0     3     1     0     5     2     0   \n",
      "1302                 1     1     1     0     4     1     0    42    10     5   \n",
      "1320                 0     0     3     0     1     1     0    39     3     4   \n",
      "1560                 0     0     3     0     0     1     0     8     0     2   \n",
      "1920                 0     0     0     0     1     0     0     4     0     0   \n",
      "1940                 0     1     0     0     2     0     0     7     0     0   \n",
      "2060                 1     0     4     0     2     0     1     3     4     3   \n",
      "2220                 1     1     0     0     0     0     0     5     0     0   \n",
      "2280                 3     0     0     0     0     0     0     0     0     4   \n",
      "2403                 3     1     0     0     0     0     0     3     2     1   \n",
      "2462                 0     0    14     0     0     0     0     0     1     0   \n",
      "2522                 2     3     1     1     0     1     0     6     1     6   \n",
      "2582                 1     0     0     0     1     0     0     5     0     3   \n",
      "2583                 0     4     0     0     2     0     0     0     0     2   \n",
      "2585                 0     1     1     0     0     0     0     1     0     6   \n",
      "2705                 1     0     0     0     0     1     0     3     0     2   \n",
      "2905                 0     0     0     0     0     0     0     3     6     0   \n",
      "\n",
      "Classes prédites  ...  2060  2220  2280  2403  2522  2582  2583  2585  2705  \\\n",
      "Classes réelles   ...                                                         \n",
      "10                ...     0     0    14   693     6     0     1     0    11   \n",
      "40                ...     2     0     0   428     0     0     2     2     7   \n",
      "50                ...     3     0     0   115     3     0     3     4     1   \n",
      "60                ...     0     0     0    29     0     0     0     0     1   \n",
      "1140              ...     5     0     3   448     9     1     2     2     1   \n",
      "1160              ...     0     0     0   903     0     0     0     0     1   \n",
      "1180              ...     2     0     0   146     1     1     1     0     2   \n",
      "1280              ...    24     3     6   255    16     4     7     4     0   \n",
      "1281              ...     7     1     2   134    11     1     3     2    11   \n",
      "1300              ...     3     0     2   316     3     5    10     4     0   \n",
      "1301              ...     0     0     1    31     6     0     1     0     0   \n",
      "1302              ...    14     0     2    55     3    22    26     8     2   \n",
      "1320              ...    26     1     5   258    17     7     9     5     4   \n",
      "1560              ...    92     1     2    35    11    32     2    23     2   \n",
      "1920              ...    30     0     0    56     3     8     3     1     0   \n",
      "1940              ...     2     0     1    27     7     1     7     4     3   \n",
      "2060              ...   938     0     1    88    15    26    14    23     1   \n",
      "2220              ...    10   122     1    23     5     3     7     5     0   \n",
      "2280              ...     0     0    44  1156     3     0     1     0     4   \n",
      "2403              ...     1     0     3  1180     3     0     0     1     6   \n",
      "2462              ...     0     0     0   341     0     0     0     0     0   \n",
      "2522              ...    15     0     2   304   886     2     3    13     0   \n",
      "2582              ...    47     2     1    14     5   432    23    36     1   \n",
      "2583              ...    11     0     1   245     8    10  2257     8     0   \n",
      "2585              ...    26     0     4    54    17    17    55   412     2   \n",
      "2705              ...     0     0     2   246     1     0     0     0   427   \n",
      "2905              ...     0     0     0     0     0     0     0     2     1   \n",
      "\n",
      "Classes prédites  2905  \n",
      "Classes réelles         \n",
      "10                   0  \n",
      "40                   1  \n",
      "50                   0  \n",
      "60                   0  \n",
      "1140                 0  \n",
      "1160                 0  \n",
      "1180                 1  \n",
      "1280                 3  \n",
      "1281                 1  \n",
      "1300                 0  \n",
      "1301                 0  \n",
      "1302                 2  \n",
      "1320                 1  \n",
      "1560                 0  \n",
      "1920                 0  \n",
      "1940                 0  \n",
      "2060                 0  \n",
      "2220                 0  \n",
      "2280                 0  \n",
      "2403                 1  \n",
      "2462                 0  \n",
      "2522                 0  \n",
      "2582                 0  \n",
      "2583                 0  \n",
      "2585                 0  \n",
      "2705                 0  \n",
      "2905               195  \n",
      "\n",
      "[27 rows x 26 columns]\n"
     ]
    }
   ],
   "source": [
    "\n",
    "y_test = np.squeeze(np.asarray(y_test))\n",
    "print(pd.crosstab(y_test, y_test_pred, rownames=['Classes réelles'], colnames=['Classes prédites']))\n"
   ]
  }
 ],
 "metadata": {
  "kernelspec": {
   "display_name": "Python 3",
   "language": "python",
   "name": "python3"
  },
  "language_info": {
   "codemirror_mode": {
    "name": "ipython",
    "version": 3
   },
   "file_extension": ".py",
   "mimetype": "text/x-python",
   "name": "python",
   "nbconvert_exporter": "python",
   "pygments_lexer": "ipython3",
   "version": "3.9.16"
  },
  "orig_nbformat": 4
 },
 "nbformat": 4,
 "nbformat_minor": 2
}
