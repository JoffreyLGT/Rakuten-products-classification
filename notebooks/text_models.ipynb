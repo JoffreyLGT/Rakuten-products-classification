{
 "cells": [
  {
   "attachments": {},
   "cell_type": "markdown",
   "metadata": {},
   "source": [
    "# Text Models"
   ]
  },
  {
   "attachments": {},
   "cell_type": "markdown",
   "metadata": {},
   "source": [
    "## Objectif\n",
    "\n",
    "Ce notebook permet de générer les jeux de données contenant les mots du corpus de texte, puis d'entrainer des modèles."
   ]
  },
  {
   "attachments": {},
   "cell_type": "markdown",
   "metadata": {},
   "source": [
    "## 1. Paramètres des jeux de données\n",
    "\n",
    "Veuillez renseigner les paramètres ci-dessous pour définir les jeux de données."
   ]
  },
  {
   "cell_type": "code",
   "execution_count": 1,
   "metadata": {},
   "outputs": [],
   "source": [
    "# Define the dataset size\n",
    "TRAIN_SIZE = 0.8\n",
    "TEST_SIZE = 0.2\n",
    "\n",
    "# Define the text preproc\n",
    "TEXT_PREPROC = \"Tfidf_default_with_stem\"\n",
    "\n",
    "# list des configuration preproc:\n",
    "# 'BoW_default'   Bag of Words with default input parameters + remove html + remove numeric words.\n",
    "# 'Tfidf_default' Tfidf with default input parameters + remove html + remove numeric words.\n",
    "# 'Tfidf_specific' Tfidf with specific input parameter: 'min_df': 0.001 + remove html + remove numeric words.\n",
    "# 'BoW_default_with_stem'  Bag of Words with default input parameters + remove html + remove numeric words + french stemming.\n",
    "# 'Tfidf_default_with_stem' Tfidf with default input parameters + remove html + remove numeric words + french stemming.\n",
    "# 'Tfidf_specific_with_stem' Tfidf with specific input parameter: 'min_df': 0.001 + remove html + remove numeric words + french stemming.\n",
    "\n",
    "# Define the text model\n",
    "TEXT_MODEL = \"MultinomialNB\"\n",
    "# MultinomialNB\n",
    "# SGDClassifier\n",
    "# RandomForestClassifier\n",
    "# GradientBoostingClassifier"
   ]
  },
  {
   "cell_type": "code",
   "execution_count": 2,
   "metadata": {},
   "outputs": [],
   "source": [
    "# Version de Python utilisée : 3.9.xx\n",
    "# Import des librairies\n",
    "import pandas as pd\n",
    "\n",
    "from sklearn.model_selection import train_test_split\n",
    "\n",
    "pd.set_option('display.max_colwidth', None)"
   ]
  },
  {
   "attachments": {},
   "cell_type": "markdown",
   "metadata": {},
   "source": [
    "## 2. Génération des jeux de données\n",
    "\n",
    "Veuillez executer la cellule ci-dessous. Attention, l'étape de pré-processing du text peut être longue si vous avez un gros jeu de données. "
   ]
  },
  {
   "cell_type": "code",
   "execution_count": 4,
   "metadata": {},
   "outputs": [],
   "source": [
    "from src.data import data\n",
    "\n",
    "# Import des fichiers contenant les données\n",
    "df = data.load_data(\"data\").fillna(\"\")\n",
    "\n",
    "# data\n",
    "features = df['designation']+\" \"+df['description']\n",
    "target = df['prdtypecode']\n",
    "\n",
    "# split to train, valid and test\n",
    "X_train, X_test, y_train, y_test = train_test_split(features, target, random_state=123, test_size=TEST_SIZE, train_size=TRAIN_SIZE)\n",
    "\n",
    "# definition du nom du dataframe (mandatory)\n",
    "X_train.name = 'X_train'\n",
    "X_test.name = 'X_test'"
   ]
  },
  {
   "attachments": {},
   "cell_type": "markdown",
   "metadata": {},
   "source": [
    "## Pre-processing & vectorisation pipelines"
   ]
  },
  {
   "cell_type": "code",
   "execution_count": 5,
   "metadata": {},
   "outputs": [
    {
     "name": "stderr",
     "output_type": "stream",
     "text": [
      "INFO:textpipeline:class:BagOfWordsDefault\n",
      "INFO:textpipeline:class:TfidfDefault\n",
      "INFO:textpipeline:class:TfidfV1\n",
      "INFO:textpipeline:class:BOW_Stemming\n",
      "INFO:textpipeline:class:TfidfStemming\n",
      "INFO:textpipeline:class:TfidfStemmingV1\n"
     ]
    }
   ],
   "source": [
    "from src.data.vectorization_pipeline import BagOfWordsDefault\n",
    "from src.data.vectorization_pipeline import TfidfDefault\n",
    "from src.data.vectorization_pipeline import TfidfV1\n",
    "from src.data.vectorization_pipeline import BOW_Stemming\n",
    "from src.data.vectorization_pipeline import TfidfStemming\n",
    "from src.data.vectorization_pipeline import TfidfStemmingV1\n",
    "\n",
    "\n",
    "text_preprocessing = {'BoW_default':BagOfWordsDefault(),\n",
    "                      'Tfidf_default':TfidfDefault(),\n",
    "                      'Tfidf_specific':TfidfV1(),\n",
    "                      'BoW_default_with_stem':BOW_Stemming(),\n",
    "                      'Tfidf_default_with_stem':TfidfStemming(),\n",
    "                      'Tfidf_specific_with_stem':TfidfStemmingV1()}\n",
    "\n",
    "text_preproc = text_preprocessing[TEXT_PREPROC]"
   ]
  },
  {
   "cell_type": "code",
   "execution_count": 6,
   "metadata": {},
   "outputs": [
    {
     "name": "stderr",
     "output_type": "stream",
     "text": [
      "INFO:textpipeline:TextPreprocess.fit X_train 225.96 seconds\n",
      "INFO:textpipeline:TextPreprocess.transform X_train 171.64 seconds\n",
      "INFO:textpipeline:TextPreprocess.transform X_test 39.96 seconds\n",
      "INFO:textpipeline:TextPreprocess.save data/training/X_train__TfidfStemming.pkl 0.06 seconds\n",
      "INFO:textpipeline:TextPreprocess.save data/training/X_test__TfidfStemming.pkl 0.01 seconds\n",
      "INFO:textpipeline:TextPreprocess.save data/training/y_train_TfidfStemming.pkl 0.00 seconds\n",
      "INFO:textpipeline:TextPreprocess.save data/training/y_test_TfidfStemming.pkl 0.01 seconds\n",
      "INFO:textpipeline:TextPreprocess.save_voc size 85230\n",
      "INFO:textpipeline:TextPreprocess.save_voc data/training/voc__TfidfStemming.pkl\n"
     ]
    }
   ],
   "source": [
    "import pickle\n",
    "from src.data.text_preproc_pipeline import TextPreprocess\n",
    "\n",
    "\n",
    "_preproc = TextPreprocess(text_preproc)\n",
    "_preproc.fit(X_train)\n",
    "\n",
    "X_train_preproc = _preproc.transform(X_train)\n",
    "X_test_preproc = _preproc.transform(X_test)\n",
    "\n",
    "filenames = {}\n",
    "filenames['feat_train_filename'] = _preproc.save(X_train_preproc, \"data/training/X_train_\")\n",
    "filenames['feat_test_filename'] = _preproc.save(X_test_preproc, \"data/training/X_test_\")\n",
    "\n",
    "filenames['target_train_filename'] = _preproc.save(y_train, \"data/training/y_train\")\n",
    "filenames['target_test_filename'] = _preproc.save(y_test, \"data/training/y_test\")\n",
    "filenames['voc_filename'] = _preproc.save_voc(\"data/training/voc_\")\n",
    "\n",
    "\n",
    "\n",
    "file_name = f\"data/training/{TEXT_PREPROC}_filenames.pkl\"\n",
    "with open(file_name,'wb') as fp:\n",
    "    pickle.dump(filenames, fp)\n"
   ]
  },
  {
   "attachments": {},
   "cell_type": "markdown",
   "metadata": {},
   "source": [
    "Attention, il est maintenant recommandé de redémarrer le kernel Jupyter pour vider la RAM utilisée par la cellule ci-dessus."
   ]
  },
  {
   "attachments": {},
   "cell_type": "markdown",
   "metadata": {},
   "source": [
    "Relancer la première cellule avec la variable TEXT_PREPROC et TEXT_MODEL"
   ]
  },
  {
   "attachments": {},
   "cell_type": "markdown",
   "metadata": {},
   "source": [
    "## 3. Entrainement du modèle\n",
    "\n",
    "Instanciez votre modèle dans la cellule ci-dessous, puis executer les cellules à la suite."
   ]
  },
  {
   "cell_type": "code",
   "execution_count": 4,
   "metadata": {},
   "outputs": [],
   "source": [
    "from sklearn.linear_model import SGDClassifier\n",
    "from sklearn.ensemble import RandomForestClassifier, GradientBoostingClassifier\n",
    "from sklearn.naive_bayes import MultinomialNB\n",
    "\n",
    "text_models = {'MultinomialNB':MultinomialNB(alpha=0.001),\n",
    "               'SGDClassifier':SGDClassifier(loss='modified_huber', max_iter=5, random_state=0, shuffle=True, n_jobs=),\n",
    "               'RandomForestClassifier':RandomForestClassifier(),\n",
    "               'GradientBoostingClassifier':GradientBoostingClassifier()}"
   ]
  },
  {
   "cell_type": "code",
   "execution_count": 34,
   "metadata": {},
   "outputs": [],
   "source": [
    "import pickle\n",
    "\n",
    "# load  \n",
    "filenames = pickle.load(open(f\"data/training/{TEXT_PREPROC}_filenames.pkl\", \"rb\"))\n",
    "\n",
    "X_train = pickle.load(open(filenames['feat_train_filename'] , \"rb\"))\n",
    "y_train = pickle.load(open(filenames['target_train_filename'], \"rb\"))\n",
    "\n",
    "X_test = pickle.load(open(filenames['feat_test_filename'], \"rb\"))\n",
    "y_test = pickle.load(open(filenames['target_test_filename'], \"rb\"))\n"
   ]
  },
  {
   "cell_type": "code",
   "execution_count": 35,
   "metadata": {},
   "outputs": [
    {
     "name": "stdout",
     "output_type": "stream",
     "text": [
      "(1, 67932)\n",
      "(67932, 1)\n",
      "<class 'numpy.ndarray'>\n"
     ]
    }
   ],
   "source": [
    "import numpy as np\n",
    "print(y_train.shape)\n",
    "y_train = np.asarray(y_train.todense().reshape(-1, 1))\n",
    "print(y_train.shape)\n",
    "print(type(y_train))"
   ]
  },
  {
   "cell_type": "code",
   "execution_count": 36,
   "metadata": {},
   "outputs": [
    {
     "name": "stdout",
     "output_type": "stream",
     "text": [
      "(1, 16984)\n",
      "(16984, 1)\n",
      "<class 'numpy.ndarray'>\n"
     ]
    }
   ],
   "source": [
    "print(y_test.shape)\n",
    "y_test = np.asarray(y_test.todense().reshape(-1, 1))\n",
    "print(y_test.shape)\n",
    "print(type(y_test))"
   ]
  },
  {
   "cell_type": "code",
   "execution_count": 37,
   "metadata": {},
   "outputs": [
    {
     "name": "stderr",
     "output_type": "stream",
     "text": [
      "d:\\Agnoli\\Datascientest\\Projet\\Fev23_BDS_Rakuten\\.conda\\lib\\site-packages\\sklearn\\utils\\validation.py:1111: DataConversionWarning: A column-vector y was passed when a 1d array was expected. Please change the shape of y to (n_samples, ), for example using ravel().\n",
      "  y = column_or_1d(y, warn=True)\n"
     ]
    },
    {
     "data": {
      "text/html": [
       "<style>#sk-container-id-2 {color: black;background-color: white;}#sk-container-id-2 pre{padding: 0;}#sk-container-id-2 div.sk-toggleable {background-color: white;}#sk-container-id-2 label.sk-toggleable__label {cursor: pointer;display: block;width: 100%;margin-bottom: 0;padding: 0.3em;box-sizing: border-box;text-align: center;}#sk-container-id-2 label.sk-toggleable__label-arrow:before {content: \"▸\";float: left;margin-right: 0.25em;color: #696969;}#sk-container-id-2 label.sk-toggleable__label-arrow:hover:before {color: black;}#sk-container-id-2 div.sk-estimator:hover label.sk-toggleable__label-arrow:before {color: black;}#sk-container-id-2 div.sk-toggleable__content {max-height: 0;max-width: 0;overflow: hidden;text-align: left;background-color: #f0f8ff;}#sk-container-id-2 div.sk-toggleable__content pre {margin: 0.2em;color: black;border-radius: 0.25em;background-color: #f0f8ff;}#sk-container-id-2 input.sk-toggleable__control:checked~div.sk-toggleable__content {max-height: 200px;max-width: 100%;overflow: auto;}#sk-container-id-2 input.sk-toggleable__control:checked~label.sk-toggleable__label-arrow:before {content: \"▾\";}#sk-container-id-2 div.sk-estimator input.sk-toggleable__control:checked~label.sk-toggleable__label {background-color: #d4ebff;}#sk-container-id-2 div.sk-label input.sk-toggleable__control:checked~label.sk-toggleable__label {background-color: #d4ebff;}#sk-container-id-2 input.sk-hidden--visually {border: 0;clip: rect(1px 1px 1px 1px);clip: rect(1px, 1px, 1px, 1px);height: 1px;margin: -1px;overflow: hidden;padding: 0;position: absolute;width: 1px;}#sk-container-id-2 div.sk-estimator {font-family: monospace;background-color: #f0f8ff;border: 1px dotted black;border-radius: 0.25em;box-sizing: border-box;margin-bottom: 0.5em;}#sk-container-id-2 div.sk-estimator:hover {background-color: #d4ebff;}#sk-container-id-2 div.sk-parallel-item::after {content: \"\";width: 100%;border-bottom: 1px solid gray;flex-grow: 1;}#sk-container-id-2 div.sk-label:hover label.sk-toggleable__label {background-color: #d4ebff;}#sk-container-id-2 div.sk-serial::before {content: \"\";position: absolute;border-left: 1px solid gray;box-sizing: border-box;top: 0;bottom: 0;left: 50%;z-index: 0;}#sk-container-id-2 div.sk-serial {display: flex;flex-direction: column;align-items: center;background-color: white;padding-right: 0.2em;padding-left: 0.2em;position: relative;}#sk-container-id-2 div.sk-item {position: relative;z-index: 1;}#sk-container-id-2 div.sk-parallel {display: flex;align-items: stretch;justify-content: center;background-color: white;position: relative;}#sk-container-id-2 div.sk-item::before, #sk-container-id-2 div.sk-parallel-item::before {content: \"\";position: absolute;border-left: 1px solid gray;box-sizing: border-box;top: 0;bottom: 0;left: 50%;z-index: -1;}#sk-container-id-2 div.sk-parallel-item {display: flex;flex-direction: column;z-index: 1;position: relative;background-color: white;}#sk-container-id-2 div.sk-parallel-item:first-child::after {align-self: flex-end;width: 50%;}#sk-container-id-2 div.sk-parallel-item:last-child::after {align-self: flex-start;width: 50%;}#sk-container-id-2 div.sk-parallel-item:only-child::after {width: 0;}#sk-container-id-2 div.sk-dashed-wrapped {border: 1px dashed gray;margin: 0 0.4em 0.5em 0.4em;box-sizing: border-box;padding-bottom: 0.4em;background-color: white;}#sk-container-id-2 div.sk-label label {font-family: monospace;font-weight: bold;display: inline-block;line-height: 1.2em;}#sk-container-id-2 div.sk-label-container {text-align: center;}#sk-container-id-2 div.sk-container {/* jupyter's `normalize.less` sets `[hidden] { display: none; }` but bootstrap.min.css set `[hidden] { display: none !important; }` so we also need the `!important` here to be able to override the default hidden behavior on the sphinx rendered scikit-learn.org. See: https://github.com/scikit-learn/scikit-learn/issues/21755 */display: inline-block !important;position: relative;}#sk-container-id-2 div.sk-text-repr-fallback {display: none;}</style><div id=\"sk-container-id-2\" class=\"sk-top-container\"><div class=\"sk-text-repr-fallback\"><pre>MultinomialNB(alpha=0.001)</pre><b>In a Jupyter environment, please rerun this cell to show the HTML representation or trust the notebook. <br />On GitHub, the HTML representation is unable to render, please try loading this page with nbviewer.org.</b></div><div class=\"sk-container\" hidden><div class=\"sk-item\"><div class=\"sk-estimator sk-toggleable\"><input class=\"sk-toggleable__control sk-hidden--visually\" id=\"sk-estimator-id-2\" type=\"checkbox\" checked><label for=\"sk-estimator-id-2\" class=\"sk-toggleable__label sk-toggleable__label-arrow\">MultinomialNB</label><div class=\"sk-toggleable__content\"><pre>MultinomialNB(alpha=0.001)</pre></div></div></div></div></div>"
      ],
      "text/plain": [
       "MultinomialNB(alpha=0.001)"
      ]
     },
     "execution_count": 37,
     "metadata": {},
     "output_type": "execute_result"
    }
   ],
   "source": [
    "model = text_models[TEXT_MODEL]\n",
    "model.fit(X_train, y_train)"
   ]
  },
  {
   "cell_type": "code",
   "execution_count": 38,
   "metadata": {},
   "outputs": [
    {
     "name": "stdout",
     "output_type": "stream",
     "text": [
      "Train accuracy:  0.914620502855797\n",
      "Test accuracy:  0.7647786151672162\n"
     ]
    }
   ],
   "source": [
    "print('Train accuracy: ', model.score(X_train, y_train))\n",
    "print('Test accuracy: ', model.score(X_test, y_test))"
   ]
  },
  {
   "cell_type": "code",
   "execution_count": 40,
   "metadata": {},
   "outputs": [
    {
     "name": "stdout",
     "output_type": "stream",
     "text": [
      "              precision    recall  f1-score   support\n",
      "\n",
      "          10       0.55      0.28      0.38       601\n",
      "          40       0.64      0.47      0.55       475\n",
      "          50       0.77      0.81      0.79       341\n",
      "          60       0.94      0.80      0.87       176\n",
      "        1140       0.67      0.74      0.71       552\n",
      "        1160       0.93      0.90      0.91       791\n",
      "        1180       0.66      0.57      0.61       139\n",
      "        1280       0.57      0.57      0.57       944\n",
      "        1281       0.49      0.40      0.44       415\n",
      "        1300       0.81      0.95      0.88      1006\n",
      "        1301       0.95      0.92      0.94       154\n",
      "        1302       0.80      0.76      0.78       505\n",
      "        1320       0.80      0.74      0.77       635\n",
      "        1560       0.74      0.78      0.76       967\n",
      "        1920       0.88      0.89      0.88       866\n",
      "        1940       0.91      0.88      0.89       175\n",
      "        2060       0.70      0.77      0.73      1060\n",
      "        2220       0.91      0.77      0.83       151\n",
      "        2280       0.65      0.69      0.67       964\n",
      "        2403       0.67      0.66      0.66       979\n",
      "        2462       0.68      0.73      0.70       298\n",
      "        2522       0.91      0.89      0.90       993\n",
      "        2582       0.74      0.67      0.70       524\n",
      "        2583       0.94      0.97      0.95      2045\n",
      "        2585       0.79      0.79      0.79       527\n",
      "        2705       0.58      0.75      0.65       536\n",
      "        2905       0.68      0.92      0.78       165\n",
      "\n",
      "    accuracy                           0.76     16984\n",
      "   macro avg       0.75      0.74      0.74     16984\n",
      "weighted avg       0.76      0.76      0.76     16984\n",
      "\n"
     ]
    }
   ],
   "source": [
    "from sklearn.metrics import accuracy_score, classification_report, confusion_matrix\n",
    "y_test_pred = model.predict(X_test)\n",
    "print(classification_report(y_test, y_test_pred))"
   ]
  }
 ],
 "metadata": {
  "kernelspec": {
   "display_name": "Python 3",
   "language": "python",
   "name": "python3"
  },
  "language_info": {
   "codemirror_mode": {
    "name": "ipython",
    "version": 3
   },
   "file_extension": ".py",
   "mimetype": "text/x-python",
   "name": "python",
   "nbconvert_exporter": "python",
   "pygments_lexer": "ipython3",
   "version": "3.9.16"
  },
  "orig_nbformat": 4
 },
 "nbformat": 4,
 "nbformat_minor": 2
}
