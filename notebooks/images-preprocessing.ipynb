{
 "cells": [
  {
   "cell_type": "code",
   "execution_count": 24,
   "metadata": {},
   "outputs": [],
   "source": [
    "from src.data import data, analysis\n",
    "\n",
    "\n",
    "DATA_DIR = \"data\"\n",
    "df = data.load_data(DATA_DIR)"
   ]
  },
  {
   "cell_type": "code",
   "execution_count": 29,
   "metadata": {},
   "outputs": [],
   "source": [
    "# Take only a few liens for the development\n",
    "df = df.iloc[:100]"
   ]
  },
  {
   "cell_type": "code",
   "execution_count": 28,
   "metadata": {},
   "outputs": [],
   "source": [
    "from src.data.analysis import get_img_name\n",
    "\n",
    "def get_imgs_path(productids: list[int], imageids: list[int]):\n",
    "    if(len(productids) != len(imageids)):\n",
    "        raise ValueError(\"productids and imageids should be the same size\") \n",
    "    \n",
    "    return [get_img_name(productid, imageid) for productid, imageid in zip(productids, imageids)]\n",
    "\n",
    "filenames = get_imgs_path(df.loc[:, \"productid\"], df.loc[:, \"imageid\"])"
   ]
  },
  {
   "cell_type": "code",
   "execution_count": 42,
   "metadata": {},
   "outputs": [],
   "source": [
    "import os\n",
    "from PIL import Image, ImageOps\n",
    "import numpy as np\n",
    "\n",
    "imput_img_dir = \"data/images/image_train/\"\n",
    "output_img_dir = \"data/images/cropped/\"\n",
    "image_size = (250, 250)\n",
    "\n",
    "if not os.path.exists(output_img_dir):\n",
    "    os.makedirs(output_img_dir)\n",
    "\n",
    "for filename in filenames:\n",
    "    \n",
    "    img_array = np.asarray(Image.open(imput_img_dir + filename))\n",
    "    top_line = -1\n",
    "    right_line = -1\n",
    "    bottom_line = -1\n",
    "    left_line = -1\n",
    "\n",
    "    i = 1\n",
    "    can_continue = True\n",
    "    while can_continue:\n",
    "        if top_line == -1 and img_array[:i].mean() != 255:\n",
    "            top_line = i\n",
    "        if bottom_line == -1 and img_array[-i:].mean() != 255:\n",
    "            bottom_line = i\n",
    "        if left_line == -1 and img_array[:, :i].mean() != 255:\n",
    "            left_line = i\n",
    "        if right_line == -1 and img_array[:, -i:].mean() != 255:\n",
    "            right_line = i\n",
    "\n",
    "        if (top_line != -1 and bottom_line != -1\n",
    "            and left_line != -1 and right_line != -1):\n",
    "            can_continue = False\n",
    "        \n",
    "        i += 1\n",
    "\n",
    "    new_img_array = img_array[top_line:-bottom_line, \n",
    "                              left_line:-right_line,\n",
    "                              :]\n",
    "    new_img = Image.fromarray(new_img_array)\n",
    "    new_width = new_img.width\n",
    "    new_height = new_img.height\n",
    "\n",
    "    ratio = new_width - new_height\n",
    "    padding_value = np.abs(ratio) // 2\n",
    "    padding = ()\n",
    "    if ratio > 0:\n",
    "        padding = (0, padding_value, 0, padding_value)\n",
    "    else:\n",
    "        padding = (padding_value, 0, padding_value, 0)\n",
    "        \n",
    "    new_img = ImageOps.expand(new_img, padding, (255, 255, 255))\n",
    "    new_img = new_img.resize(image_size)\n",
    "    new_img.save(output_img_dir + filename)\n"
   ]
  }
 ],
 "metadata": {
  "kernelspec": {
   "display_name": "tenso",
   "language": "python",
   "name": "python3"
  },
  "language_info": {
   "codemirror_mode": {
    "name": "ipython",
    "version": 3
   },
   "file_extension": ".py",
   "mimetype": "text/x-python",
   "name": "python",
   "nbconvert_exporter": "python",
   "pygments_lexer": "ipython3",
   "version": "3.9.16"
  },
  "orig_nbformat": 4
 },
 "nbformat": 4,
 "nbformat_minor": 2
}
