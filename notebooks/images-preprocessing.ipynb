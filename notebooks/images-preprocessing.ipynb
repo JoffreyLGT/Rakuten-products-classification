{
 "cells": [
  {
   "cell_type": "code",
   "execution_count": 65,
   "metadata": {},
   "outputs": [],
   "source": [
    "from src.data import data, analysis\n",
    "\n",
    "\n",
    "DATA_DIR = \"data\"\n",
    "df = data.load_data(DATA_DIR)"
   ]
  },
  {
   "cell_type": "code",
   "execution_count": 52,
   "metadata": {},
   "outputs": [],
   "source": [
    "# Take only a few liens for the development\n",
    "df = df.iloc[:1]"
   ]
  },
  {
   "cell_type": "code",
   "execution_count": 66,
   "metadata": {},
   "outputs": [],
   "source": [
    "from src.data.analysis import get_img_name\n",
    "\n",
    "def get_imgs_path(productids: list[int], imageids: list[int]):\n",
    "    if(len(productids) != len(imageids)):\n",
    "        raise ValueError(\"productids and imageids should be the same size\") \n",
    "    \n",
    "    return [get_img_name(productid, imageid) for productid, imageid in zip(productids, imageids)]\n",
    "\n",
    "filenames = get_imgs_path(df.loc[:, \"productid\"], df.loc[:, \"imageid\"])"
   ]
  },
  {
   "cell_type": "code",
   "execution_count": 68,
   "metadata": {},
   "outputs": [
    {
     "name": "stdout",
     "output_type": "stream",
     "text": [
      "Avancement :  1.18 %\n",
      "Temps restant : 0:27:18\n"
     ]
    },
    {
     "ename": "KeyboardInterrupt",
     "evalue": "",
     "output_type": "error",
     "traceback": [
      "\u001b[0;31m---------------------------------------------------------------------------\u001b[0m",
      "\u001b[0;31mKeyboardInterrupt\u001b[0m                         Traceback (most recent call last)",
      "Cell \u001b[0;32mIn[68], line 70\u001b[0m\n\u001b[1;32m     65\u001b[0m     i \u001b[39m+\u001b[39m\u001b[39m=\u001b[39m \u001b[39m1\u001b[39m\n\u001b[1;32m     67\u001b[0m new_img_array \u001b[39m=\u001b[39m img_array[top_line:\u001b[39m-\u001b[39mbottom_line, \n\u001b[1;32m     68\u001b[0m                           left_line:\u001b[39m-\u001b[39mright_line,\n\u001b[1;32m     69\u001b[0m                           :]\n\u001b[0;32m---> 70\u001b[0m new_img \u001b[39m=\u001b[39m Image\u001b[39m.\u001b[39;49mfromarray(new_img_array)\n\u001b[1;32m     72\u001b[0m \u001b[39mif\u001b[39;00m keep_ratio:\n\u001b[1;32m     73\u001b[0m     new_width \u001b[39m=\u001b[39m new_img\u001b[39m.\u001b[39mwidth\n",
      "File \u001b[0;32m~/miniconda3/envs/tenso/lib/python3.9/site-packages/PIL/Image.py:3099\u001b[0m, in \u001b[0;36mfromarray\u001b[0;34m(obj, mode)\u001b[0m\n\u001b[1;32m   3097\u001b[0m \u001b[39mif\u001b[39;00m strides \u001b[39mis\u001b[39;00m \u001b[39mnot\u001b[39;00m \u001b[39mNone\u001b[39;00m:\n\u001b[1;32m   3098\u001b[0m     \u001b[39mif\u001b[39;00m \u001b[39mhasattr\u001b[39m(obj, \u001b[39m\"\u001b[39m\u001b[39mtobytes\u001b[39m\u001b[39m\"\u001b[39m):\n\u001b[0;32m-> 3099\u001b[0m         obj \u001b[39m=\u001b[39m obj\u001b[39m.\u001b[39;49mtobytes()\n\u001b[1;32m   3100\u001b[0m     \u001b[39melse\u001b[39;00m:\n\u001b[1;32m   3101\u001b[0m         obj \u001b[39m=\u001b[39m obj\u001b[39m.\u001b[39mtostring()\n",
      "\u001b[0;31mKeyboardInterrupt\u001b[0m: "
     ]
    }
   ],
   "source": [
    "import os\n",
    "import time\n",
    "import datetime\n",
    "from PIL import Image, ImageOps\n",
    "import numpy as np\n",
    "from IPython.display import clear_output\n",
    "\n",
    "\n",
    "class Progression():\n",
    "    def __init__(self, total_rows:int, detection:int = 1000):\n",
    "        self.start_time = time.perf_counter()\n",
    "        self.total_rows = total_rows\n",
    "        self.detection = detection\n",
    "\n",
    "    def display(self, current_row_number: int):\n",
    "        if current_row_number == 0:\n",
    "            return\n",
    "        \n",
    "        if current_row_number % self.detection == 0:\n",
    "            time_diff = time.perf_counter() - self.start_time\n",
    "            time_per_row = time_diff / current_row_number\n",
    "            remaining_time = (self.total_rows - current_row_number) * time_per_row\n",
    "\n",
    "            clear_output(wait=True)\n",
    "            print(\"Avancement : \", np.round(current_row_number/self.total_rows*100, 2), \"%\")\n",
    "            print(\"Temps restant :\", datetime.timedelta(seconds=int(remaining_time)))\n",
    "\n",
    "\n",
    "imput_img_dir = \"data/images/image_train/\"\n",
    "output_img_dir = \"data/images/cropped_50/\"\n",
    "image_size = (50, 50)\n",
    "keep_ratio = True\n",
    "\n",
    "if not os.path.exists(output_img_dir):\n",
    "    os.makedirs(output_img_dir)\n",
    "\n",
    "nb_total_imgs = len(filenames)\n",
    "progress = Progression(nb_total_imgs, detection=100)\n",
    "for i, filename in enumerate(filenames):\n",
    "\n",
    "    progress.display(i)\n",
    "\n",
    "    img_array = np.asarray(Image.open(imput_img_dir + filename))\n",
    "    top_line = -1\n",
    "    right_line = -1\n",
    "    bottom_line = -1\n",
    "    left_line = -1\n",
    "\n",
    "    i = 1\n",
    "    can_continue = True\n",
    "    while can_continue:\n",
    "        if top_line == -1 and img_array[:i].mean() != 255:\n",
    "            top_line = i\n",
    "        if bottom_line == -1 and img_array[-i:].mean() != 255:\n",
    "            bottom_line = i\n",
    "        if left_line == -1 and img_array[:, :i].mean() != 255:\n",
    "            left_line = i\n",
    "        if right_line == -1 and img_array[:, -i:].mean() != 255:\n",
    "            right_line = i\n",
    "\n",
    "        if (top_line != -1 and bottom_line != -1\n",
    "            and left_line != -1 and right_line != -1):\n",
    "            can_continue = False\n",
    "        \n",
    "        i += 1\n",
    "\n",
    "    new_img_array = img_array[top_line:-bottom_line, \n",
    "                              left_line:-right_line,\n",
    "                              :]\n",
    "    new_img = Image.fromarray(new_img_array)\n",
    "\n",
    "    if keep_ratio:\n",
    "        new_width = new_img.width\n",
    "        new_height = new_img.height\n",
    "\n",
    "        ratio = new_width - new_height\n",
    "        padding_value = np.abs(ratio) // 2\n",
    "        padding = ()\n",
    "        if ratio > 0:\n",
    "            padding = (0, padding_value, 0, padding_value)\n",
    "        else:\n",
    "            padding = (padding_value, 0, padding_value, 0)\n",
    "            \n",
    "        new_img = ImageOps.expand(new_img, padding, (255, 255, 255))\n",
    "\n",
    "    new_img = new_img.resize(image_size)\n",
    "    new_img.save(output_img_dir + filename)\n"
   ]
  }
 ],
 "metadata": {
  "kernelspec": {
   "display_name": "tenso",
   "language": "python",
   "name": "python3"
  },
  "language_info": {
   "codemirror_mode": {
    "name": "ipython",
    "version": 3
   },
   "file_extension": ".py",
   "mimetype": "text/x-python",
   "name": "python",
   "nbconvert_exporter": "python",
   "pygments_lexer": "ipython3",
   "version": "3.9.16"
  },
  "orig_nbformat": 4
 },
 "nbformat": 4,
 "nbformat_minor": 2
}
