{
 "cells": [
  {
   "attachments": {},
   "cell_type": "markdown",
   "metadata": {},
   "source": [
    "Ce notebook n'est là que pour me permettre de tester le code que je développe avant de l'intégrer dans le streamlit."
   ]
  },
  {
   "cell_type": "code",
   "execution_count": 13,
   "metadata": {},
   "outputs": [
    {
     "ename": "FileNotFoundError",
     "evalue": "[Errno 2] No such file or directory: '../data/pickles/text_preprocessor.pkl'",
     "output_type": "error",
     "traceback": [
      "\u001b[0;31m---------------------------------------------------------------------------\u001b[0m",
      "\u001b[0;31mFileNotFoundError\u001b[0m                         Traceback (most recent call last)",
      "Cell \u001b[0;32mIn[13], line 13\u001b[0m\n\u001b[1;32m      8\u001b[0m importlib\u001b[39m.\u001b[39mreload(models)\n\u001b[1;32m     10\u001b[0m image \u001b[39m=\u001b[39m Image\u001b[39m.\u001b[39mopen(os\u001b[39m.\u001b[39mpath\u001b[39m.\u001b[39mjoin(\u001b[39m\"\u001b[39m\u001b[39mdata\u001b[39m\u001b[39m\"\u001b[39m, \u001b[39m\"\u001b[39m\u001b[39mimages\u001b[39m\u001b[39m\"\u001b[39m, \u001b[39m\"\u001b[39m\u001b[39mimage_train\u001b[39m\u001b[39m\"\u001b[39m,\n\u001b[1;32m     11\u001b[0m                    \u001b[39m\"\u001b[39m\u001b[39mimage_1033285902_product_646660295.jpg\u001b[39m\u001b[39m\"\u001b[39m))\n\u001b[0;32m---> 13\u001b[0m models\u001b[39m.\u001b[39;49mpredict_prdtypecode(\u001b[39m\"\u001b[39;49m\u001b[39mFigurine Skylanders Trap Team Food Fight\u001b[39;49m\u001b[39m\"\u001b[39;49m,\n\u001b[1;32m     14\u001b[0m                           \u001b[39m\"\u001b[39;49m\u001b[39mFigurine skylanders trap team Food Fight d\u001b[39;49m\u001b[39m'\u001b[39;49m\u001b[39mélément vie. <br>Elle fonctionne sur le jeu skylanders trap team.\u001b[39;49m\u001b[39m\"\u001b[39;49m, np\u001b[39m.\u001b[39;49masarray(image))\n",
      "File \u001b[0;32m~/workspace/Fev23_BDS_Rakuten/src/models.py:18\u001b[0m, in \u001b[0;36mpredict_prdtypecode\u001b[0;34m(designation, description, image)\u001b[0m\n\u001b[1;32m     16\u001b[0m \u001b[39mdef\u001b[39;00m \u001b[39mpredict_prdtypecode\u001b[39m(designation: \u001b[39mstr\u001b[39m, description: \u001b[39mstr\u001b[39m, image: np\u001b[39m.\u001b[39marray):\n\u001b[1;32m     17\u001b[0m     \u001b[39m# Load TextPreprocessor already fitted on training data\u001b[39;00m\n\u001b[0;32m---> 18\u001b[0m     \u001b[39mwith\u001b[39;00m \u001b[39mopen\u001b[39;49m(os\u001b[39m.\u001b[39;49mpath\u001b[39m.\u001b[39;49mjoin(PICKLES_DIR, \u001b[39m\"\u001b[39;49m\u001b[39mtext_preprocessor.pkl\u001b[39;49m\u001b[39m\"\u001b[39;49m), \u001b[39m\"\u001b[39;49m\u001b[39mrb\u001b[39;49m\u001b[39m\"\u001b[39;49m) \u001b[39mas\u001b[39;00m fp:\n\u001b[1;32m     19\u001b[0m         text_preprocessor \u001b[39m=\u001b[39m pickle\u001b[39m.\u001b[39mload(fp)\n\u001b[1;32m     21\u001b[0m     \u001b[39m# Load text model\u001b[39;00m\n",
      "\u001b[0;31mFileNotFoundError\u001b[0m: [Errno 2] No such file or directory: '../data/pickles/text_preprocessor.pkl'"
     ]
    }
   ],
   "source": [
    "import importlib\n",
    "import os\n",
    "\n",
    "import numpy as np\n",
    "from src import models\n",
    "from PIL import Image\n",
    "\n",
    "importlib.reload(models)\n",
    "\n",
    "image = Image.open(os.path.join(\"data\", \"images\", \"image_train\",\n",
    "                   \"image_1033285902_product_646660295.jpg\"))\n",
    "\n",
    "models.predict_prdtypecode(\"Figurine Skylanders Trap Team Food Fight\",\n",
    "                           \"Figurine skylanders trap team Food Fight d'élément vie. <br>Elle fonctionne sur le jeu skylanders trap team.\", np.asarray(image))"
   ]
  }
 ],
 "metadata": {
  "kernelspec": {
   "display_name": "sl",
   "language": "python",
   "name": "python3"
  },
  "language_info": {
   "codemirror_mode": {
    "name": "ipython",
    "version": 3
   },
   "file_extension": ".py",
   "mimetype": "text/x-python",
   "name": "python",
   "nbconvert_exporter": "python",
   "pygments_lexer": "ipython3",
   "version": "3.9.16"
  },
  "orig_nbformat": 4
 },
 "nbformat": 4,
 "nbformat_minor": 2
}
