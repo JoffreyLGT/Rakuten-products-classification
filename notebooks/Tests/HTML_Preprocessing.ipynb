{
 "cells": [
  {
   "attachments": {},
   "cell_type": "markdown",
   "metadata": {},
   "source": [
    "## Objectif\n",
    "\n",
    "Démontrer le bon fonctionnement du transformeur `HTMLRemover`."
   ]
  },
  {
   "attachments": {},
   "cell_type": "markdown",
   "metadata": {},
   "source": [
    "## Etat des lieux\n",
    "\n",
    "Nous constatons que la colonne description contient :\n",
    "- des balises HTML (`<div>, <p>, <strong>` etc.)\n",
    "- des caractères encodés (`&#39;`)"
   ]
  },
  {
   "cell_type": "code",
   "execution_count": 1,
   "metadata": {},
   "outputs": [
    {
     "data": {
      "text/plain": [
       "designation             Last Day Of June - Jeu En Téléchargement\n",
       "description    <div> <p><strong>Note :</strong> code d&#39;ac...\n",
       "productid                                             3716121480\n",
       "imageid                                               1236934990\n",
       "prdtypecode                                                 2905\n",
       "Name: 672, dtype: object"
      ]
     },
     "execution_count": 1,
     "metadata": {},
     "output_type": "execute_result"
    }
   ],
   "source": [
    "from src.data import data\n",
    "\n",
    "\n",
    "# Chargement des données et affichage d'une ligne avec code HTML\n",
    "datadir = \"data\"\n",
    "df = data.load_data(datadir).fillna(\"\")\n",
    "df.loc[672]"
   ]
  },
  {
   "attachments": {},
   "cell_type": "markdown",
   "metadata": {},
   "source": [
    "## Implémentation et résultats\n",
    "\n",
    "Les balises ne sont plus et l'apostrophe s'affiche correctement."
   ]
  },
  {
   "cell_type": "code",
   "execution_count": 2,
   "metadata": {},
   "outputs": [
    {
     "data": {
      "text/plain": [
       "designation             Last Day Of June - Jeu En Téléchargement\n",
       "description    Note :  code d'activation à utiliser exclusive...\n",
       "productid                                             3716121480\n",
       "imageid                                               1236934990\n",
       "prdtypecode                                                 2905\n",
       "Name: 672, dtype: object"
      ]
     },
     "execution_count": 2,
     "metadata": {},
     "output_type": "execute_result"
    }
   ],
   "source": [
    "from sklearn.pipeline import Pipeline\n",
    "from src.data.transformer import HTMLRemover\n",
    "\n",
    "\n",
    "pipe = Pipeline(steps=[\n",
    "    (\"htmlremover\", HTMLRemover())\n",
    "])\n",
    "\n",
    "df_transformed = pipe.transform(df)\n",
    "df_transformed.loc[672]"
   ]
  }
 ],
 "metadata": {
  "kernelspec": {
   "display_name": "tenso",
   "language": "python",
   "name": "python3"
  },
  "language_info": {
   "codemirror_mode": {
    "name": "ipython",
    "version": 3
   },
   "file_extension": ".py",
   "mimetype": "text/x-python",
   "name": "python",
   "nbconvert_exporter": "python",
   "pygments_lexer": "ipython3",
   "version": "3.9.16"
  },
  "orig_nbformat": 4
 },
 "nbformat": 4,
 "nbformat_minor": 2
}
