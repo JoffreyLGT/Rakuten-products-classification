{
 "cells": [
  {
   "attachments": {},
   "cell_type": "markdown",
   "metadata": {},
   "source": [
    "## Objectif\n",
    "\n",
    "Démontrer le bon fonctionnement du transformeur `NumRemover`."
   ]
  },
  {
   "attachments": {},
   "cell_type": "markdown",
   "metadata": {},
   "source": [
    "## Etat des lieux\n",
    "\n",
    "Nous constatons que la colonne description contient :\n",
    "- des séquences numérique\n"
   ]
  },
  {
   "cell_type": "code",
   "execution_count": 1,
   "metadata": {},
   "outputs": [
    {
     "data": {
      "text/plain": [
       "designation    Afrique Contemporaine N° 212 Hiver 2004 - Doss...\n",
       "description                                                     \n",
       "productid                                                5862738\n",
       "imageid                                                393356830\n",
       "prdtypecode                                                 2280\n",
       "Name: 5, dtype: object"
      ]
     },
     "execution_count": 1,
     "metadata": {},
     "output_type": "execute_result"
    }
   ],
   "source": [
    "from src.data import data\n",
    "\n",
    "\n",
    "# Chargement des données et affichage d'une ligne avec code HTML\n",
    "datadir = \"data\"\n",
    "df = data.load_data(datadir).fillna(\"\")\n",
    "df.loc[5]"
   ]
  },
  {
   "cell_type": "code",
   "execution_count": 9,
   "metadata": {},
   "outputs": [
    {
     "data": {
      "text/plain": [
       "Index(['designation', 'description', 'productid', 'imageid', 'prdtypecode'], dtype='object')"
      ]
     },
     "execution_count": 9,
     "metadata": {},
     "output_type": "execute_result"
    }
   ],
   "source": [
    "df.columns"
   ]
  },
  {
   "attachments": {},
   "cell_type": "markdown",
   "metadata": {},
   "source": [
    "## Implémentation et résultats\n",
    "\n"
   ]
  },
  {
   "cell_type": "code",
   "execution_count": 2,
   "metadata": {},
   "outputs": [
    {
     "data": {
      "text/plain": [
       "designation    Afrique Contemporaine N° Hiver - Dossier Japon...\n",
       "description                                                     \n",
       "productid                                                5862738\n",
       "imageid                                                393356830\n",
       "prdtypecode                                                 2280\n",
       "Name: 5, dtype: object"
      ]
     },
     "execution_count": 2,
     "metadata": {},
     "output_type": "execute_result"
    }
   ],
   "source": [
    "from sklearn.pipeline import Pipeline\n",
    "import src.data.transformer as transformer\n",
    "import importlib\n",
    "importlib.reload(transformer)\n",
    "\n",
    "pipe = Pipeline(steps=[\n",
    "     (\"numremover\", transformer.NumRemover())\n",
    " ])\n",
    "\n",
    "df_transformed = pipe.transform(df)\n",
    "df_transformed.loc[5]"
   ]
  }
 ],
 "metadata": {
  "kernelspec": {
   "display_name": "tenso",
   "language": "python",
   "name": "python3"
  },
  "language_info": {
   "codemirror_mode": {
    "name": "ipython",
    "version": 3
   },
   "file_extension": ".py",
   "mimetype": "text/x-python",
   "name": "python",
   "nbconvert_exporter": "python",
   "pygments_lexer": "ipython3",
   "version": "3.9.16"
  },
  "orig_nbformat": 4
 },
 "nbformat": 4,
 "nbformat_minor": 2
}
