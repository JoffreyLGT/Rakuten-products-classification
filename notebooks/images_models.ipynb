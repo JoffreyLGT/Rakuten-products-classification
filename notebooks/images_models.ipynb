{
 "cells": [
  {
   "attachments": {},
   "cell_type": "markdown",
   "metadata": {},
   "source": [
    "# Image Models"
   ]
  },
  {
   "attachments": {},
   "cell_type": "markdown",
   "metadata": {},
   "source": [
    "## Objectif\n",
    "\n",
    "Ce notebook permet de générer les jeux de données contenant les pixels des images, puis d'entrainer des modèles."
   ]
  },
  {
   "attachments": {},
   "cell_type": "markdown",
   "metadata": {},
   "source": [
    "## 1. Paramètres des jeux de données\n",
    "\n",
    "Veuillez renseigner les paramètres ci-dessous pour définir les jeux de données"
   ]
  },
  {
   "cell_type": "code",
   "execution_count": null,
   "metadata": {},
   "outputs": [],
   "source": [
    "# Define the dataset size\n",
    "TRAIN_SIZE = 0.8\n",
    "TEST_SIZE = 0.2\n",
    "\n",
    "# Define the images characteristics\n",
    "WIDTH = 100\n",
    "HEIGHT = 100\n",
    "KEEP_RATIO = True\n",
    "GRAYSCALE = True\n",
    "\n",
    "# Number of threads to use with images conversion\n",
    "NB_THREADS = 4"
   ]
  },
  {
   "attachments": {},
   "cell_type": "markdown",
   "metadata": {},
   "source": [
    "## 2. Génération des jeux de données\n",
    "\n",
    "Veuillez executer la cellule ci-dessous. Attention, l'étape de pré-processing des images peut être longue si vous avez un gros jeu de données. "
   ]
  },
  {
   "cell_type": "code",
   "execution_count": null,
   "metadata": {},
   "outputs": [],
   "source": [
    "import os\n",
    "import pickle\n",
    "import src.data.data as data\n",
    "import importlib\n",
    "from src.data import transformer\n",
    "from sklearn.model_selection import train_test_split\n",
    "\n",
    "importlib.reload(transformer)\n",
    "importlib.reload(data)\n",
    "\n",
    "df = data.load_data()\n",
    "target = df[\"prdtypecode\"]\n",
    "features = df.drop(\"prdtypecode\", axis=1)\n",
    "\n",
    "X_train, X_test, y_train, y_test = train_test_split(features, target,\n",
    "                                                    train_size=TRAIN_SIZE, \n",
    "                                                    test_size=TEST_SIZE)\n",
    "\n",
    "transformer = transformer.ImagePipeline(width=WIDTH, height=HEIGHT, \n",
    "                                     keep_ratio=KEEP_RATIO, \n",
    "                                     grayscale=GRAYSCALE,\n",
    "                                     nb_threads=NB_THREADS)\n",
    "\n",
    "img_output_dir = transformer.output_dir.split('/')[1]\n",
    "pipeline = transformer.pipeline\n",
    "\n",
    "print(\"Transformation du jeu de données d'entrainement\")\n",
    "X_train = pipeline.fit_transform(X_train)\n",
    "print(\"Transformation du jeu de données de test\")\n",
    "X_test = pipeline.transform(X_test)\n",
    "\n",
    "files = {\n",
    "    \"data/training/X_train.pkl\": X_train,\n",
    "    \"data/training/X_test.pkl\": X_test,\n",
    "    \"data/training/y_train.pkl\": y_train,\n",
    "    \"data/training/y_test.pkl\": y_test\n",
    "}\n",
    "\n",
    "print(\"Enregistrement des données\")\n",
    "if not os.path.exists(\"data/training\"):\n",
    "    os.makedirs(\"data/training\")\n",
    "\n",
    "for filename in files.keys():\n",
    "    with open(filename,'wb') as fp:\n",
    "            pickle.dump(files[filename], fp)"
   ]
  },
  {
   "attachments": {},
   "cell_type": "markdown",
   "metadata": {},
   "source": [
    "Attention, il est maintenant recommandé de redémarrer le kernel Jupyter pour vider la RAM utilisée par la cellule ci-dessus."
   ]
  },
  {
   "attachments": {},
   "cell_type": "markdown",
   "metadata": {},
   "source": [
    "## 3. Entrainement du modèle\n",
    "\n",
    "Instanciez votre modèle dans la cellule ci-dessous, puis executer les cellules à la suite."
   ]
  },
  {
   "cell_type": "code",
   "execution_count": null,
   "metadata": {},
   "outputs": [],
   "source": [
    "from sklearn.neighbors import KNeighborsClassifier\n",
    "\n",
    "ESTIMATOR_FILE_NAME = \"KNeighborsClassifier_n_neighbors-7\"\n",
    "ESTIMATOR = KNeighborsClassifier(n_neighbors=7, n_jobs=-1)"
   ]
  },
  {
   "cell_type": "code",
   "execution_count": null,
   "metadata": {},
   "outputs": [],
   "source": [
    "from sklearn.metrics import accuracy_score\n",
    "import os\n",
    "import pickle\n",
    "\n",
    "X_train = pickle.load(open(\"data/training/X_train.pkl\", \"rb\"))\n",
    "y_train = pickle.load(open(\"data/training/y_train.pkl\", \"rb\"))\n",
    "\n",
    "X_test = pickle.load(open(\"data/training/X_test.pkl\", \"rb\"))\n",
    "y_test = pickle.load(open(\"data/training/y_test.pkl\", \"rb\"))\n",
    "\n",
    "ESTIMATOR.fit(X_train, y_train)\n",
    "y_train_pred = ESTIMATOR.predict(X_train)\n",
    "print(\"Score train :\", accuracy_score(y_true=y_train, y_pred=y_train_pred))\n",
    "y_test_pred = ESTIMATOR.predict(X_test)\n",
    "print(\"Score test  :\", accuracy_score(y_true=y_test, y_pred=y_test_pred))\n",
    "\n",
    "if not os.path.exists(\"data/models\"):\n",
    "    os.makedirs(\"data/models\")\n",
    "\n",
    "with open(f\"data/models/{ESTIMATOR_FILE_NAME}\",'wb') as fp:\n",
    "    pickle.dump(ESTIMATOR, fp)"
   ]
  }
 ],
 "metadata": {
  "kernelspec": {
   "display_name": "tenso",
   "language": "python",
   "name": "python3"
  },
  "language_info": {
   "codemirror_mode": {
    "name": "ipython",
    "version": 3
   },
   "file_extension": ".py",
   "mimetype": "text/x-python",
   "name": "python",
   "nbconvert_exporter": "python",
   "pygments_lexer": "ipython3",
   "version": "3.9.16"
  },
  "orig_nbformat": 4
 },
 "nbformat": 4,
 "nbformat_minor": 2
}
