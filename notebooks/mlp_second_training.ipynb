{
 "cells": [
  {
   "attachments": {},
   "cell_type": "markdown",
   "metadata": {},
   "source": [
    "# Mise en place"
   ]
  },
  {
   "cell_type": "code",
   "execution_count": 7,
   "metadata": {},
   "outputs": [],
   "source": [
    "from tensorflow import keras\n",
    "import tensorflow as tf\n",
    "import os\n",
    "import pickle\n",
    "from src.data import data\n",
    "import os\n",
    "\n",
    "BATCH_SIZE = 4096\n",
    "\n",
    "# Directory containing the dataset pickles\n",
    "DATA_DIR = os.path.join(\"data\", \"pickle_img_datasets\")\n",
    "# Directory to store model checkpoints\n",
    "CHECKPOINT_DIR = os.path.join(\n",
    "    \"data\", \"models\", \"mlp_model_v2\")\n",
    "CHECKPOINT_PATH = os.path.join(\n",
    "    CHECKPOINT_DIR, \"cp_{val_loss:.2f}-{val_accuracy:.2f}.ckpt\")\n",
    "# Path to the history CSV file to store training metrics\n",
    "HIST_CSV_PATH = os.path.join(CHECKPOINT_DIR, \"history.csv\")\n",
    "\n",
    "# Load data\n",
    "X_train = pickle.load(\n",
    "    open(os.path.join(DATA_DIR, \"X_train.pkl\"), \"rb\")).fillna(\"\")\n",
    "y_train = pickle.load(open(os.path.join(DATA_DIR, \"y_train.pkl\"), \"rb\"))\n",
    "\n",
    "X_test = pickle.load(\n",
    "    open(os.path.join(DATA_DIR, \"X_test.pkl\"), \"rb\")).fillna(\"\")\n",
    "y_test = pickle.load(open(os.path.join(DATA_DIR, \"y_test.pkl\"), \"rb\"))\n",
    "\n",
    "# Extract the features to be ready for preprocessing\n",
    "X_train_features = X_train['designation'] + \" \" + X_train['description']\n",
    "X_test_features = X_test['designation'] + \" \" + X_test['description']\n",
    "\n",
    "# Define DataFrame names for preprocessing\n",
    "X_train_features.name = \"X_train\"\n",
    "X_test_features.name = \"X_test\"\n",
    "\n",
    "# Load text model\n",
    "text_model = keras.models.load_model(\n",
    "    os.path.join(\"data\", \"models\", \"mlp_model_v2.h5\"))"
   ]
  },
  {
   "attachments": {},
   "cell_type": "markdown",
   "metadata": {},
   "source": [
    "## Préprocessing et création des datasets"
   ]
  },
  {
   "cell_type": "code",
   "execution_count": 8,
   "metadata": {},
   "outputs": [
    {
     "name": "stderr",
     "output_type": "stream",
     "text": [
      "INFO:textpipeline:class:TfidfStemming\n",
      "INFO:textpipeline:TextPreprocess.fit X_train 39.89 seconds\n",
      "INFO:textpipeline:TextPreprocess.transform X_test 9.88 seconds\n"
     ]
    }
   ],
   "source": [
    "from src.data.data import PRDTYPECODE_DIC, convert_sparse_matrix_to_sparse_tensor, to_simplified_prdtypecode\n",
    "from src.data.text_preproc_pipeline import TextPreprocess\n",
    "from src.data.vectorization_pipeline import TfidfStemming\n",
    "\n",
    "\n",
    "# Data preprocessing\n",
    "text_preprocessor = TextPreprocess(TfidfStemming())\n",
    "X_train_preproc = text_preprocessor.fit_transform(X_train_features)\n",
    "X_train_preproc_tensor = convert_sparse_matrix_to_sparse_tensor(\n",
    "    X_train_preproc)  # TODO Delete if not usefull anymore\n",
    "X_test_preproc = text_preprocessor.transform(X_test_features)\n",
    "X_test_preproc_tensor = convert_sparse_matrix_to_sparse_tensor(\n",
    "    X_test_preproc)  # TODO Delete if not usefull anymore\n",
    "\n",
    "# Convert the prdtypecode to their equivalent in a range from 0 to 26\n",
    "y_train_simplified = to_simplified_prdtypecode(y_train)\n",
    "# Transforms y_test to a one hot version\n",
    "y_train_categorical = tf.keras.utils.to_categorical(\n",
    "    y_train_simplified, num_classes=len(PRDTYPECODE_DIC.keys()))\n",
    "\n",
    "\n",
    "# Convert the prdtypecode to their equivalent in a range from 0 to 26\n",
    "y_test_simplified = to_simplified_prdtypecode(y_test)\n",
    "# Transforms y_test to a one hot version\n",
    "y_test_categorical = tf.keras.utils.to_categorical(\n",
    "    y_test_simplified, num_classes=len(PRDTYPECODE_DIC.keys()))\n",
    "\n",
    "# Create the Dataset to feed the model with correctly sized images by batch\n",
    "train_dataset = tf.data.Dataset.from_tensor_slices(\n",
    "    (X_train_preproc_tensor, y_train_categorical)).batch(BATCH_SIZE)\n",
    "test_dataset = tf.data.Dataset.from_tensor_slices(\n",
    "    (X_test_preproc_tensor, y_test_categorical)).batch(BATCH_SIZE)"
   ]
  },
  {
   "attachments": {},
   "cell_type": "markdown",
   "metadata": {},
   "source": [
    "# Entrainement"
   ]
  },
  {
   "cell_type": "code",
   "execution_count": 9,
   "metadata": {},
   "outputs": [
    {
     "name": "stdout",
     "output_type": "stream",
     "text": [
      "No checkpoint to load\n",
      "Epoch 1/100\n"
     ]
    },
    {
     "name": "stderr",
     "output_type": "stream",
     "text": [
      "2023-04-24 22:06:51.888408: I tensorflow/core/common_runtime/executor.cc:1197] [/device:CPU:0] (DEBUG INFO) Executor start aborting (this does not indicate an error and you can ignore this message): INVALID_ARGUMENT: You must feed a value for placeholder tensor 'Placeholder/_1' with dtype float and shape [67932,27]\n",
      "\t [[{{node Placeholder/_1}}]]\n",
      "2023-04-24 22:06:52.311456: I tensorflow/compiler/xla/service/service.cc:169] XLA service 0x7f1dafcb7160 initialized for platform CUDA (this does not guarantee that XLA will be used). Devices:\n",
      "2023-04-24 22:06:52.311485: I tensorflow/compiler/xla/service/service.cc:177]   StreamExecutor device (0): NVIDIA GeForce GTX 1070, Compute Capability 6.1\n",
      "2023-04-24 22:06:52.313790: I tensorflow/compiler/mlir/tensorflow/utils/dump_mlir_util.cc:269] disabling MLIR crash reproducer, set env var `MLIR_CRASH_REPRODUCER_DIRECTORY` to enable.\n",
      "2023-04-24 22:06:52.751508: I tensorflow/compiler/xla/stream_executor/cuda/cuda_dnn.cc:424] Loaded cuDNN version 8900\n",
      "2023-04-24 22:06:52.815989: I tensorflow/tsl/platform/default/subprocess.cc:304] Start cannot spawn child process: No such file or directory\n",
      "2023-04-24 22:06:52.845470: I ./tensorflow/compiler/jit/device_compiler.h:180] Compiled cluster using XLA!  This line is logged at most once for the lifetime of the process.\n"
     ]
    },
    {
     "name": "stdout",
     "output_type": "stream",
     "text": [
      "17/17 [==============================] - ETA: 0s - loss: 10.5045 - accuracy: 0.0382\n",
      "Epoch 1: val_accuracy improved from -inf to 0.03468, saving model to data/models/mlp_model_v2/cp_8.45-0.03.ckpt\n"
     ]
    },
    {
     "name": "stderr",
     "output_type": "stream",
     "text": [
      "2023-04-24 22:06:54.657673: I tensorflow/core/common_runtime/executor.cc:1197] [/device:CPU:0] (DEBUG INFO) Executor start aborting (this does not indicate an error and you can ignore this message): INVALID_ARGUMENT: You must feed a value for placeholder tensor 'Placeholder/_1' with dtype float and shape [16984,27]\n",
      "\t [[{{node Placeholder/_1}}]]\n",
      "2023-04-24 22:06:54.834656: I tensorflow/core/common_runtime/executor.cc:1197] [/device:CPU:0] (DEBUG INFO) Executor start aborting (this does not indicate an error and you can ignore this message): INVALID_ARGUMENT: You must feed a value for placeholder tensor 'inputs' with dtype float and shape [?,128]\n",
      "\t [[{{node inputs}}]]\n"
     ]
    },
    {
     "name": "stdout",
     "output_type": "stream",
     "text": [
      "INFO:tensorflow:Assets written to: data/models/mlp_model_v2/cp_8.45-0.03.ckpt/assets\n"
     ]
    },
    {
     "name": "stderr",
     "output_type": "stream",
     "text": [
      "2023-04-24 22:06:54.896625: I tensorflow/core/common_runtime/executor.cc:1197] [/device:CPU:0] (DEBUG INFO) Executor start aborting (this does not indicate an error and you can ignore this message): INVALID_ARGUMENT: You must feed a value for placeholder tensor 'inputs' with dtype float and shape [?,128]\n",
      "\t [[{{node inputs}}]]\n",
      "INFO:tensorflow:Assets written to: data/models/mlp_model_v2/cp_8.45-0.03.ckpt/assets\n"
     ]
    },
    {
     "name": "stdout",
     "output_type": "stream",
     "text": [
      "17/17 [==============================] - 3s 127ms/step - loss: 10.5045 - accuracy: 0.0382 - val_loss: 8.4544 - val_accuracy: 0.0347\n",
      "Epoch 2/100\n",
      "14/17 [=======================>......] - ETA: 0s - loss: 7.8843 - accuracy: 0.0465\n",
      "Epoch 2: val_accuracy improved from 0.03468 to 0.04822, saving model to data/models/mlp_model_v2/cp_5.96-0.05.ckpt\n"
     ]
    },
    {
     "name": "stderr",
     "output_type": "stream",
     "text": [
      "2023-04-24 22:06:55.452964: I tensorflow/core/common_runtime/executor.cc:1197] [/device:CPU:0] (DEBUG INFO) Executor start aborting (this does not indicate an error and you can ignore this message): INVALID_ARGUMENT: You must feed a value for placeholder tensor 'inputs' with dtype float and shape [?,128]\n",
      "\t [[{{node inputs}}]]\n",
      "2023-04-24 22:06:55.499734: I tensorflow/core/common_runtime/executor.cc:1197] [/device:CPU:0] (DEBUG INFO) Executor start aborting (this does not indicate an error and you can ignore this message): INVALID_ARGUMENT: You must feed a value for placeholder tensor 'inputs' with dtype float and shape [?,128]\n",
      "\t [[{{node inputs}}]]\n"
     ]
    },
    {
     "name": "stdout",
     "output_type": "stream",
     "text": [
      "INFO:tensorflow:Assets written to: data/models/mlp_model_v2/cp_5.96-0.05.ckpt/assets\n"
     ]
    },
    {
     "name": "stderr",
     "output_type": "stream",
     "text": [
      "INFO:tensorflow:Assets written to: data/models/mlp_model_v2/cp_5.96-0.05.ckpt/assets\n"
     ]
    },
    {
     "name": "stdout",
     "output_type": "stream",
     "text": [
      "17/17 [==============================] - 1s 35ms/step - loss: 7.6929 - accuracy: 0.0472 - val_loss: 5.9560 - val_accuracy: 0.0482\n",
      "Epoch 3/100\n",
      "16/17 [===========================>..] - ETA: 0s - loss: 5.3084 - accuracy: 0.0830\n",
      "Epoch 3: val_accuracy improved from 0.04822 to 0.14025, saving model to data/models/mlp_model_v2/cp_4.13-0.14.ckpt\n"
     ]
    },
    {
     "name": "stderr",
     "output_type": "stream",
     "text": [
      "2023-04-24 22:06:56.029996: I tensorflow/core/common_runtime/executor.cc:1197] [/device:CPU:0] (DEBUG INFO) Executor start aborting (this does not indicate an error and you can ignore this message): INVALID_ARGUMENT: You must feed a value for placeholder tensor 'inputs' with dtype float and shape [?,128]\n",
      "\t [[{{node inputs}}]]\n",
      "2023-04-24 22:06:56.075884: I tensorflow/core/common_runtime/executor.cc:1197] [/device:CPU:0] (DEBUG INFO) Executor start aborting (this does not indicate an error and you can ignore this message): INVALID_ARGUMENT: You must feed a value for placeholder tensor 'inputs' with dtype float and shape [?,128]\n",
      "\t [[{{node inputs}}]]\n"
     ]
    },
    {
     "name": "stdout",
     "output_type": "stream",
     "text": [
      "INFO:tensorflow:Assets written to: data/models/mlp_model_v2/cp_4.13-0.14.ckpt/assets\n"
     ]
    },
    {
     "name": "stderr",
     "output_type": "stream",
     "text": [
      "INFO:tensorflow:Assets written to: data/models/mlp_model_v2/cp_4.13-0.14.ckpt/assets\n"
     ]
    },
    {
     "name": "stdout",
     "output_type": "stream",
     "text": [
      "17/17 [==============================] - 1s 35ms/step - loss: 5.2778 - accuracy: 0.0846 - val_loss: 4.1312 - val_accuracy: 0.1402\n",
      "Epoch 4/100\n",
      "16/17 [===========================>..] - ETA: 0s - loss: 3.7638 - accuracy: 0.2021\n",
      "Epoch 4: val_accuracy improved from 0.14025 to 0.25041, saving model to data/models/mlp_model_v2/cp_3.14-0.25.ckpt\n",
      "INFO:tensorflow:Assets written to: data/models/mlp_model_v2/cp_3.14-0.25.ckpt/assets\n"
     ]
    },
    {
     "name": "stderr",
     "output_type": "stream",
     "text": [
      "2023-04-24 22:06:56.617074: I tensorflow/core/common_runtime/executor.cc:1197] [/device:CPU:0] (DEBUG INFO) Executor start aborting (this does not indicate an error and you can ignore this message): INVALID_ARGUMENT: You must feed a value for placeholder tensor 'inputs' with dtype float and shape [?,128]\n",
      "\t [[{{node inputs}}]]\n",
      "2023-04-24 22:06:56.663592: I tensorflow/core/common_runtime/executor.cc:1197] [/device:CPU:0] (DEBUG INFO) Executor start aborting (this does not indicate an error and you can ignore this message): INVALID_ARGUMENT: You must feed a value for placeholder tensor 'inputs' with dtype float and shape [?,128]\n",
      "\t [[{{node inputs}}]]\n",
      "INFO:tensorflow:Assets written to: data/models/mlp_model_v2/cp_3.14-0.25.ckpt/assets\n"
     ]
    },
    {
     "name": "stdout",
     "output_type": "stream",
     "text": [
      "17/17 [==============================] - 1s 34ms/step - loss: 3.7472 - accuracy: 0.2040 - val_loss: 3.1421 - val_accuracy: 0.2504\n",
      "Epoch 5/100\n",
      "16/17 [===========================>..] - ETA: 0s - loss: 2.8527 - accuracy: 0.2940\n",
      "Epoch 5: val_accuracy improved from 0.25041 to 0.32195, saving model to data/models/mlp_model_v2/cp_2.49-0.32.ckpt\n"
     ]
    },
    {
     "name": "stderr",
     "output_type": "stream",
     "text": [
      "2023-04-24 22:06:57.192071: I tensorflow/core/common_runtime/executor.cc:1197] [/device:CPU:0] (DEBUG INFO) Executor start aborting (this does not indicate an error and you can ignore this message): INVALID_ARGUMENT: You must feed a value for placeholder tensor 'inputs' with dtype float and shape [?,128]\n",
      "\t [[{{node inputs}}]]\n",
      "2023-04-24 22:06:57.238546: I tensorflow/core/common_runtime/executor.cc:1197] [/device:CPU:0] (DEBUG INFO) Executor start aborting (this does not indicate an error and you can ignore this message): INVALID_ARGUMENT: You must feed a value for placeholder tensor 'inputs' with dtype float and shape [?,128]\n",
      "\t [[{{node inputs}}]]\n"
     ]
    },
    {
     "name": "stdout",
     "output_type": "stream",
     "text": [
      "INFO:tensorflow:Assets written to: data/models/mlp_model_v2/cp_2.49-0.32.ckpt/assets\n"
     ]
    },
    {
     "name": "stderr",
     "output_type": "stream",
     "text": [
      "INFO:tensorflow:Assets written to: data/models/mlp_model_v2/cp_2.49-0.32.ckpt/assets\n"
     ]
    },
    {
     "name": "stdout",
     "output_type": "stream",
     "text": [
      "17/17 [==============================] - 1s 35ms/step - loss: 2.8412 - accuracy: 0.2953 - val_loss: 2.4923 - val_accuracy: 0.3220\n",
      "Epoch 6/100\n",
      "16/17 [===========================>..] - ETA: 0s - loss: 2.2292 - accuracy: 0.3705\n",
      "Epoch 6: val_accuracy improved from 0.32195 to 0.40132, saving model to data/models/mlp_model_v2/cp_2.04-0.40.ckpt\n",
      "INFO:tensorflow:Assets written to: data/models/mlp_model_v2/cp_2.04-0.40.ckpt/assets\n"
     ]
    },
    {
     "name": "stderr",
     "output_type": "stream",
     "text": [
      "2023-04-24 22:06:57.772028: I tensorflow/core/common_runtime/executor.cc:1197] [/device:CPU:0] (DEBUG INFO) Executor start aborting (this does not indicate an error and you can ignore this message): INVALID_ARGUMENT: You must feed a value for placeholder tensor 'inputs' with dtype float and shape [?,128]\n",
      "\t [[{{node inputs}}]]\n",
      "2023-04-24 22:06:57.817667: I tensorflow/core/common_runtime/executor.cc:1197] [/device:CPU:0] (DEBUG INFO) Executor start aborting (this does not indicate an error and you can ignore this message): INVALID_ARGUMENT: You must feed a value for placeholder tensor 'inputs' with dtype float and shape [?,128]\n",
      "\t [[{{node inputs}}]]\n",
      "INFO:tensorflow:Assets written to: data/models/mlp_model_v2/cp_2.04-0.40.ckpt/assets\n"
     ]
    },
    {
     "name": "stdout",
     "output_type": "stream",
     "text": [
      "17/17 [==============================] - 1s 34ms/step - loss: 2.2207 - accuracy: 0.3720 - val_loss: 2.0430 - val_accuracy: 0.4013\n",
      "Epoch 7/100\n",
      "17/17 [==============================] - ETA: 0s - loss: 1.7837 - accuracy: 0.4516\n",
      "Epoch 7: val_accuracy improved from 0.40132 to 0.47297, saving model to data/models/mlp_model_v2/cp_1.73-0.47.ckpt\n",
      "INFO:tensorflow:Assets written to: data/models/mlp_model_v2/cp_1.73-0.47.ckpt/assets\n"
     ]
    },
    {
     "name": "stderr",
     "output_type": "stream",
     "text": [
      "2023-04-24 22:06:58.343176: I tensorflow/core/common_runtime/executor.cc:1197] [/device:CPU:0] (DEBUG INFO) Executor start aborting (this does not indicate an error and you can ignore this message): INVALID_ARGUMENT: You must feed a value for placeholder tensor 'inputs' with dtype float and shape [?,128]\n",
      "\t [[{{node inputs}}]]\n",
      "2023-04-24 22:06:58.387770: I tensorflow/core/common_runtime/executor.cc:1197] [/device:CPU:0] (DEBUG INFO) Executor start aborting (this does not indicate an error and you can ignore this message): INVALID_ARGUMENT: You must feed a value for placeholder tensor 'inputs' with dtype float and shape [?,128]\n",
      "\t [[{{node inputs}}]]\n",
      "INFO:tensorflow:Assets written to: data/models/mlp_model_v2/cp_1.73-0.47.ckpt/assets\n"
     ]
    },
    {
     "name": "stdout",
     "output_type": "stream",
     "text": [
      "17/17 [==============================] - 1s 34ms/step - loss: 1.7837 - accuracy: 0.4516 - val_loss: 1.7278 - val_accuracy: 0.4730\n",
      "Epoch 8/100\n",
      "17/17 [==============================] - ETA: 0s - loss: 1.4688 - accuracy: 0.5342\n",
      "Epoch 8: val_accuracy improved from 0.47297 to 0.54033, saving model to data/models/mlp_model_v2/cp_1.50-0.54.ckpt\n"
     ]
    },
    {
     "name": "stderr",
     "output_type": "stream",
     "text": [
      "2023-04-24 22:06:58.910674: I tensorflow/core/common_runtime/executor.cc:1197] [/device:CPU:0] (DEBUG INFO) Executor start aborting (this does not indicate an error and you can ignore this message): INVALID_ARGUMENT: You must feed a value for placeholder tensor 'inputs' with dtype float and shape [?,128]\n",
      "\t [[{{node inputs}}]]\n",
      "2023-04-24 22:06:58.955380: I tensorflow/core/common_runtime/executor.cc:1197] [/device:CPU:0] (DEBUG INFO) Executor start aborting (this does not indicate an error and you can ignore this message): INVALID_ARGUMENT: You must feed a value for placeholder tensor 'inputs' with dtype float and shape [?,128]\n",
      "\t [[{{node inputs}}]]\n"
     ]
    },
    {
     "name": "stdout",
     "output_type": "stream",
     "text": [
      "INFO:tensorflow:Assets written to: data/models/mlp_model_v2/cp_1.50-0.54.ckpt/assets\n"
     ]
    },
    {
     "name": "stderr",
     "output_type": "stream",
     "text": [
      "INFO:tensorflow:Assets written to: data/models/mlp_model_v2/cp_1.50-0.54.ckpt/assets\n"
     ]
    },
    {
     "name": "stdout",
     "output_type": "stream",
     "text": [
      "17/17 [==============================] - 1s 34ms/step - loss: 1.4688 - accuracy: 0.5342 - val_loss: 1.5011 - val_accuracy: 0.5403\n",
      "Epoch 9/100\n",
      "16/17 [===========================>..] - ETA: 0s - loss: 1.2436 - accuracy: 0.6056\n",
      "Epoch 9: val_accuracy improved from 0.54033 to 0.59232, saving model to data/models/mlp_model_v2/cp_1.33-0.59.ckpt\n",
      "INFO:tensorflow:Assets written to: data/models/mlp_model_v2/cp_1.33-0.59.ckpt/assets\n"
     ]
    },
    {
     "name": "stderr",
     "output_type": "stream",
     "text": [
      "2023-04-24 22:06:59.486395: I tensorflow/core/common_runtime/executor.cc:1197] [/device:CPU:0] (DEBUG INFO) Executor start aborting (this does not indicate an error and you can ignore this message): INVALID_ARGUMENT: You must feed a value for placeholder tensor 'inputs' with dtype float and shape [?,128]\n",
      "\t [[{{node inputs}}]]\n",
      "2023-04-24 22:06:59.530788: I tensorflow/core/common_runtime/executor.cc:1197] [/device:CPU:0] (DEBUG INFO) Executor start aborting (this does not indicate an error and you can ignore this message): INVALID_ARGUMENT: You must feed a value for placeholder tensor 'inputs' with dtype float and shape [?,128]\n",
      "\t [[{{node inputs}}]]\n",
      "INFO:tensorflow:Assets written to: data/models/mlp_model_v2/cp_1.33-0.59.ckpt/assets\n"
     ]
    },
    {
     "name": "stdout",
     "output_type": "stream",
     "text": [
      "17/17 [==============================] - 1s 34ms/step - loss: 1.2394 - accuracy: 0.6066 - val_loss: 1.3343 - val_accuracy: 0.5923\n",
      "Epoch 10/100\n",
      "15/17 [=========================>....] - ETA: 0s - loss: 1.0739 - accuracy: 0.6598\n",
      "Epoch 10: val_accuracy improved from 0.59232 to 0.62942, saving model to data/models/mlp_model_v2/cp_1.21-0.63.ckpt\n",
      "INFO:tensorflow:Assets written to: data/models/mlp_model_v2/cp_1.21-0.63.ckpt/assets\n"
     ]
    },
    {
     "name": "stderr",
     "output_type": "stream",
     "text": [
      "2023-04-24 22:07:00.051791: I tensorflow/core/common_runtime/executor.cc:1197] [/device:CPU:0] (DEBUG INFO) Executor start aborting (this does not indicate an error and you can ignore this message): INVALID_ARGUMENT: You must feed a value for placeholder tensor 'inputs' with dtype float and shape [?,128]\n",
      "\t [[{{node inputs}}]]\n",
      "2023-04-24 22:07:00.095753: I tensorflow/core/common_runtime/executor.cc:1197] [/device:CPU:0] (DEBUG INFO) Executor start aborting (this does not indicate an error and you can ignore this message): INVALID_ARGUMENT: You must feed a value for placeholder tensor 'inputs' with dtype float and shape [?,128]\n",
      "\t [[{{node inputs}}]]\n",
      "INFO:tensorflow:Assets written to: data/models/mlp_model_v2/cp_1.21-0.63.ckpt/assets\n"
     ]
    },
    {
     "name": "stdout",
     "output_type": "stream",
     "text": [
      "17/17 [==============================] - 1s 34ms/step - loss: 1.0661 - accuracy: 0.6617 - val_loss: 1.2085 - val_accuracy: 0.6294\n",
      "Epoch 11/100\n",
      "17/17 [==============================] - ETA: 0s - loss: 0.9280 - accuracy: 0.7092\n",
      "Epoch 11: val_accuracy improved from 0.62942 to 0.66357, saving model to data/models/mlp_model_v2/cp_1.11-0.66.ckpt\n",
      "INFO:tensorflow:Assets written to: data/models/mlp_model_v2/cp_1.11-0.66.ckpt/assets\n"
     ]
    },
    {
     "name": "stderr",
     "output_type": "stream",
     "text": [
      "2023-04-24 22:07:00.625036: I tensorflow/core/common_runtime/executor.cc:1197] [/device:CPU:0] (DEBUG INFO) Executor start aborting (this does not indicate an error and you can ignore this message): INVALID_ARGUMENT: You must feed a value for placeholder tensor 'inputs' with dtype float and shape [?,128]\n",
      "\t [[{{node inputs}}]]\n",
      "2023-04-24 22:07:00.668626: I tensorflow/core/common_runtime/executor.cc:1197] [/device:CPU:0] (DEBUG INFO) Executor start aborting (this does not indicate an error and you can ignore this message): INVALID_ARGUMENT: You must feed a value for placeholder tensor 'inputs' with dtype float and shape [?,128]\n",
      "\t [[{{node inputs}}]]\n",
      "INFO:tensorflow:Assets written to: data/models/mlp_model_v2/cp_1.11-0.66.ckpt/assets\n"
     ]
    },
    {
     "name": "stdout",
     "output_type": "stream",
     "text": [
      "17/17 [==============================] - 1s 34ms/step - loss: 0.9280 - accuracy: 0.7092 - val_loss: 1.1115 - val_accuracy: 0.6636\n",
      "Epoch 12/100\n",
      "17/17 [==============================] - ETA: 0s - loss: 0.8199 - accuracy: 0.7491\n",
      "Epoch 12: val_accuracy improved from 0.66357 to 0.69354, saving model to data/models/mlp_model_v2/cp_1.04-0.69.ckpt\n"
     ]
    },
    {
     "name": "stderr",
     "output_type": "stream",
     "text": [
      "2023-04-24 22:07:01.182146: I tensorflow/core/common_runtime/executor.cc:1197] [/device:CPU:0] (DEBUG INFO) Executor start aborting (this does not indicate an error and you can ignore this message): INVALID_ARGUMENT: You must feed a value for placeholder tensor 'inputs' with dtype float and shape [?,128]\n",
      "\t [[{{node inputs}}]]\n",
      "2023-04-24 22:07:01.225107: I tensorflow/core/common_runtime/executor.cc:1197] [/device:CPU:0] (DEBUG INFO) Executor start aborting (this does not indicate an error and you can ignore this message): INVALID_ARGUMENT: You must feed a value for placeholder tensor 'inputs' with dtype float and shape [?,128]\n",
      "\t [[{{node inputs}}]]\n"
     ]
    },
    {
     "name": "stdout",
     "output_type": "stream",
     "text": [
      "INFO:tensorflow:Assets written to: data/models/mlp_model_v2/cp_1.04-0.69.ckpt/assets\n"
     ]
    },
    {
     "name": "stderr",
     "output_type": "stream",
     "text": [
      "INFO:tensorflow:Assets written to: data/models/mlp_model_v2/cp_1.04-0.69.ckpt/assets\n"
     ]
    },
    {
     "name": "stdout",
     "output_type": "stream",
     "text": [
      "17/17 [==============================] - 1s 34ms/step - loss: 0.8199 - accuracy: 0.7491 - val_loss: 1.0357 - val_accuracy: 0.6935\n",
      "Epoch 13/100\n",
      "17/17 [==============================] - ETA: 0s - loss: 0.7318 - accuracy: 0.7806\n",
      "Epoch 13: val_accuracy improved from 0.69354 to 0.71420, saving model to data/models/mlp_model_v2/cp_0.98-0.71.ckpt\n"
     ]
    },
    {
     "name": "stderr",
     "output_type": "stream",
     "text": [
      "2023-04-24 22:07:01.747065: I tensorflow/core/common_runtime/executor.cc:1197] [/device:CPU:0] (DEBUG INFO) Executor start aborting (this does not indicate an error and you can ignore this message): INVALID_ARGUMENT: You must feed a value for placeholder tensor 'inputs' with dtype float and shape [?,128]\n",
      "\t [[{{node inputs}}]]\n",
      "2023-04-24 22:07:01.791396: I tensorflow/core/common_runtime/executor.cc:1197] [/device:CPU:0] (DEBUG INFO) Executor start aborting (this does not indicate an error and you can ignore this message): INVALID_ARGUMENT: You must feed a value for placeholder tensor 'inputs' with dtype float and shape [?,128]\n",
      "\t [[{{node inputs}}]]\n"
     ]
    },
    {
     "name": "stdout",
     "output_type": "stream",
     "text": [
      "INFO:tensorflow:Assets written to: data/models/mlp_model_v2/cp_0.98-0.71.ckpt/assets\n"
     ]
    },
    {
     "name": "stderr",
     "output_type": "stream",
     "text": [
      "INFO:tensorflow:Assets written to: data/models/mlp_model_v2/cp_0.98-0.71.ckpt/assets\n"
     ]
    },
    {
     "name": "stdout",
     "output_type": "stream",
     "text": [
      "17/17 [==============================] - 1s 46ms/step - loss: 0.7318 - accuracy: 0.7806 - val_loss: 0.9756 - val_accuracy: 0.7142\n",
      "Epoch 14/100\n",
      "16/17 [===========================>..] - ETA: 0s - loss: 0.6627 - accuracy: 0.8054\n",
      "Epoch 14: val_accuracy improved from 0.71420 to 0.72951, saving model to data/models/mlp_model_v2/cp_0.93-0.73.ckpt\n"
     ]
    },
    {
     "name": "stderr",
     "output_type": "stream",
     "text": [
      "2023-04-24 22:07:02.512126: I tensorflow/core/common_runtime/executor.cc:1197] [/device:CPU:0] (DEBUG INFO) Executor start aborting (this does not indicate an error and you can ignore this message): INVALID_ARGUMENT: You must feed a value for placeholder tensor 'inputs' with dtype float and shape [?,128]\n",
      "\t [[{{node inputs}}]]\n",
      "2023-04-24 22:07:02.557123: I tensorflow/core/common_runtime/executor.cc:1197] [/device:CPU:0] (DEBUG INFO) Executor start aborting (this does not indicate an error and you can ignore this message): INVALID_ARGUMENT: You must feed a value for placeholder tensor 'inputs' with dtype float and shape [?,128]\n",
      "\t [[{{node inputs}}]]\n"
     ]
    },
    {
     "name": "stdout",
     "output_type": "stream",
     "text": [
      "INFO:tensorflow:Assets written to: data/models/mlp_model_v2/cp_0.93-0.73.ckpt/assets\n"
     ]
    },
    {
     "name": "stderr",
     "output_type": "stream",
     "text": [
      "INFO:tensorflow:Assets written to: data/models/mlp_model_v2/cp_0.93-0.73.ckpt/assets\n"
     ]
    },
    {
     "name": "stdout",
     "output_type": "stream",
     "text": [
      "17/17 [==============================] - 1s 35ms/step - loss: 0.6593 - accuracy: 0.8063 - val_loss: 0.9272 - val_accuracy: 0.7295\n",
      "Epoch 15/100\n",
      "17/17 [==============================] - ETA: 0s - loss: 0.5983 - accuracy: 0.8291\n",
      "Epoch 15: val_accuracy improved from 0.72951 to 0.74376, saving model to data/models/mlp_model_v2/cp_0.89-0.74.ckpt\n",
      "INFO:tensorflow:Assets written to: data/models/mlp_model_v2/cp_0.89-0.74.ckpt/assets\n"
     ]
    },
    {
     "name": "stderr",
     "output_type": "stream",
     "text": [
      "2023-04-24 22:07:03.091860: I tensorflow/core/common_runtime/executor.cc:1197] [/device:CPU:0] (DEBUG INFO) Executor start aborting (this does not indicate an error and you can ignore this message): INVALID_ARGUMENT: You must feed a value for placeholder tensor 'inputs' with dtype float and shape [?,128]\n",
      "\t [[{{node inputs}}]]\n",
      "2023-04-24 22:07:03.136347: I tensorflow/core/common_runtime/executor.cc:1197] [/device:CPU:0] (DEBUG INFO) Executor start aborting (this does not indicate an error and you can ignore this message): INVALID_ARGUMENT: You must feed a value for placeholder tensor 'inputs' with dtype float and shape [?,128]\n",
      "\t [[{{node inputs}}]]\n",
      "INFO:tensorflow:Assets written to: data/models/mlp_model_v2/cp_0.89-0.74.ckpt/assets\n"
     ]
    },
    {
     "name": "stdout",
     "output_type": "stream",
     "text": [
      "17/17 [==============================] - 1s 33ms/step - loss: 0.5983 - accuracy: 0.8291 - val_loss: 0.8878 - val_accuracy: 0.7438\n",
      "Epoch 16/100\n",
      "16/17 [===========================>..] - ETA: 0s - loss: 0.5509 - accuracy: 0.8466\n",
      "Epoch 16: val_accuracy improved from 0.74376 to 0.75453, saving model to data/models/mlp_model_v2/cp_0.86-0.75.ckpt\n"
     ]
    },
    {
     "name": "stderr",
     "output_type": "stream",
     "text": [
      "2023-04-24 22:07:03.659091: I tensorflow/core/common_runtime/executor.cc:1197] [/device:CPU:0] (DEBUG INFO) Executor start aborting (this does not indicate an error and you can ignore this message): INVALID_ARGUMENT: You must feed a value for placeholder tensor 'inputs' with dtype float and shape [?,128]\n",
      "\t [[{{node inputs}}]]\n",
      "2023-04-24 22:07:03.705605: I tensorflow/core/common_runtime/executor.cc:1197] [/device:CPU:0] (DEBUG INFO) Executor start aborting (this does not indicate an error and you can ignore this message): INVALID_ARGUMENT: You must feed a value for placeholder tensor 'inputs' with dtype float and shape [?,128]\n",
      "\t [[{{node inputs}}]]\n"
     ]
    },
    {
     "name": "stdout",
     "output_type": "stream",
     "text": [
      "INFO:tensorflow:Assets written to: data/models/mlp_model_v2/cp_0.86-0.75.ckpt/assets\n"
     ]
    },
    {
     "name": "stderr",
     "output_type": "stream",
     "text": [
      "INFO:tensorflow:Assets written to: data/models/mlp_model_v2/cp_0.86-0.75.ckpt/assets\n"
     ]
    },
    {
     "name": "stdout",
     "output_type": "stream",
     "text": [
      "17/17 [==============================] - 1s 35ms/step - loss: 0.5476 - accuracy: 0.8479 - val_loss: 0.8553 - val_accuracy: 0.7545\n",
      "Epoch 17/100\n",
      "16/17 [===========================>..] - ETA: 0s - loss: 0.5044 - accuracy: 0.8625\n",
      "Epoch 17: val_accuracy improved from 0.75453 to 0.76295, saving model to data/models/mlp_model_v2/cp_0.83-0.76.ckpt\n",
      "INFO:tensorflow:Assets written to: data/models/mlp_model_v2/cp_0.83-0.76.ckpt/assets\n"
     ]
    },
    {
     "name": "stderr",
     "output_type": "stream",
     "text": [
      "2023-04-24 22:07:04.235932: I tensorflow/core/common_runtime/executor.cc:1197] [/device:CPU:0] (DEBUG INFO) Executor start aborting (this does not indicate an error and you can ignore this message): INVALID_ARGUMENT: You must feed a value for placeholder tensor 'inputs' with dtype float and shape [?,128]\n",
      "\t [[{{node inputs}}]]\n",
      "2023-04-24 22:07:04.280562: I tensorflow/core/common_runtime/executor.cc:1197] [/device:CPU:0] (DEBUG INFO) Executor start aborting (this does not indicate an error and you can ignore this message): INVALID_ARGUMENT: You must feed a value for placeholder tensor 'inputs' with dtype float and shape [?,128]\n",
      "\t [[{{node inputs}}]]\n",
      "INFO:tensorflow:Assets written to: data/models/mlp_model_v2/cp_0.83-0.76.ckpt/assets\n"
     ]
    },
    {
     "name": "stdout",
     "output_type": "stream",
     "text": [
      "17/17 [==============================] - 1s 34ms/step - loss: 0.5013 - accuracy: 0.8636 - val_loss: 0.8283 - val_accuracy: 0.7630\n",
      "Epoch 18/100\n",
      "17/17 [==============================] - ETA: 0s - loss: 0.4637 - accuracy: 0.8775\n",
      "Epoch 18: val_accuracy improved from 0.76295 to 0.76972, saving model to data/models/mlp_model_v2/cp_0.81-0.77.ckpt\n"
     ]
    },
    {
     "name": "stderr",
     "output_type": "stream",
     "text": [
      "2023-04-24 22:07:04.807604: I tensorflow/core/common_runtime/executor.cc:1197] [/device:CPU:0] (DEBUG INFO) Executor start aborting (this does not indicate an error and you can ignore this message): INVALID_ARGUMENT: You must feed a value for placeholder tensor 'inputs' with dtype float and shape [?,128]\n",
      "\t [[{{node inputs}}]]\n",
      "2023-04-24 22:07:04.853571: I tensorflow/core/common_runtime/executor.cc:1197] [/device:CPU:0] (DEBUG INFO) Executor start aborting (this does not indicate an error and you can ignore this message): INVALID_ARGUMENT: You must feed a value for placeholder tensor 'inputs' with dtype float and shape [?,128]\n",
      "\t [[{{node inputs}}]]\n"
     ]
    },
    {
     "name": "stdout",
     "output_type": "stream",
     "text": [
      "INFO:tensorflow:Assets written to: data/models/mlp_model_v2/cp_0.81-0.77.ckpt/assets\n"
     ]
    },
    {
     "name": "stderr",
     "output_type": "stream",
     "text": [
      "INFO:tensorflow:Assets written to: data/models/mlp_model_v2/cp_0.81-0.77.ckpt/assets\n"
     ]
    },
    {
     "name": "stdout",
     "output_type": "stream",
     "text": [
      "17/17 [==============================] - 1s 34ms/step - loss: 0.4637 - accuracy: 0.8775 - val_loss: 0.8057 - val_accuracy: 0.7697\n",
      "Epoch 19/100\n",
      "17/17 [==============================] - ETA: 0s - loss: 0.4298 - accuracy: 0.8880\n",
      "Epoch 19: val_accuracy improved from 0.76972 to 0.77396, saving model to data/models/mlp_model_v2/cp_0.79-0.77.ckpt\n",
      "INFO:tensorflow:Assets written to: data/models/mlp_model_v2/cp_0.79-0.77.ckpt/assets\n"
     ]
    },
    {
     "name": "stderr",
     "output_type": "stream",
     "text": [
      "2023-04-24 22:07:05.384553: I tensorflow/core/common_runtime/executor.cc:1197] [/device:CPU:0] (DEBUG INFO) Executor start aborting (this does not indicate an error and you can ignore this message): INVALID_ARGUMENT: You must feed a value for placeholder tensor 'inputs' with dtype float and shape [?,128]\n",
      "\t [[{{node inputs}}]]\n",
      "2023-04-24 22:07:05.429428: I tensorflow/core/common_runtime/executor.cc:1197] [/device:CPU:0] (DEBUG INFO) Executor start aborting (this does not indicate an error and you can ignore this message): INVALID_ARGUMENT: You must feed a value for placeholder tensor 'inputs' with dtype float and shape [?,128]\n",
      "\t [[{{node inputs}}]]\n",
      "INFO:tensorflow:Assets written to: data/models/mlp_model_v2/cp_0.79-0.77.ckpt/assets\n"
     ]
    },
    {
     "name": "stdout",
     "output_type": "stream",
     "text": [
      "17/17 [==============================] - 1s 34ms/step - loss: 0.4298 - accuracy: 0.8880 - val_loss: 0.7867 - val_accuracy: 0.7740\n",
      "Epoch 20/100\n",
      "17/17 [==============================] - ETA: 0s - loss: 0.4010 - accuracy: 0.8985\n",
      "Epoch 20: val_accuracy improved from 0.77396 to 0.77844, saving model to data/models/mlp_model_v2/cp_0.77-0.78.ckpt\n",
      "INFO:tensorflow:Assets written to: data/models/mlp_model_v2/cp_0.77-0.78.ckpt/assets\n"
     ]
    },
    {
     "name": "stderr",
     "output_type": "stream",
     "text": [
      "2023-04-24 22:07:05.946574: I tensorflow/core/common_runtime/executor.cc:1197] [/device:CPU:0] (DEBUG INFO) Executor start aborting (this does not indicate an error and you can ignore this message): INVALID_ARGUMENT: You must feed a value for placeholder tensor 'inputs' with dtype float and shape [?,128]\n",
      "\t [[{{node inputs}}]]\n",
      "2023-04-24 22:07:05.991712: I tensorflow/core/common_runtime/executor.cc:1197] [/device:CPU:0] (DEBUG INFO) Executor start aborting (this does not indicate an error and you can ignore this message): INVALID_ARGUMENT: You must feed a value for placeholder tensor 'inputs' with dtype float and shape [?,128]\n",
      "\t [[{{node inputs}}]]\n",
      "INFO:tensorflow:Assets written to: data/models/mlp_model_v2/cp_0.77-0.78.ckpt/assets\n"
     ]
    },
    {
     "name": "stdout",
     "output_type": "stream",
     "text": [
      "17/17 [==============================] - 1s 34ms/step - loss: 0.4010 - accuracy: 0.8985 - val_loss: 0.7706 - val_accuracy: 0.7784\n",
      "Epoch 21/100\n",
      "16/17 [===========================>..] - ETA: 0s - loss: 0.3774 - accuracy: 0.9052\n",
      "Epoch 21: val_accuracy improved from 0.77844 to 0.78227, saving model to data/models/mlp_model_v2/cp_0.76-0.78.ckpt\n",
      "INFO:tensorflow:Assets written to: data/models/mlp_model_v2/cp_0.76-0.78.ckpt/assets\n"
     ]
    },
    {
     "name": "stderr",
     "output_type": "stream",
     "text": [
      "2023-04-24 22:07:06.516135: I tensorflow/core/common_runtime/executor.cc:1197] [/device:CPU:0] (DEBUG INFO) Executor start aborting (this does not indicate an error and you can ignore this message): INVALID_ARGUMENT: You must feed a value for placeholder tensor 'inputs' with dtype float and shape [?,128]\n",
      "\t [[{{node inputs}}]]\n",
      "2023-04-24 22:07:06.560094: I tensorflow/core/common_runtime/executor.cc:1197] [/device:CPU:0] (DEBUG INFO) Executor start aborting (this does not indicate an error and you can ignore this message): INVALID_ARGUMENT: You must feed a value for placeholder tensor 'inputs' with dtype float and shape [?,128]\n",
      "\t [[{{node inputs}}]]\n",
      "INFO:tensorflow:Assets written to: data/models/mlp_model_v2/cp_0.76-0.78.ckpt/assets\n"
     ]
    },
    {
     "name": "stdout",
     "output_type": "stream",
     "text": [
      "17/17 [==============================] - 1s 34ms/step - loss: 0.3744 - accuracy: 0.9061 - val_loss: 0.7568 - val_accuracy: 0.7823\n",
      "Epoch 22/100\n",
      "17/17 [==============================] - ETA: 0s - loss: 0.3520 - accuracy: 0.9135\n",
      "Epoch 22: val_accuracy improved from 0.78227 to 0.78615, saving model to data/models/mlp_model_v2/cp_0.74-0.79.ckpt\n",
      "INFO:tensorflow:Assets written to: data/models/mlp_model_v2/cp_0.74-0.79.ckpt/assets\n"
     ]
    },
    {
     "name": "stderr",
     "output_type": "stream",
     "text": [
      "2023-04-24 22:07:07.089740: I tensorflow/core/common_runtime/executor.cc:1197] [/device:CPU:0] (DEBUG INFO) Executor start aborting (this does not indicate an error and you can ignore this message): INVALID_ARGUMENT: You must feed a value for placeholder tensor 'inputs' with dtype float and shape [?,128]\n",
      "\t [[{{node inputs}}]]\n",
      "2023-04-24 22:07:07.132744: I tensorflow/core/common_runtime/executor.cc:1197] [/device:CPU:0] (DEBUG INFO) Executor start aborting (this does not indicate an error and you can ignore this message): INVALID_ARGUMENT: You must feed a value for placeholder tensor 'inputs' with dtype float and shape [?,128]\n",
      "\t [[{{node inputs}}]]\n",
      "INFO:tensorflow:Assets written to: data/models/mlp_model_v2/cp_0.74-0.79.ckpt/assets\n"
     ]
    },
    {
     "name": "stdout",
     "output_type": "stream",
     "text": [
      "17/17 [==============================] - 1s 34ms/step - loss: 0.3520 - accuracy: 0.9135 - val_loss: 0.7450 - val_accuracy: 0.7862\n",
      "Epoch 23/100\n",
      "16/17 [===========================>..] - ETA: 0s - loss: 0.3331 - accuracy: 0.9175\n",
      "Epoch 23: val_accuracy improved from 0.78615 to 0.78921, saving model to data/models/mlp_model_v2/cp_0.73-0.79.ckpt\n",
      "INFO:tensorflow:Assets written to: data/models/mlp_model_v2/cp_0.73-0.79.ckpt/assets\n"
     ]
    },
    {
     "name": "stderr",
     "output_type": "stream",
     "text": [
      "2023-04-24 22:07:07.656814: I tensorflow/core/common_runtime/executor.cc:1197] [/device:CPU:0] (DEBUG INFO) Executor start aborting (this does not indicate an error and you can ignore this message): INVALID_ARGUMENT: You must feed a value for placeholder tensor 'inputs' with dtype float and shape [?,128]\n",
      "\t [[{{node inputs}}]]\n",
      "2023-04-24 22:07:07.699569: I tensorflow/core/common_runtime/executor.cc:1197] [/device:CPU:0] (DEBUG INFO) Executor start aborting (this does not indicate an error and you can ignore this message): INVALID_ARGUMENT: You must feed a value for placeholder tensor 'inputs' with dtype float and shape [?,128]\n",
      "\t [[{{node inputs}}]]\n",
      "INFO:tensorflow:Assets written to: data/models/mlp_model_v2/cp_0.73-0.79.ckpt/assets\n"
     ]
    },
    {
     "name": "stdout",
     "output_type": "stream",
     "text": [
      "17/17 [==============================] - 1s 34ms/step - loss: 0.3304 - accuracy: 0.9185 - val_loss: 0.7348 - val_accuracy: 0.7892\n",
      "Epoch 24/100\n",
      "16/17 [===========================>..] - ETA: 0s - loss: 0.3135 - accuracy: 0.9246\n",
      "Epoch 24: val_accuracy improved from 0.78921 to 0.79257, saving model to data/models/mlp_model_v2/cp_0.73-0.79.ckpt\n",
      "INFO:tensorflow:Assets written to: data/models/mlp_model_v2/cp_0.73-0.79.ckpt/assets\n"
     ]
    },
    {
     "name": "stderr",
     "output_type": "stream",
     "text": [
      "2023-04-24 22:07:08.220528: I tensorflow/core/common_runtime/executor.cc:1197] [/device:CPU:0] (DEBUG INFO) Executor start aborting (this does not indicate an error and you can ignore this message): INVALID_ARGUMENT: You must feed a value for placeholder tensor 'inputs' with dtype float and shape [?,128]\n",
      "\t [[{{node inputs}}]]\n",
      "2023-04-24 22:07:08.263852: I tensorflow/core/common_runtime/executor.cc:1197] [/device:CPU:0] (DEBUG INFO) Executor start aborting (this does not indicate an error and you can ignore this message): INVALID_ARGUMENT: You must feed a value for placeholder tensor 'inputs' with dtype float and shape [?,128]\n",
      "\t [[{{node inputs}}]]\n",
      "INFO:tensorflow:Assets written to: data/models/mlp_model_v2/cp_0.73-0.79.ckpt/assets\n"
     ]
    },
    {
     "name": "stdout",
     "output_type": "stream",
     "text": [
      "17/17 [==============================] - 1s 34ms/step - loss: 0.3108 - accuracy: 0.9254 - val_loss: 0.7261 - val_accuracy: 0.7926\n",
      "Epoch 25/100\n",
      "16/17 [===========================>..] - ETA: 0s - loss: 0.2968 - accuracy: 0.9292\n",
      "Epoch 25: val_accuracy improved from 0.79257 to 0.79328, saving model to data/models/mlp_model_v2/cp_0.72-0.79.ckpt\n",
      "INFO:tensorflow:Assets written to: data/models/mlp_model_v2/cp_0.72-0.79.ckpt/assets\n"
     ]
    },
    {
     "name": "stderr",
     "output_type": "stream",
     "text": [
      "2023-04-24 22:07:08.797113: I tensorflow/core/common_runtime/executor.cc:1197] [/device:CPU:0] (DEBUG INFO) Executor start aborting (this does not indicate an error and you can ignore this message): INVALID_ARGUMENT: You must feed a value for placeholder tensor 'inputs' with dtype float and shape [?,128]\n",
      "\t [[{{node inputs}}]]\n",
      "2023-04-24 22:07:08.840390: I tensorflow/core/common_runtime/executor.cc:1197] [/device:CPU:0] (DEBUG INFO) Executor start aborting (this does not indicate an error and you can ignore this message): INVALID_ARGUMENT: You must feed a value for placeholder tensor 'inputs' with dtype float and shape [?,128]\n",
      "\t [[{{node inputs}}]]\n",
      "INFO:tensorflow:Assets written to: data/models/mlp_model_v2/cp_0.72-0.79.ckpt/assets\n"
     ]
    },
    {
     "name": "stdout",
     "output_type": "stream",
     "text": [
      "17/17 [==============================] - 1s 34ms/step - loss: 0.2941 - accuracy: 0.9303 - val_loss: 0.7185 - val_accuracy: 0.7933\n",
      "Epoch 26/100\n",
      "17/17 [==============================] - ETA: 0s - loss: 0.2791 - accuracy: 0.9342\n",
      "Epoch 26: val_accuracy improved from 0.79328 to 0.79534, saving model to data/models/mlp_model_v2/cp_0.71-0.80.ckpt\n",
      "INFO:tensorflow:Assets written to: data/models/mlp_model_v2/cp_0.71-0.80.ckpt/assets\n"
     ]
    },
    {
     "name": "stderr",
     "output_type": "stream",
     "text": [
      "2023-04-24 22:07:09.358550: I tensorflow/core/common_runtime/executor.cc:1197] [/device:CPU:0] (DEBUG INFO) Executor start aborting (this does not indicate an error and you can ignore this message): INVALID_ARGUMENT: You must feed a value for placeholder tensor 'inputs' with dtype float and shape [?,128]\n",
      "\t [[{{node inputs}}]]\n",
      "2023-04-24 22:07:09.401842: I tensorflow/core/common_runtime/executor.cc:1197] [/device:CPU:0] (DEBUG INFO) Executor start aborting (this does not indicate an error and you can ignore this message): INVALID_ARGUMENT: You must feed a value for placeholder tensor 'inputs' with dtype float and shape [?,128]\n",
      "\t [[{{node inputs}}]]\n",
      "INFO:tensorflow:Assets written to: data/models/mlp_model_v2/cp_0.71-0.80.ckpt/assets\n"
     ]
    },
    {
     "name": "stdout",
     "output_type": "stream",
     "text": [
      "17/17 [==============================] - 1s 34ms/step - loss: 0.2791 - accuracy: 0.9342 - val_loss: 0.7121 - val_accuracy: 0.7953\n",
      "Epoch 27/100\n",
      "17/17 [==============================] - ETA: 0s - loss: 0.2646 - accuracy: 0.9382\n",
      "Epoch 27: val_accuracy improved from 0.79534 to 0.79634, saving model to data/models/mlp_model_v2/cp_0.71-0.80.ckpt\n",
      "INFO:tensorflow:Assets written to: data/models/mlp_model_v2/cp_0.71-0.80.ckpt/assets\n"
     ]
    },
    {
     "name": "stderr",
     "output_type": "stream",
     "text": [
      "2023-04-24 22:07:09.930402: I tensorflow/core/common_runtime/executor.cc:1197] [/device:CPU:0] (DEBUG INFO) Executor start aborting (this does not indicate an error and you can ignore this message): INVALID_ARGUMENT: You must feed a value for placeholder tensor 'inputs' with dtype float and shape [?,128]\n",
      "\t [[{{node inputs}}]]\n",
      "2023-04-24 22:07:09.973840: I tensorflow/core/common_runtime/executor.cc:1197] [/device:CPU:0] (DEBUG INFO) Executor start aborting (this does not indicate an error and you can ignore this message): INVALID_ARGUMENT: You must feed a value for placeholder tensor 'inputs' with dtype float and shape [?,128]\n",
      "\t [[{{node inputs}}]]\n",
      "INFO:tensorflow:Assets written to: data/models/mlp_model_v2/cp_0.71-0.80.ckpt/assets\n"
     ]
    },
    {
     "name": "stdout",
     "output_type": "stream",
     "text": [
      "17/17 [==============================] - 1s 34ms/step - loss: 0.2646 - accuracy: 0.9382 - val_loss: 0.7065 - val_accuracy: 0.7963\n",
      "Epoch 28/100\n",
      "16/17 [===========================>..] - ETA: 0s - loss: 0.2529 - accuracy: 0.9410\n",
      "Epoch 28: val_accuracy improved from 0.79634 to 0.79799, saving model to data/models/mlp_model_v2/cp_0.70-0.80.ckpt\n",
      "INFO:tensorflow:Assets written to: data/models/mlp_model_v2/cp_0.70-0.80.ckpt/assets\n"
     ]
    },
    {
     "name": "stderr",
     "output_type": "stream",
     "text": [
      "2023-04-24 22:07:10.701537: I tensorflow/core/common_runtime/executor.cc:1197] [/device:CPU:0] (DEBUG INFO) Executor start aborting (this does not indicate an error and you can ignore this message): INVALID_ARGUMENT: You must feed a value for placeholder tensor 'inputs' with dtype float and shape [?,128]\n",
      "\t [[{{node inputs}}]]\n",
      "2023-04-24 22:07:10.744937: I tensorflow/core/common_runtime/executor.cc:1197] [/device:CPU:0] (DEBUG INFO) Executor start aborting (this does not indicate an error and you can ignore this message): INVALID_ARGUMENT: You must feed a value for placeholder tensor 'inputs' with dtype float and shape [?,128]\n",
      "\t [[{{node inputs}}]]\n",
      "INFO:tensorflow:Assets written to: data/models/mlp_model_v2/cp_0.70-0.80.ckpt/assets\n"
     ]
    },
    {
     "name": "stdout",
     "output_type": "stream",
     "text": [
      "17/17 [==============================] - 1s 47ms/step - loss: 0.2503 - accuracy: 0.9419 - val_loss: 0.7016 - val_accuracy: 0.7980\n",
      "Epoch 29/100\n",
      "17/17 [==============================] - ETA: 0s - loss: 0.2399 - accuracy: 0.9443\n",
      "Epoch 29: val_accuracy improved from 0.79799 to 0.79975, saving model to data/models/mlp_model_v2/cp_0.70-0.80.ckpt\n"
     ]
    },
    {
     "name": "stderr",
     "output_type": "stream",
     "text": [
      "2023-04-24 22:07:11.275531: I tensorflow/core/common_runtime/executor.cc:1197] [/device:CPU:0] (DEBUG INFO) Executor start aborting (this does not indicate an error and you can ignore this message): INVALID_ARGUMENT: You must feed a value for placeholder tensor 'inputs' with dtype float and shape [?,128]\n",
      "\t [[{{node inputs}}]]\n",
      "2023-04-24 22:07:11.331009: I tensorflow/core/common_runtime/executor.cc:1197] [/device:CPU:0] (DEBUG INFO) Executor start aborting (this does not indicate an error and you can ignore this message): INVALID_ARGUMENT: You must feed a value for placeholder tensor 'inputs' with dtype float and shape [?,128]\n",
      "\t [[{{node inputs}}]]\n"
     ]
    },
    {
     "name": "stdout",
     "output_type": "stream",
     "text": [
      "INFO:tensorflow:Assets written to: data/models/mlp_model_v2/cp_0.70-0.80.ckpt/assets\n"
     ]
    },
    {
     "name": "stderr",
     "output_type": "stream",
     "text": [
      "INFO:tensorflow:Assets written to: data/models/mlp_model_v2/cp_0.70-0.80.ckpt/assets\n"
     ]
    },
    {
     "name": "stdout",
     "output_type": "stream",
     "text": [
      "17/17 [==============================] - 1s 36ms/step - loss: 0.2399 - accuracy: 0.9443 - val_loss: 0.6974 - val_accuracy: 0.7998\n",
      "Epoch 30/100\n",
      "16/17 [===========================>..] - ETA: 0s - loss: 0.2306 - accuracy: 0.9476\n",
      "Epoch 30: val_accuracy improved from 0.79975 to 0.80111, saving model to data/models/mlp_model_v2/cp_0.69-0.80.ckpt\n",
      "INFO:tensorflow:Assets written to: data/models/mlp_model_v2/cp_0.69-0.80.ckpt/assets\n"
     ]
    },
    {
     "name": "stderr",
     "output_type": "stream",
     "text": [
      "2023-04-24 22:07:11.876081: I tensorflow/core/common_runtime/executor.cc:1197] [/device:CPU:0] (DEBUG INFO) Executor start aborting (this does not indicate an error and you can ignore this message): INVALID_ARGUMENT: You must feed a value for placeholder tensor 'inputs' with dtype float and shape [?,128]\n",
      "\t [[{{node inputs}}]]\n",
      "2023-04-24 22:07:11.920026: I tensorflow/core/common_runtime/executor.cc:1197] [/device:CPU:0] (DEBUG INFO) Executor start aborting (this does not indicate an error and you can ignore this message): INVALID_ARGUMENT: You must feed a value for placeholder tensor 'inputs' with dtype float and shape [?,128]\n",
      "\t [[{{node inputs}}]]\n",
      "INFO:tensorflow:Assets written to: data/models/mlp_model_v2/cp_0.69-0.80.ckpt/assets\n"
     ]
    },
    {
     "name": "stdout",
     "output_type": "stream",
     "text": [
      "17/17 [==============================] - 1s 34ms/step - loss: 0.2283 - accuracy: 0.9484 - val_loss: 0.6938 - val_accuracy: 0.8011\n",
      "Epoch 31/100\n",
      "17/17 [==============================] - ETA: 0s - loss: 0.2176 - accuracy: 0.9508\n",
      "Epoch 31: val_accuracy improved from 0.80111 to 0.80258, saving model to data/models/mlp_model_v2/cp_0.69-0.80.ckpt\n"
     ]
    },
    {
     "name": "stderr",
     "output_type": "stream",
     "text": [
      "2023-04-24 22:07:12.448428: I tensorflow/core/common_runtime/executor.cc:1197] [/device:CPU:0] (DEBUG INFO) Executor start aborting (this does not indicate an error and you can ignore this message): INVALID_ARGUMENT: You must feed a value for placeholder tensor 'inputs' with dtype float and shape [?,128]\n",
      "\t [[{{node inputs}}]]\n",
      "2023-04-24 22:07:12.494754: I tensorflow/core/common_runtime/executor.cc:1197] [/device:CPU:0] (DEBUG INFO) Executor start aborting (this does not indicate an error and you can ignore this message): INVALID_ARGUMENT: You must feed a value for placeholder tensor 'inputs' with dtype float and shape [?,128]\n",
      "\t [[{{node inputs}}]]\n"
     ]
    },
    {
     "name": "stdout",
     "output_type": "stream",
     "text": [
      "INFO:tensorflow:Assets written to: data/models/mlp_model_v2/cp_0.69-0.80.ckpt/assets\n"
     ]
    },
    {
     "name": "stderr",
     "output_type": "stream",
     "text": [
      "INFO:tensorflow:Assets written to: data/models/mlp_model_v2/cp_0.69-0.80.ckpt/assets\n"
     ]
    },
    {
     "name": "stdout",
     "output_type": "stream",
     "text": [
      "17/17 [==============================] - 1s 35ms/step - loss: 0.2176 - accuracy: 0.9508 - val_loss: 0.6907 - val_accuracy: 0.8026\n",
      "Epoch 32/100\n",
      "17/17 [==============================] - ETA: 0s - loss: 0.2095 - accuracy: 0.9529\n",
      "Epoch 32: val_accuracy improved from 0.80258 to 0.80334, saving model to data/models/mlp_model_v2/cp_0.69-0.80.ckpt\n"
     ]
    },
    {
     "name": "stderr",
     "output_type": "stream",
     "text": [
      "2023-04-24 22:07:13.031821: I tensorflow/core/common_runtime/executor.cc:1197] [/device:CPU:0] (DEBUG INFO) Executor start aborting (this does not indicate an error and you can ignore this message): INVALID_ARGUMENT: You must feed a value for placeholder tensor 'inputs' with dtype float and shape [?,128]\n",
      "\t [[{{node inputs}}]]\n",
      "2023-04-24 22:07:13.077980: I tensorflow/core/common_runtime/executor.cc:1197] [/device:CPU:0] (DEBUG INFO) Executor start aborting (this does not indicate an error and you can ignore this message): INVALID_ARGUMENT: You must feed a value for placeholder tensor 'inputs' with dtype float and shape [?,128]\n",
      "\t [[{{node inputs}}]]\n"
     ]
    },
    {
     "name": "stdout",
     "output_type": "stream",
     "text": [
      "INFO:tensorflow:Assets written to: data/models/mlp_model_v2/cp_0.69-0.80.ckpt/assets\n"
     ]
    },
    {
     "name": "stderr",
     "output_type": "stream",
     "text": [
      "INFO:tensorflow:Assets written to: data/models/mlp_model_v2/cp_0.69-0.80.ckpt/assets\n"
     ]
    },
    {
     "name": "stdout",
     "output_type": "stream",
     "text": [
      "17/17 [==============================] - 1s 35ms/step - loss: 0.2095 - accuracy: 0.9529 - val_loss: 0.6881 - val_accuracy: 0.8033\n",
      "Epoch 33/100\n",
      "16/17 [===========================>..] - ETA: 0s - loss: 0.2020 - accuracy: 0.9535\n",
      "Epoch 33: val_accuracy improved from 0.80334 to 0.80411, saving model to data/models/mlp_model_v2/cp_0.69-0.80.ckpt\n"
     ]
    },
    {
     "name": "stderr",
     "output_type": "stream",
     "text": [
      "2023-04-24 22:07:13.619879: I tensorflow/core/common_runtime/executor.cc:1197] [/device:CPU:0] (DEBUG INFO) Executor start aborting (this does not indicate an error and you can ignore this message): INVALID_ARGUMENT: You must feed a value for placeholder tensor 'inputs' with dtype float and shape [?,128]\n",
      "\t [[{{node inputs}}]]\n",
      "2023-04-24 22:07:13.663712: I tensorflow/core/common_runtime/executor.cc:1197] [/device:CPU:0] (DEBUG INFO) Executor start aborting (this does not indicate an error and you can ignore this message): INVALID_ARGUMENT: You must feed a value for placeholder tensor 'inputs' with dtype float and shape [?,128]\n",
      "\t [[{{node inputs}}]]\n"
     ]
    },
    {
     "name": "stdout",
     "output_type": "stream",
     "text": [
      "INFO:tensorflow:Assets written to: data/models/mlp_model_v2/cp_0.69-0.80.ckpt/assets\n"
     ]
    },
    {
     "name": "stderr",
     "output_type": "stream",
     "text": [
      "INFO:tensorflow:Assets written to: data/models/mlp_model_v2/cp_0.69-0.80.ckpt/assets\n"
     ]
    },
    {
     "name": "stdout",
     "output_type": "stream",
     "text": [
      "17/17 [==============================] - 1s 35ms/step - loss: 0.1998 - accuracy: 0.9542 - val_loss: 0.6858 - val_accuracy: 0.8041\n",
      "Epoch 34/100\n",
      "17/17 [==============================] - ETA: 0s - loss: 0.1914 - accuracy: 0.9572\n",
      "Epoch 34: val_accuracy improved from 0.80411 to 0.80458, saving model to data/models/mlp_model_v2/cp_0.68-0.80.ckpt\n",
      "INFO:tensorflow:Assets written to: data/models/mlp_model_v2/cp_0.68-0.80.ckpt/assets\n"
     ]
    },
    {
     "name": "stderr",
     "output_type": "stream",
     "text": [
      "2023-04-24 22:07:14.200421: I tensorflow/core/common_runtime/executor.cc:1197] [/device:CPU:0] (DEBUG INFO) Executor start aborting (this does not indicate an error and you can ignore this message): INVALID_ARGUMENT: You must feed a value for placeholder tensor 'inputs' with dtype float and shape [?,128]\n",
      "\t [[{{node inputs}}]]\n",
      "2023-04-24 22:07:14.245990: I tensorflow/core/common_runtime/executor.cc:1197] [/device:CPU:0] (DEBUG INFO) Executor start aborting (this does not indicate an error and you can ignore this message): INVALID_ARGUMENT: You must feed a value for placeholder tensor 'inputs' with dtype float and shape [?,128]\n",
      "\t [[{{node inputs}}]]\n",
      "INFO:tensorflow:Assets written to: data/models/mlp_model_v2/cp_0.68-0.80.ckpt/assets\n"
     ]
    },
    {
     "name": "stdout",
     "output_type": "stream",
     "text": [
      "17/17 [==============================] - 1s 34ms/step - loss: 0.1914 - accuracy: 0.9572 - val_loss: 0.6839 - val_accuracy: 0.8046\n",
      "Epoch 35/100\n",
      "14/17 [=======================>......] - ETA: 0s - loss: 0.1871 - accuracy: 0.9581\n",
      "Epoch 35: val_accuracy improved from 0.80458 to 0.80535, saving model to data/models/mlp_model_v2/cp_0.68-0.81.ckpt\n",
      "INFO:tensorflow:Assets written to: data/models/mlp_model_v2/cp_0.68-0.81.ckpt/assets\n"
     ]
    },
    {
     "name": "stderr",
     "output_type": "stream",
     "text": [
      "2023-04-24 22:07:14.775061: I tensorflow/core/common_runtime/executor.cc:1197] [/device:CPU:0] (DEBUG INFO) Executor start aborting (this does not indicate an error and you can ignore this message): INVALID_ARGUMENT: You must feed a value for placeholder tensor 'inputs' with dtype float and shape [?,128]\n",
      "\t [[{{node inputs}}]]\n",
      "2023-04-24 22:07:14.817580: I tensorflow/core/common_runtime/executor.cc:1197] [/device:CPU:0] (DEBUG INFO) Executor start aborting (this does not indicate an error and you can ignore this message): INVALID_ARGUMENT: You must feed a value for placeholder tensor 'inputs' with dtype float and shape [?,128]\n",
      "\t [[{{node inputs}}]]\n",
      "INFO:tensorflow:Assets written to: data/models/mlp_model_v2/cp_0.68-0.81.ckpt/assets\n"
     ]
    },
    {
     "name": "stdout",
     "output_type": "stream",
     "text": [
      "17/17 [==============================] - 1s 34ms/step - loss: 0.1848 - accuracy: 0.9587 - val_loss: 0.6825 - val_accuracy: 0.8053\n",
      "Epoch 36/100\n",
      "14/17 [=======================>......] - ETA: 0s - loss: 0.1791 - accuracy: 0.9597\n",
      "Epoch 36: val_accuracy improved from 0.80535 to 0.80588, saving model to data/models/mlp_model_v2/cp_0.68-0.81.ckpt\n"
     ]
    },
    {
     "name": "stderr",
     "output_type": "stream",
     "text": [
      "2023-04-24 22:07:15.353906: I tensorflow/core/common_runtime/executor.cc:1197] [/device:CPU:0] (DEBUG INFO) Executor start aborting (this does not indicate an error and you can ignore this message): INVALID_ARGUMENT: You must feed a value for placeholder tensor 'inputs' with dtype float and shape [?,128]\n",
      "\t [[{{node inputs}}]]\n",
      "2023-04-24 22:07:15.398755: I tensorflow/core/common_runtime/executor.cc:1197] [/device:CPU:0] (DEBUG INFO) Executor start aborting (this does not indicate an error and you can ignore this message): INVALID_ARGUMENT: You must feed a value for placeholder tensor 'inputs' with dtype float and shape [?,128]\n",
      "\t [[{{node inputs}}]]\n"
     ]
    },
    {
     "name": "stdout",
     "output_type": "stream",
     "text": [
      "INFO:tensorflow:Assets written to: data/models/mlp_model_v2/cp_0.68-0.81.ckpt/assets\n"
     ]
    },
    {
     "name": "stderr",
     "output_type": "stream",
     "text": [
      "INFO:tensorflow:Assets written to: data/models/mlp_model_v2/cp_0.68-0.81.ckpt/assets\n"
     ]
    },
    {
     "name": "stdout",
     "output_type": "stream",
     "text": [
      "17/17 [==============================] - 1s 35ms/step - loss: 0.1766 - accuracy: 0.9607 - val_loss: 0.6812 - val_accuracy: 0.8059\n",
      "Epoch 37/100\n",
      "16/17 [===========================>..] - ETA: 0s - loss: 0.1718 - accuracy: 0.9626\n",
      "Epoch 37: val_accuracy did not improve from 0.80588\n",
      "17/17 [==============================] - 0s 19ms/step - loss: 0.1698 - accuracy: 0.9633 - val_loss: 0.6801 - val_accuracy: 0.8055\n",
      "Epoch 38/100\n",
      "17/17 [==============================] - ETA: 0s - loss: 0.1634 - accuracy: 0.9643\n",
      "Epoch 38: val_accuracy improved from 0.80588 to 0.80599, saving model to data/models/mlp_model_v2/cp_0.68-0.81.ckpt\n",
      "INFO:tensorflow:Assets written to: data/models/mlp_model_v2/cp_0.68-0.81.ckpt/assets\n"
     ]
    },
    {
     "name": "stderr",
     "output_type": "stream",
     "text": [
      "2023-04-24 22:07:16.260386: I tensorflow/core/common_runtime/executor.cc:1197] [/device:CPU:0] (DEBUG INFO) Executor start aborting (this does not indicate an error and you can ignore this message): INVALID_ARGUMENT: You must feed a value for placeholder tensor 'inputs' with dtype float and shape [?,128]\n",
      "\t [[{{node inputs}}]]\n",
      "2023-04-24 22:07:16.304399: I tensorflow/core/common_runtime/executor.cc:1197] [/device:CPU:0] (DEBUG INFO) Executor start aborting (this does not indicate an error and you can ignore this message): INVALID_ARGUMENT: You must feed a value for placeholder tensor 'inputs' with dtype float and shape [?,128]\n",
      "\t [[{{node inputs}}]]\n",
      "INFO:tensorflow:Assets written to: data/models/mlp_model_v2/cp_0.68-0.81.ckpt/assets\n"
     ]
    },
    {
     "name": "stdout",
     "output_type": "stream",
     "text": [
      "17/17 [==============================] - 1s 34ms/step - loss: 0.1634 - accuracy: 0.9643 - val_loss: 0.6794 - val_accuracy: 0.8060\n",
      "Epoch 39/100\n",
      "16/17 [===========================>..] - ETA: 0s - loss: 0.1598 - accuracy: 0.9648\n",
      "Epoch 39: val_accuracy improved from 0.80599 to 0.80682, saving model to data/models/mlp_model_v2/cp_0.68-0.81.ckpt\n",
      "INFO:tensorflow:Assets written to: data/models/mlp_model_v2/cp_0.68-0.81.ckpt/assets\n"
     ]
    },
    {
     "name": "stderr",
     "output_type": "stream",
     "text": [
      "2023-04-24 22:07:16.832264: I tensorflow/core/common_runtime/executor.cc:1197] [/device:CPU:0] (DEBUG INFO) Executor start aborting (this does not indicate an error and you can ignore this message): INVALID_ARGUMENT: You must feed a value for placeholder tensor 'inputs' with dtype float and shape [?,128]\n",
      "\t [[{{node inputs}}]]\n",
      "2023-04-24 22:07:16.876340: I tensorflow/core/common_runtime/executor.cc:1197] [/device:CPU:0] (DEBUG INFO) Executor start aborting (this does not indicate an error and you can ignore this message): INVALID_ARGUMENT: You must feed a value for placeholder tensor 'inputs' with dtype float and shape [?,128]\n",
      "\t [[{{node inputs}}]]\n",
      "INFO:tensorflow:Assets written to: data/models/mlp_model_v2/cp_0.68-0.81.ckpt/assets\n"
     ]
    },
    {
     "name": "stdout",
     "output_type": "stream",
     "text": [
      "17/17 [==============================] - 1s 34ms/step - loss: 0.1581 - accuracy: 0.9654 - val_loss: 0.6789 - val_accuracy: 0.8068\n",
      "Epoch 40/100\n",
      "16/17 [===========================>..] - ETA: 0s - loss: 0.1538 - accuracy: 0.9667\n",
      "Epoch 40: val_accuracy improved from 0.80682 to 0.80705, saving model to data/models/mlp_model_v2/cp_0.68-0.81.ckpt\n",
      "INFO:tensorflow:Assets written to: data/models/mlp_model_v2/cp_0.68-0.81.ckpt/assets\n"
     ]
    },
    {
     "name": "stderr",
     "output_type": "stream",
     "text": [
      "2023-04-24 22:07:17.399501: I tensorflow/core/common_runtime/executor.cc:1197] [/device:CPU:0] (DEBUG INFO) Executor start aborting (this does not indicate an error and you can ignore this message): INVALID_ARGUMENT: You must feed a value for placeholder tensor 'inputs' with dtype float and shape [?,128]\n",
      "\t [[{{node inputs}}]]\n",
      "2023-04-24 22:07:17.443933: I tensorflow/core/common_runtime/executor.cc:1197] [/device:CPU:0] (DEBUG INFO) Executor start aborting (this does not indicate an error and you can ignore this message): INVALID_ARGUMENT: You must feed a value for placeholder tensor 'inputs' with dtype float and shape [?,128]\n",
      "\t [[{{node inputs}}]]\n",
      "INFO:tensorflow:Assets written to: data/models/mlp_model_v2/cp_0.68-0.81.ckpt/assets\n"
     ]
    },
    {
     "name": "stdout",
     "output_type": "stream",
     "text": [
      "17/17 [==============================] - 1s 34ms/step - loss: 0.1522 - accuracy: 0.9672 - val_loss: 0.6785 - val_accuracy: 0.8071\n",
      "Epoch 41/100\n",
      "17/17 [==============================] - ETA: 0s - loss: 0.1463 - accuracy: 0.9688\n",
      "Epoch 41: val_accuracy did not improve from 0.80705\n",
      "17/17 [==============================] - 0s 19ms/step - loss: 0.1463 - accuracy: 0.9688 - val_loss: 0.6784 - val_accuracy: 0.8066\n",
      "Epoch 42/100\n",
      "17/17 [==============================] - ETA: 0s - loss: 0.1416 - accuracy: 0.9696\n",
      "Epoch 42: val_accuracy improved from 0.80705 to 0.80711, saving model to data/models/mlp_model_v2/cp_0.68-0.81.ckpt\n"
     ]
    },
    {
     "name": "stderr",
     "output_type": "stream",
     "text": [
      "2023-04-24 22:07:18.286762: I tensorflow/core/common_runtime/executor.cc:1197] [/device:CPU:0] (DEBUG INFO) Executor start aborting (this does not indicate an error and you can ignore this message): INVALID_ARGUMENT: You must feed a value for placeholder tensor 'inputs' with dtype float and shape [?,128]\n",
      "\t [[{{node inputs}}]]\n",
      "2023-04-24 22:07:18.329230: I tensorflow/core/common_runtime/executor.cc:1197] [/device:CPU:0] (DEBUG INFO) Executor start aborting (this does not indicate an error and you can ignore this message): INVALID_ARGUMENT: You must feed a value for placeholder tensor 'inputs' with dtype float and shape [?,128]\n",
      "\t [[{{node inputs}}]]\n"
     ]
    },
    {
     "name": "stdout",
     "output_type": "stream",
     "text": [
      "INFO:tensorflow:Assets written to: data/models/mlp_model_v2/cp_0.68-0.81.ckpt/assets\n"
     ]
    },
    {
     "name": "stderr",
     "output_type": "stream",
     "text": [
      "INFO:tensorflow:Assets written to: data/models/mlp_model_v2/cp_0.68-0.81.ckpt/assets\n"
     ]
    },
    {
     "name": "stdout",
     "output_type": "stream",
     "text": [
      "17/17 [==============================] - 1s 35ms/step - loss: 0.1416 - accuracy: 0.9696 - val_loss: 0.6785 - val_accuracy: 0.8071\n",
      "Epoch 43/100\n",
      "17/17 [==============================] - ETA: 0s - loss: 0.1366 - accuracy: 0.9712\n",
      "Epoch 43: val_accuracy improved from 0.80711 to 0.80735, saving model to data/models/mlp_model_v2/cp_0.68-0.81.ckpt\n",
      "INFO:tensorflow:Assets written to: data/models/mlp_model_v2/cp_0.68-0.81.ckpt/assets\n"
     ]
    },
    {
     "name": "stderr",
     "output_type": "stream",
     "text": [
      "2023-04-24 22:07:18.862977: I tensorflow/core/common_runtime/executor.cc:1197] [/device:CPU:0] (DEBUG INFO) Executor start aborting (this does not indicate an error and you can ignore this message): INVALID_ARGUMENT: You must feed a value for placeholder tensor 'inputs' with dtype float and shape [?,128]\n",
      "\t [[{{node inputs}}]]\n",
      "2023-04-24 22:07:18.906835: I tensorflow/core/common_runtime/executor.cc:1197] [/device:CPU:0] (DEBUG INFO) Executor start aborting (this does not indicate an error and you can ignore this message): INVALID_ARGUMENT: You must feed a value for placeholder tensor 'inputs' with dtype float and shape [?,128]\n",
      "\t [[{{node inputs}}]]\n",
      "INFO:tensorflow:Assets written to: data/models/mlp_model_v2/cp_0.68-0.81.ckpt/assets\n"
     ]
    },
    {
     "name": "stdout",
     "output_type": "stream",
     "text": [
      "17/17 [==============================] - 1s 33ms/step - loss: 0.1366 - accuracy: 0.9712 - val_loss: 0.6785 - val_accuracy: 0.8073\n",
      "Epoch 44/100\n",
      "15/17 [=========================>....] - ETA: 0s - loss: 0.1334 - accuracy: 0.9714\n",
      "Epoch 44: val_accuracy improved from 0.80735 to 0.80776, saving model to data/models/mlp_model_v2/cp_0.68-0.81.ckpt\n"
     ]
    },
    {
     "name": "stderr",
     "output_type": "stream",
     "text": [
      "2023-04-24 22:07:19.633268: I tensorflow/core/common_runtime/executor.cc:1197] [/device:CPU:0] (DEBUG INFO) Executor start aborting (this does not indicate an error and you can ignore this message): INVALID_ARGUMENT: You must feed a value for placeholder tensor 'inputs' with dtype float and shape [?,128]\n",
      "\t [[{{node inputs}}]]\n",
      "2023-04-24 22:07:19.678894: I tensorflow/core/common_runtime/executor.cc:1197] [/device:CPU:0] (DEBUG INFO) Executor start aborting (this does not indicate an error and you can ignore this message): INVALID_ARGUMENT: You must feed a value for placeholder tensor 'inputs' with dtype float and shape [?,128]\n",
      "\t [[{{node inputs}}]]\n"
     ]
    },
    {
     "name": "stdout",
     "output_type": "stream",
     "text": [
      "INFO:tensorflow:Assets written to: data/models/mlp_model_v2/cp_0.68-0.81.ckpt/assets\n"
     ]
    },
    {
     "name": "stderr",
     "output_type": "stream",
     "text": [
      "INFO:tensorflow:Assets written to: data/models/mlp_model_v2/cp_0.68-0.81.ckpt/assets\n"
     ]
    },
    {
     "name": "stdout",
     "output_type": "stream",
     "text": [
      "17/17 [==============================] - 1s 47ms/step - loss: 0.1316 - accuracy: 0.9721 - val_loss: 0.6789 - val_accuracy: 0.8078\n",
      "Epoch 45/100\n",
      "16/17 [===========================>..] - ETA: 0s - loss: 0.1287 - accuracy: 0.9731\n",
      "Epoch 45: val_accuracy improved from 0.80776 to 0.80841, saving model to data/models/mlp_model_v2/cp_0.68-0.81.ckpt\n"
     ]
    },
    {
     "name": "stderr",
     "output_type": "stream",
     "text": [
      "2023-04-24 22:07:20.690878: I tensorflow/core/common_runtime/executor.cc:1197] [/device:CPU:0] (DEBUG INFO) Executor start aborting (this does not indicate an error and you can ignore this message): INVALID_ARGUMENT: You must feed a value for placeholder tensor 'inputs' with dtype float and shape [?,128]\n",
      "\t [[{{node inputs}}]]\n",
      "2023-04-24 22:07:20.734907: I tensorflow/core/common_runtime/executor.cc:1197] [/device:CPU:0] (DEBUG INFO) Executor start aborting (this does not indicate an error and you can ignore this message): INVALID_ARGUMENT: You must feed a value for placeholder tensor 'inputs' with dtype float and shape [?,128]\n",
      "\t [[{{node inputs}}]]\n"
     ]
    },
    {
     "name": "stdout",
     "output_type": "stream",
     "text": [
      "INFO:tensorflow:Assets written to: data/models/mlp_model_v2/cp_0.68-0.81.ckpt/assets\n"
     ]
    },
    {
     "name": "stderr",
     "output_type": "stream",
     "text": [
      "INFO:tensorflow:Assets written to: data/models/mlp_model_v2/cp_0.68-0.81.ckpt/assets\n"
     ]
    },
    {
     "name": "stdout",
     "output_type": "stream",
     "text": [
      "17/17 [==============================] - 1s 35ms/step - loss: 0.1272 - accuracy: 0.9735 - val_loss: 0.6793 - val_accuracy: 0.8084\n",
      "Epoch 46/100\n",
      "17/17 [==============================] - ETA: 0s - loss: 0.1238 - accuracy: 0.9740\n",
      "Epoch 46: val_accuracy improved from 0.80841 to 0.80894, saving model to data/models/mlp_model_v2/cp_0.68-0.81.ckpt\n"
     ]
    },
    {
     "name": "stderr",
     "output_type": "stream",
     "text": [
      "2023-04-24 22:07:21.280241: I tensorflow/core/common_runtime/executor.cc:1197] [/device:CPU:0] (DEBUG INFO) Executor start aborting (this does not indicate an error and you can ignore this message): INVALID_ARGUMENT: You must feed a value for placeholder tensor 'inputs' with dtype float and shape [?,128]\n",
      "\t [[{{node inputs}}]]\n",
      "2023-04-24 22:07:21.326088: I tensorflow/core/common_runtime/executor.cc:1197] [/device:CPU:0] (DEBUG INFO) Executor start aborting (this does not indicate an error and you can ignore this message): INVALID_ARGUMENT: You must feed a value for placeholder tensor 'inputs' with dtype float and shape [?,128]\n",
      "\t [[{{node inputs}}]]\n"
     ]
    },
    {
     "name": "stdout",
     "output_type": "stream",
     "text": [
      "INFO:tensorflow:Assets written to: data/models/mlp_model_v2/cp_0.68-0.81.ckpt/assets\n"
     ]
    },
    {
     "name": "stderr",
     "output_type": "stream",
     "text": [
      "INFO:tensorflow:Assets written to: data/models/mlp_model_v2/cp_0.68-0.81.ckpt/assets\n"
     ]
    },
    {
     "name": "stdout",
     "output_type": "stream",
     "text": [
      "17/17 [==============================] - 1s 35ms/step - loss: 0.1238 - accuracy: 0.9740 - val_loss: 0.6798 - val_accuracy: 0.8089\n",
      "Epoch 47/100\n",
      "16/17 [===========================>..] - ETA: 0s - loss: 0.1216 - accuracy: 0.9742\n",
      "Epoch 47: val_accuracy did not improve from 0.80894\n",
      "17/17 [==============================] - 0s 19ms/step - loss: 0.1202 - accuracy: 0.9747 - val_loss: 0.6805 - val_accuracy: 0.8084\n",
      "Epoch 48/100\n",
      "14/17 [=======================>......] - ETA: 0s - loss: 0.1185 - accuracy: 0.9751\n",
      "Epoch 48: val_accuracy did not improve from 0.80894\n",
      "17/17 [==============================] - 0s 19ms/step - loss: 0.1167 - accuracy: 0.9754 - val_loss: 0.6811 - val_accuracy: 0.8085\n",
      "Epoch 49/100\n",
      "16/17 [===========================>..] - ETA: 0s - loss: 0.1135 - accuracy: 0.9764\n",
      "Epoch 49: val_accuracy did not improve from 0.80894\n",
      "17/17 [==============================] - 0s 19ms/step - loss: 0.1122 - accuracy: 0.9770 - val_loss: 0.6821 - val_accuracy: 0.8086\n"
     ]
    },
    {
     "data": {
      "text/plain": [
       "<keras.callbacks.History at 0x7f1fa3d28c70>"
      ]
     },
     "execution_count": 9,
     "metadata": {},
     "output_type": "execute_result"
    }
   ],
   "source": [
    "from tensorflow.keras.callbacks import EarlyStopping, ModelCheckpoint, CSVLogger\n",
    "from tensorflow.keras.optimizers import Adam\n",
    "from tensorflow.train import latest_checkpoint\n",
    "\n",
    "# Callbacks called between each epoch\n",
    "cp_callbacks = [\n",
    "    # Stop the training when there is no improvement in val_accuracy for x epochs\n",
    "    EarlyStopping(monitor='val_accuracy', patience=3),\n",
    "    # Save a checkpoint\n",
    "    ModelCheckpoint(CHECKPOINT_PATH,\n",
    "                    save_best_only=True,\n",
    "                    mode=\"max\",\n",
    "                    monitor=\"val_accuracy\",\n",
    "                    save_weights_only=False,\n",
    "                    verbose=1),\n",
    "    # Insert the metrics into a CSV file\n",
    "    CSVLogger(HIST_CSV_PATH, separator=',', append=True)\n",
    "]\n",
    "\n",
    "latest = latest_checkpoint(CHECKPOINT_DIR)\n",
    "if (latest is not None):\n",
    "    print(\"Loading checkpoint\", latest)\n",
    "    text_model.load_weights(latest)\n",
    "else:\n",
    "    print(\"No checkpoint to load\")\n",
    "\n",
    "\n",
    "loss = 'categorical_crossentropy'\n",
    "optimizer = Adam(learning_rate=1e-3)\n",
    "text_model.compile(optimizer=optimizer, loss=loss, metrics=['accuracy'])\n",
    "\n",
    "text_model.fit(\n",
    "    train_dataset,\n",
    "    epochs=100,\n",
    "    validation_data=test_dataset,\n",
    "    callbacks=cp_callbacks)"
   ]
  },
  {
   "attachments": {},
   "cell_type": "markdown",
   "metadata": {},
   "source": [
    "## Affichage des données d'entrainement"
   ]
  },
  {
   "cell_type": "code",
   "execution_count": 10,
   "metadata": {},
   "outputs": [
    {
     "name": "stderr",
     "output_type": "stream",
     "text": [
      "DEBUG:matplotlib.pyplot:Loaded backend module://matplotlib_inline.backend_inline version unknown.\n",
      "DEBUG:matplotlib.pyplot:Loaded backend module://matplotlib_inline.backend_inline version unknown.\n",
      "DEBUG:matplotlib.font_manager:findfont: Matching sans\\-serif:style=normal:variant=normal:weight=normal:stretch=normal:size=10.0.\n",
      "DEBUG:matplotlib.font_manager:findfont: score(FontEntry(fname='/home/joff/miniconda3/envs/tf/lib/python3.9/site-packages/matplotlib/mpl-data/fonts/ttf/STIXSizThreeSymBol.ttf', name='STIXSizeThreeSym', style='normal', variant='normal', weight=700, stretch='normal', size='scalable')) = 10.335\n",
      "DEBUG:matplotlib.font_manager:findfont: score(FontEntry(fname='/home/joff/miniconda3/envs/tf/lib/python3.9/site-packages/matplotlib/mpl-data/fonts/ttf/DejaVuSerif.ttf', name='DejaVu Serif', style='normal', variant='normal', weight=400, stretch='normal', size='scalable')) = 10.05\n",
      "DEBUG:matplotlib.font_manager:findfont: score(FontEntry(fname='/home/joff/miniconda3/envs/tf/lib/python3.9/site-packages/matplotlib/mpl-data/fonts/ttf/cmb10.ttf', name='cmb10', style='normal', variant='normal', weight=400, stretch='normal', size='scalable')) = 10.05\n",
      "DEBUG:matplotlib.font_manager:findfont: score(FontEntry(fname='/home/joff/miniconda3/envs/tf/lib/python3.9/site-packages/matplotlib/mpl-data/fonts/ttf/cmr10.ttf', name='cmr10', style='normal', variant='normal', weight=400, stretch='normal', size='scalable')) = 10.05\n",
      "DEBUG:matplotlib.font_manager:findfont: score(FontEntry(fname='/home/joff/miniconda3/envs/tf/lib/python3.9/site-packages/matplotlib/mpl-data/fonts/ttf/STIXNonUni.ttf', name='STIXNonUnicode', style='normal', variant='normal', weight=400, stretch='normal', size='scalable')) = 10.05\n",
      "DEBUG:matplotlib.font_manager:findfont: score(FontEntry(fname='/home/joff/miniconda3/envs/tf/lib/python3.9/site-packages/matplotlib/mpl-data/fonts/ttf/STIXGeneralBolIta.ttf', name='STIXGeneral', style='italic', variant='normal', weight=700, stretch='normal', size='scalable')) = 11.335\n",
      "DEBUG:matplotlib.font_manager:findfont: score(FontEntry(fname='/home/joff/miniconda3/envs/tf/lib/python3.9/site-packages/matplotlib/mpl-data/fonts/ttf/DejaVuSansMono-BoldOblique.ttf', name='DejaVu Sans Mono', style='oblique', variant='normal', weight=700, stretch='normal', size='scalable')) = 11.335\n",
      "DEBUG:matplotlib.font_manager:findfont: score(FontEntry(fname='/home/joff/miniconda3/envs/tf/lib/python3.9/site-packages/matplotlib/mpl-data/fonts/ttf/STIXSizOneSymReg.ttf', name='STIXSizeOneSym', style='normal', variant='normal', weight=400, stretch='normal', size='scalable')) = 10.05\n",
      "DEBUG:matplotlib.font_manager:findfont: score(FontEntry(fname='/home/joff/miniconda3/envs/tf/lib/python3.9/site-packages/matplotlib/mpl-data/fonts/ttf/STIXSizThreeSymReg.ttf', name='STIXSizeThreeSym', style='normal', variant='normal', weight=400, stretch='normal', size='scalable')) = 10.05\n",
      "DEBUG:matplotlib.font_manager:findfont: score(FontEntry(fname='/home/joff/miniconda3/envs/tf/lib/python3.9/site-packages/matplotlib/mpl-data/fonts/ttf/DejaVuSansMono-Bold.ttf', name='DejaVu Sans Mono', style='normal', variant='normal', weight=700, stretch='normal', size='scalable')) = 10.335\n",
      "DEBUG:matplotlib.font_manager:findfont: score(FontEntry(fname='/home/joff/miniconda3/envs/tf/lib/python3.9/site-packages/matplotlib/mpl-data/fonts/ttf/STIXSizFourSymReg.ttf', name='STIXSizeFourSym', style='normal', variant='normal', weight=400, stretch='normal', size='scalable')) = 10.05\n",
      "DEBUG:matplotlib.font_manager:findfont: score(FontEntry(fname='/home/joff/miniconda3/envs/tf/lib/python3.9/site-packages/matplotlib/mpl-data/fonts/ttf/DejaVuSansMono.ttf', name='DejaVu Sans Mono', style='normal', variant='normal', weight=400, stretch='normal', size='scalable')) = 10.05\n",
      "DEBUG:matplotlib.font_manager:findfont: score(FontEntry(fname='/home/joff/miniconda3/envs/tf/lib/python3.9/site-packages/matplotlib/mpl-data/fonts/ttf/STIXNonUniBol.ttf', name='STIXNonUnicode', style='normal', variant='normal', weight=700, stretch='normal', size='scalable')) = 10.335\n",
      "DEBUG:matplotlib.font_manager:findfont: score(FontEntry(fname='/home/joff/miniconda3/envs/tf/lib/python3.9/site-packages/matplotlib/mpl-data/fonts/ttf/STIXGeneralBol.ttf', name='STIXGeneral', style='normal', variant='normal', weight=700, stretch='normal', size='scalable')) = 10.335\n",
      "DEBUG:matplotlib.font_manager:findfont: score(FontEntry(fname='/home/joff/miniconda3/envs/tf/lib/python3.9/site-packages/matplotlib/mpl-data/fonts/ttf/cmtt10.ttf', name='cmtt10', style='normal', variant='normal', weight=400, stretch='normal', size='scalable')) = 10.05\n",
      "DEBUG:matplotlib.font_manager:findfont: score(FontEntry(fname='/home/joff/miniconda3/envs/tf/lib/python3.9/site-packages/matplotlib/mpl-data/fonts/ttf/STIXSizFourSymBol.ttf', name='STIXSizeFourSym', style='normal', variant='normal', weight=700, stretch='normal', size='scalable')) = 10.335\n",
      "DEBUG:matplotlib.font_manager:findfont: score(FontEntry(fname='/home/joff/miniconda3/envs/tf/lib/python3.9/site-packages/matplotlib/mpl-data/fonts/ttf/STIXGeneral.ttf', name='STIXGeneral', style='normal', variant='normal', weight=400, stretch='normal', size='scalable')) = 10.05\n",
      "DEBUG:matplotlib.font_manager:findfont: score(FontEntry(fname='/home/joff/miniconda3/envs/tf/lib/python3.9/site-packages/matplotlib/mpl-data/fonts/ttf/cmmi10.ttf', name='cmmi10', style='normal', variant='normal', weight=400, stretch='normal', size='scalable')) = 10.05\n",
      "DEBUG:matplotlib.font_manager:findfont: score(FontEntry(fname='/home/joff/miniconda3/envs/tf/lib/python3.9/site-packages/matplotlib/mpl-data/fonts/ttf/cmss10.ttf', name='cmss10', style='normal', variant='normal', weight=400, stretch='normal', size='scalable')) = 10.05\n",
      "DEBUG:matplotlib.font_manager:findfont: score(FontEntry(fname='/home/joff/miniconda3/envs/tf/lib/python3.9/site-packages/matplotlib/mpl-data/fonts/ttf/DejaVuSerif-BoldItalic.ttf', name='DejaVu Serif', style='italic', variant='normal', weight=700, stretch='normal', size='scalable')) = 11.335\n",
      "DEBUG:matplotlib.font_manager:findfont: score(FontEntry(fname='/home/joff/miniconda3/envs/tf/lib/python3.9/site-packages/matplotlib/mpl-data/fonts/ttf/STIXNonUniBolIta.ttf', name='STIXNonUnicode', style='italic', variant='normal', weight=700, stretch='normal', size='scalable')) = 11.335\n",
      "DEBUG:matplotlib.font_manager:findfont: score(FontEntry(fname='/home/joff/miniconda3/envs/tf/lib/python3.9/site-packages/matplotlib/mpl-data/fonts/ttf/STIXSizOneSymBol.ttf', name='STIXSizeOneSym', style='normal', variant='normal', weight=700, stretch='normal', size='scalable')) = 10.335\n",
      "DEBUG:matplotlib.font_manager:findfont: score(FontEntry(fname='/home/joff/miniconda3/envs/tf/lib/python3.9/site-packages/matplotlib/mpl-data/fonts/ttf/DejaVuSansMono-Oblique.ttf', name='DejaVu Sans Mono', style='oblique', variant='normal', weight=400, stretch='normal', size='scalable')) = 11.05\n",
      "DEBUG:matplotlib.font_manager:findfont: score(FontEntry(fname='/home/joff/miniconda3/envs/tf/lib/python3.9/site-packages/matplotlib/mpl-data/fonts/ttf/cmsy10.ttf', name='cmsy10', style='normal', variant='normal', weight=400, stretch='normal', size='scalable')) = 10.05\n",
      "DEBUG:matplotlib.font_manager:findfont: score(FontEntry(fname='/home/joff/miniconda3/envs/tf/lib/python3.9/site-packages/matplotlib/mpl-data/fonts/ttf/DejaVuSerif-Italic.ttf', name='DejaVu Serif', style='italic', variant='normal', weight=400, stretch='normal', size='scalable')) = 11.05\n",
      "DEBUG:matplotlib.font_manager:findfont: score(FontEntry(fname='/home/joff/miniconda3/envs/tf/lib/python3.9/site-packages/matplotlib/mpl-data/fonts/ttf/STIXSizTwoSymBol.ttf', name='STIXSizeTwoSym', style='normal', variant='normal', weight=700, stretch='normal', size='scalable')) = 10.335\n",
      "DEBUG:matplotlib.font_manager:findfont: score(FontEntry(fname='/home/joff/miniconda3/envs/tf/lib/python3.9/site-packages/matplotlib/mpl-data/fonts/ttf/DejaVuSans-Oblique.ttf', name='DejaVu Sans', style='oblique', variant='normal', weight=400, stretch='normal', size='scalable')) = 1.05\n",
      "DEBUG:matplotlib.font_manager:findfont: score(FontEntry(fname='/home/joff/miniconda3/envs/tf/lib/python3.9/site-packages/matplotlib/mpl-data/fonts/ttf/DejaVuSansDisplay.ttf', name='DejaVu Sans Display', style='normal', variant='normal', weight=400, stretch='normal', size='scalable')) = 10.05\n",
      "DEBUG:matplotlib.font_manager:findfont: score(FontEntry(fname='/home/joff/miniconda3/envs/tf/lib/python3.9/site-packages/matplotlib/mpl-data/fonts/ttf/STIXGeneralItalic.ttf', name='STIXGeneral', style='italic', variant='normal', weight=400, stretch='normal', size='scalable')) = 11.05\n",
      "DEBUG:matplotlib.font_manager:findfont: score(FontEntry(fname='/home/joff/miniconda3/envs/tf/lib/python3.9/site-packages/matplotlib/mpl-data/fonts/ttf/DejaVuSans-BoldOblique.ttf', name='DejaVu Sans', style='oblique', variant='normal', weight=700, stretch='normal', size='scalable')) = 1.335\n",
      "DEBUG:matplotlib.font_manager:findfont: score(FontEntry(fname='/home/joff/miniconda3/envs/tf/lib/python3.9/site-packages/matplotlib/mpl-data/fonts/ttf/cmex10.ttf', name='cmex10', style='normal', variant='normal', weight=400, stretch='normal', size='scalable')) = 10.05\n",
      "DEBUG:matplotlib.font_manager:findfont: score(FontEntry(fname='/home/joff/miniconda3/envs/tf/lib/python3.9/site-packages/matplotlib/mpl-data/fonts/ttf/DejaVuSerif-Bold.ttf', name='DejaVu Serif', style='normal', variant='normal', weight=700, stretch='normal', size='scalable')) = 10.335\n",
      "DEBUG:matplotlib.font_manager:findfont: score(FontEntry(fname='/home/joff/miniconda3/envs/tf/lib/python3.9/site-packages/matplotlib/mpl-data/fonts/ttf/STIXNonUniIta.ttf', name='STIXNonUnicode', style='italic', variant='normal', weight=400, stretch='normal', size='scalable')) = 11.05\n",
      "DEBUG:matplotlib.font_manager:findfont: score(FontEntry(fname='/home/joff/miniconda3/envs/tf/lib/python3.9/site-packages/matplotlib/mpl-data/fonts/ttf/DejaVuSerifDisplay.ttf', name='DejaVu Serif Display', style='normal', variant='normal', weight=400, stretch='normal', size='scalable')) = 10.05\n",
      "DEBUG:matplotlib.font_manager:findfont: score(FontEntry(fname='/home/joff/miniconda3/envs/tf/lib/python3.9/site-packages/matplotlib/mpl-data/fonts/ttf/STIXSizFiveSymReg.ttf', name='STIXSizeFiveSym', style='normal', variant='normal', weight=400, stretch='normal', size='scalable')) = 10.05\n",
      "DEBUG:matplotlib.font_manager:findfont: score(FontEntry(fname='/home/joff/miniconda3/envs/tf/lib/python3.9/site-packages/matplotlib/mpl-data/fonts/ttf/DejaVuSans.ttf', name='DejaVu Sans', style='normal', variant='normal', weight=400, stretch='normal', size='scalable')) = 0.05\n",
      "DEBUG:matplotlib.font_manager:findfont: score(FontEntry(fname='/home/joff/miniconda3/envs/tf/lib/python3.9/site-packages/matplotlib/mpl-data/fonts/ttf/STIXSizTwoSymReg.ttf', name='STIXSizeTwoSym', style='normal', variant='normal', weight=400, stretch='normal', size='scalable')) = 10.05\n",
      "DEBUG:matplotlib.font_manager:findfont: score(FontEntry(fname='/home/joff/miniconda3/envs/tf/lib/python3.9/site-packages/matplotlib/mpl-data/fonts/ttf/DejaVuSans-Bold.ttf', name='DejaVu Sans', style='normal', variant='normal', weight=700, stretch='normal', size='scalable')) = 0.33499999999999996\n",
      "DEBUG:matplotlib.font_manager:findfont: score(FontEntry(fname='/usr/share/fonts/truetype/ubuntu/Ubuntu-BI.ttf', name='Ubuntu', style='italic', variant='normal', weight=700, stretch='normal', size='scalable')) = 11.335\n",
      "DEBUG:matplotlib.font_manager:findfont: score(FontEntry(fname='/usr/share/fonts/truetype/ubuntu/UbuntuMono-RI.ttf', name='Ubuntu Mono', style='italic', variant='normal', weight=400, stretch='normal', size='scalable')) = 11.05\n",
      "DEBUG:matplotlib.font_manager:findfont: score(FontEntry(fname='/usr/share/fonts/truetype/ubuntu/Ubuntu-Th.ttf', name='Ubuntu', style='normal', variant='normal', weight=250, stretch='normal', size='scalable')) = 10.1925\n",
      "DEBUG:matplotlib.font_manager:findfont: score(FontEntry(fname='/usr/share/fonts/truetype/ubuntu/Ubuntu-RI.ttf', name='Ubuntu', style='italic', variant='normal', weight=400, stretch='normal', size='scalable')) = 11.05\n",
      "DEBUG:matplotlib.font_manager:findfont: score(FontEntry(fname='/usr/share/fonts/truetype/ubuntu/Ubuntu-M.ttf', name='Ubuntu', style='normal', variant='normal', weight=500, stretch='normal', size='scalable')) = 10.145\n",
      "DEBUG:matplotlib.font_manager:findfont: score(FontEntry(fname='/usr/share/fonts/truetype/ubuntu/UbuntuMono-B.ttf', name='Ubuntu Mono', style='normal', variant='normal', weight=700, stretch='normal', size='scalable')) = 10.335\n",
      "DEBUG:matplotlib.font_manager:findfont: score(FontEntry(fname='/usr/share/fonts/truetype/ubuntu/UbuntuMono-BI.ttf', name='Ubuntu Mono', style='italic', variant='normal', weight=700, stretch='normal', size='scalable')) = 11.335\n",
      "DEBUG:matplotlib.font_manager:findfont: score(FontEntry(fname='/usr/share/fonts/truetype/ubuntu/Ubuntu-B.ttf', name='Ubuntu', style='normal', variant='normal', weight=700, stretch='normal', size='scalable')) = 10.335\n",
      "DEBUG:matplotlib.font_manager:findfont: score(FontEntry(fname='/usr/share/fonts/truetype/ubuntu/Ubuntu-LI.ttf', name='Ubuntu', style='italic', variant='normal', weight=300, stretch='normal', size='scalable')) = 11.145\n",
      "DEBUG:matplotlib.font_manager:findfont: score(FontEntry(fname='/usr/share/fonts/truetype/ubuntu/UbuntuMono-R.ttf', name='Ubuntu Mono', style='normal', variant='normal', weight=400, stretch='normal', size='scalable')) = 10.05\n",
      "DEBUG:matplotlib.font_manager:findfont: score(FontEntry(fname='/usr/share/fonts/truetype/ubuntu/Ubuntu-MI.ttf', name='Ubuntu', style='italic', variant='normal', weight=500, stretch='normal', size='scalable')) = 11.145\n",
      "DEBUG:matplotlib.font_manager:findfont: score(FontEntry(fname='/usr/share/fonts/truetype/ubuntu/Ubuntu-L.ttf', name='Ubuntu', style='normal', variant='normal', weight=300, stretch='normal', size='scalable')) = 10.145\n",
      "DEBUG:matplotlib.font_manager:findfont: score(FontEntry(fname='/usr/share/fonts/truetype/ubuntu/Ubuntu-R.ttf', name='Ubuntu', style='normal', variant='normal', weight=400, stretch='normal', size='scalable')) = 10.05\n",
      "DEBUG:matplotlib.font_manager:findfont: score(FontEntry(fname='/usr/share/fonts/truetype/ubuntu/Ubuntu-C.ttf', name='Ubuntu Condensed', style='normal', variant='normal', weight=400, stretch='condensed', size='scalable')) = 10.25\n",
      "DEBUG:matplotlib.font_manager:findfont: Matching sans\\-serif:style=normal:variant=normal:weight=normal:stretch=normal:size=10.0 to DejaVu Sans ('/home/joff/miniconda3/envs/tf/lib/python3.9/site-packages/matplotlib/mpl-data/fonts/ttf/DejaVuSans.ttf') with score of 0.050000.\n",
      "DEBUG:matplotlib.font_manager:findfont: Matching sans\\-serif:style=normal:variant=normal:weight=normal:stretch=normal:size=12.0.\n",
      "DEBUG:matplotlib.font_manager:findfont: score(FontEntry(fname='/home/joff/miniconda3/envs/tf/lib/python3.9/site-packages/matplotlib/mpl-data/fonts/ttf/STIXSizThreeSymBol.ttf', name='STIXSizeThreeSym', style='normal', variant='normal', weight=700, stretch='normal', size='scalable')) = 10.335\n",
      "DEBUG:matplotlib.font_manager:findfont: score(FontEntry(fname='/home/joff/miniconda3/envs/tf/lib/python3.9/site-packages/matplotlib/mpl-data/fonts/ttf/DejaVuSerif.ttf', name='DejaVu Serif', style='normal', variant='normal', weight=400, stretch='normal', size='scalable')) = 10.05\n",
      "DEBUG:matplotlib.font_manager:findfont: score(FontEntry(fname='/home/joff/miniconda3/envs/tf/lib/python3.9/site-packages/matplotlib/mpl-data/fonts/ttf/cmb10.ttf', name='cmb10', style='normal', variant='normal', weight=400, stretch='normal', size='scalable')) = 10.05\n",
      "DEBUG:matplotlib.font_manager:findfont: score(FontEntry(fname='/home/joff/miniconda3/envs/tf/lib/python3.9/site-packages/matplotlib/mpl-data/fonts/ttf/cmr10.ttf', name='cmr10', style='normal', variant='normal', weight=400, stretch='normal', size='scalable')) = 10.05\n",
      "DEBUG:matplotlib.font_manager:findfont: score(FontEntry(fname='/home/joff/miniconda3/envs/tf/lib/python3.9/site-packages/matplotlib/mpl-data/fonts/ttf/STIXNonUni.ttf', name='STIXNonUnicode', style='normal', variant='normal', weight=400, stretch='normal', size='scalable')) = 10.05\n",
      "DEBUG:matplotlib.font_manager:findfont: score(FontEntry(fname='/home/joff/miniconda3/envs/tf/lib/python3.9/site-packages/matplotlib/mpl-data/fonts/ttf/STIXGeneralBolIta.ttf', name='STIXGeneral', style='italic', variant='normal', weight=700, stretch='normal', size='scalable')) = 11.335\n",
      "DEBUG:matplotlib.font_manager:findfont: score(FontEntry(fname='/home/joff/miniconda3/envs/tf/lib/python3.9/site-packages/matplotlib/mpl-data/fonts/ttf/DejaVuSansMono-BoldOblique.ttf', name='DejaVu Sans Mono', style='oblique', variant='normal', weight=700, stretch='normal', size='scalable')) = 11.335\n",
      "DEBUG:matplotlib.font_manager:findfont: score(FontEntry(fname='/home/joff/miniconda3/envs/tf/lib/python3.9/site-packages/matplotlib/mpl-data/fonts/ttf/STIXSizOneSymReg.ttf', name='STIXSizeOneSym', style='normal', variant='normal', weight=400, stretch='normal', size='scalable')) = 10.05\n",
      "DEBUG:matplotlib.font_manager:findfont: score(FontEntry(fname='/home/joff/miniconda3/envs/tf/lib/python3.9/site-packages/matplotlib/mpl-data/fonts/ttf/STIXSizThreeSymReg.ttf', name='STIXSizeThreeSym', style='normal', variant='normal', weight=400, stretch='normal', size='scalable')) = 10.05\n",
      "DEBUG:matplotlib.font_manager:findfont: score(FontEntry(fname='/home/joff/miniconda3/envs/tf/lib/python3.9/site-packages/matplotlib/mpl-data/fonts/ttf/DejaVuSansMono-Bold.ttf', name='DejaVu Sans Mono', style='normal', variant='normal', weight=700, stretch='normal', size='scalable')) = 10.335\n",
      "DEBUG:matplotlib.font_manager:findfont: score(FontEntry(fname='/home/joff/miniconda3/envs/tf/lib/python3.9/site-packages/matplotlib/mpl-data/fonts/ttf/STIXSizFourSymReg.ttf', name='STIXSizeFourSym', style='normal', variant='normal', weight=400, stretch='normal', size='scalable')) = 10.05\n",
      "DEBUG:matplotlib.font_manager:findfont: score(FontEntry(fname='/home/joff/miniconda3/envs/tf/lib/python3.9/site-packages/matplotlib/mpl-data/fonts/ttf/DejaVuSansMono.ttf', name='DejaVu Sans Mono', style='normal', variant='normal', weight=400, stretch='normal', size='scalable')) = 10.05\n",
      "DEBUG:matplotlib.font_manager:findfont: score(FontEntry(fname='/home/joff/miniconda3/envs/tf/lib/python3.9/site-packages/matplotlib/mpl-data/fonts/ttf/STIXNonUniBol.ttf', name='STIXNonUnicode', style='normal', variant='normal', weight=700, stretch='normal', size='scalable')) = 10.335\n",
      "DEBUG:matplotlib.font_manager:findfont: score(FontEntry(fname='/home/joff/miniconda3/envs/tf/lib/python3.9/site-packages/matplotlib/mpl-data/fonts/ttf/STIXGeneralBol.ttf', name='STIXGeneral', style='normal', variant='normal', weight=700, stretch='normal', size='scalable')) = 10.335\n",
      "DEBUG:matplotlib.font_manager:findfont: score(FontEntry(fname='/home/joff/miniconda3/envs/tf/lib/python3.9/site-packages/matplotlib/mpl-data/fonts/ttf/cmtt10.ttf', name='cmtt10', style='normal', variant='normal', weight=400, stretch='normal', size='scalable')) = 10.05\n",
      "DEBUG:matplotlib.font_manager:findfont: score(FontEntry(fname='/home/joff/miniconda3/envs/tf/lib/python3.9/site-packages/matplotlib/mpl-data/fonts/ttf/STIXSizFourSymBol.ttf', name='STIXSizeFourSym', style='normal', variant='normal', weight=700, stretch='normal', size='scalable')) = 10.335\n",
      "DEBUG:matplotlib.font_manager:findfont: score(FontEntry(fname='/home/joff/miniconda3/envs/tf/lib/python3.9/site-packages/matplotlib/mpl-data/fonts/ttf/STIXGeneral.ttf', name='STIXGeneral', style='normal', variant='normal', weight=400, stretch='normal', size='scalable')) = 10.05\n",
      "DEBUG:matplotlib.font_manager:findfont: score(FontEntry(fname='/home/joff/miniconda3/envs/tf/lib/python3.9/site-packages/matplotlib/mpl-data/fonts/ttf/cmmi10.ttf', name='cmmi10', style='normal', variant='normal', weight=400, stretch='normal', size='scalable')) = 10.05\n",
      "DEBUG:matplotlib.font_manager:findfont: score(FontEntry(fname='/home/joff/miniconda3/envs/tf/lib/python3.9/site-packages/matplotlib/mpl-data/fonts/ttf/cmss10.ttf', name='cmss10', style='normal', variant='normal', weight=400, stretch='normal', size='scalable')) = 10.05\n",
      "DEBUG:matplotlib.font_manager:findfont: score(FontEntry(fname='/home/joff/miniconda3/envs/tf/lib/python3.9/site-packages/matplotlib/mpl-data/fonts/ttf/DejaVuSerif-BoldItalic.ttf', name='DejaVu Serif', style='italic', variant='normal', weight=700, stretch='normal', size='scalable')) = 11.335\n",
      "DEBUG:matplotlib.font_manager:findfont: score(FontEntry(fname='/home/joff/miniconda3/envs/tf/lib/python3.9/site-packages/matplotlib/mpl-data/fonts/ttf/STIXNonUniBolIta.ttf', name='STIXNonUnicode', style='italic', variant='normal', weight=700, stretch='normal', size='scalable')) = 11.335\n",
      "DEBUG:matplotlib.font_manager:findfont: score(FontEntry(fname='/home/joff/miniconda3/envs/tf/lib/python3.9/site-packages/matplotlib/mpl-data/fonts/ttf/STIXSizOneSymBol.ttf', name='STIXSizeOneSym', style='normal', variant='normal', weight=700, stretch='normal', size='scalable')) = 10.335\n",
      "DEBUG:matplotlib.font_manager:findfont: score(FontEntry(fname='/home/joff/miniconda3/envs/tf/lib/python3.9/site-packages/matplotlib/mpl-data/fonts/ttf/DejaVuSansMono-Oblique.ttf', name='DejaVu Sans Mono', style='oblique', variant='normal', weight=400, stretch='normal', size='scalable')) = 11.05\n",
      "DEBUG:matplotlib.font_manager:findfont: score(FontEntry(fname='/home/joff/miniconda3/envs/tf/lib/python3.9/site-packages/matplotlib/mpl-data/fonts/ttf/cmsy10.ttf', name='cmsy10', style='normal', variant='normal', weight=400, stretch='normal', size='scalable')) = 10.05\n",
      "DEBUG:matplotlib.font_manager:findfont: score(FontEntry(fname='/home/joff/miniconda3/envs/tf/lib/python3.9/site-packages/matplotlib/mpl-data/fonts/ttf/DejaVuSerif-Italic.ttf', name='DejaVu Serif', style='italic', variant='normal', weight=400, stretch='normal', size='scalable')) = 11.05\n",
      "DEBUG:matplotlib.font_manager:findfont: score(FontEntry(fname='/home/joff/miniconda3/envs/tf/lib/python3.9/site-packages/matplotlib/mpl-data/fonts/ttf/STIXSizTwoSymBol.ttf', name='STIXSizeTwoSym', style='normal', variant='normal', weight=700, stretch='normal', size='scalable')) = 10.335\n",
      "DEBUG:matplotlib.font_manager:findfont: score(FontEntry(fname='/home/joff/miniconda3/envs/tf/lib/python3.9/site-packages/matplotlib/mpl-data/fonts/ttf/DejaVuSans-Oblique.ttf', name='DejaVu Sans', style='oblique', variant='normal', weight=400, stretch='normal', size='scalable')) = 1.05\n",
      "DEBUG:matplotlib.font_manager:findfont: score(FontEntry(fname='/home/joff/miniconda3/envs/tf/lib/python3.9/site-packages/matplotlib/mpl-data/fonts/ttf/DejaVuSansDisplay.ttf', name='DejaVu Sans Display', style='normal', variant='normal', weight=400, stretch='normal', size='scalable')) = 10.05\n",
      "DEBUG:matplotlib.font_manager:findfont: score(FontEntry(fname='/home/joff/miniconda3/envs/tf/lib/python3.9/site-packages/matplotlib/mpl-data/fonts/ttf/STIXGeneralItalic.ttf', name='STIXGeneral', style='italic', variant='normal', weight=400, stretch='normal', size='scalable')) = 11.05\n",
      "DEBUG:matplotlib.font_manager:findfont: score(FontEntry(fname='/home/joff/miniconda3/envs/tf/lib/python3.9/site-packages/matplotlib/mpl-data/fonts/ttf/DejaVuSans-BoldOblique.ttf', name='DejaVu Sans', style='oblique', variant='normal', weight=700, stretch='normal', size='scalable')) = 1.335\n",
      "DEBUG:matplotlib.font_manager:findfont: score(FontEntry(fname='/home/joff/miniconda3/envs/tf/lib/python3.9/site-packages/matplotlib/mpl-data/fonts/ttf/cmex10.ttf', name='cmex10', style='normal', variant='normal', weight=400, stretch='normal', size='scalable')) = 10.05\n",
      "DEBUG:matplotlib.font_manager:findfont: score(FontEntry(fname='/home/joff/miniconda3/envs/tf/lib/python3.9/site-packages/matplotlib/mpl-data/fonts/ttf/DejaVuSerif-Bold.ttf', name='DejaVu Serif', style='normal', variant='normal', weight=700, stretch='normal', size='scalable')) = 10.335\n",
      "DEBUG:matplotlib.font_manager:findfont: score(FontEntry(fname='/home/joff/miniconda3/envs/tf/lib/python3.9/site-packages/matplotlib/mpl-data/fonts/ttf/STIXNonUniIta.ttf', name='STIXNonUnicode', style='italic', variant='normal', weight=400, stretch='normal', size='scalable')) = 11.05\n",
      "DEBUG:matplotlib.font_manager:findfont: score(FontEntry(fname='/home/joff/miniconda3/envs/tf/lib/python3.9/site-packages/matplotlib/mpl-data/fonts/ttf/DejaVuSerifDisplay.ttf', name='DejaVu Serif Display', style='normal', variant='normal', weight=400, stretch='normal', size='scalable')) = 10.05\n",
      "DEBUG:matplotlib.font_manager:findfont: score(FontEntry(fname='/home/joff/miniconda3/envs/tf/lib/python3.9/site-packages/matplotlib/mpl-data/fonts/ttf/STIXSizFiveSymReg.ttf', name='STIXSizeFiveSym', style='normal', variant='normal', weight=400, stretch='normal', size='scalable')) = 10.05\n",
      "DEBUG:matplotlib.font_manager:findfont: score(FontEntry(fname='/home/joff/miniconda3/envs/tf/lib/python3.9/site-packages/matplotlib/mpl-data/fonts/ttf/DejaVuSans.ttf', name='DejaVu Sans', style='normal', variant='normal', weight=400, stretch='normal', size='scalable')) = 0.05\n",
      "DEBUG:matplotlib.font_manager:findfont: score(FontEntry(fname='/home/joff/miniconda3/envs/tf/lib/python3.9/site-packages/matplotlib/mpl-data/fonts/ttf/STIXSizTwoSymReg.ttf', name='STIXSizeTwoSym', style='normal', variant='normal', weight=400, stretch='normal', size='scalable')) = 10.05\n",
      "DEBUG:matplotlib.font_manager:findfont: score(FontEntry(fname='/home/joff/miniconda3/envs/tf/lib/python3.9/site-packages/matplotlib/mpl-data/fonts/ttf/DejaVuSans-Bold.ttf', name='DejaVu Sans', style='normal', variant='normal', weight=700, stretch='normal', size='scalable')) = 0.33499999999999996\n",
      "DEBUG:matplotlib.font_manager:findfont: score(FontEntry(fname='/usr/share/fonts/truetype/ubuntu/Ubuntu-BI.ttf', name='Ubuntu', style='italic', variant='normal', weight=700, stretch='normal', size='scalable')) = 11.335\n",
      "DEBUG:matplotlib.font_manager:findfont: score(FontEntry(fname='/usr/share/fonts/truetype/ubuntu/UbuntuMono-RI.ttf', name='Ubuntu Mono', style='italic', variant='normal', weight=400, stretch='normal', size='scalable')) = 11.05\n",
      "DEBUG:matplotlib.font_manager:findfont: score(FontEntry(fname='/usr/share/fonts/truetype/ubuntu/Ubuntu-Th.ttf', name='Ubuntu', style='normal', variant='normal', weight=250, stretch='normal', size='scalable')) = 10.1925\n",
      "DEBUG:matplotlib.font_manager:findfont: score(FontEntry(fname='/usr/share/fonts/truetype/ubuntu/Ubuntu-RI.ttf', name='Ubuntu', style='italic', variant='normal', weight=400, stretch='normal', size='scalable')) = 11.05\n",
      "DEBUG:matplotlib.font_manager:findfont: score(FontEntry(fname='/usr/share/fonts/truetype/ubuntu/Ubuntu-M.ttf', name='Ubuntu', style='normal', variant='normal', weight=500, stretch='normal', size='scalable')) = 10.145\n",
      "DEBUG:matplotlib.font_manager:findfont: score(FontEntry(fname='/usr/share/fonts/truetype/ubuntu/UbuntuMono-B.ttf', name='Ubuntu Mono', style='normal', variant='normal', weight=700, stretch='normal', size='scalable')) = 10.335\n",
      "DEBUG:matplotlib.font_manager:findfont: score(FontEntry(fname='/usr/share/fonts/truetype/ubuntu/UbuntuMono-BI.ttf', name='Ubuntu Mono', style='italic', variant='normal', weight=700, stretch='normal', size='scalable')) = 11.335\n",
      "DEBUG:matplotlib.font_manager:findfont: score(FontEntry(fname='/usr/share/fonts/truetype/ubuntu/Ubuntu-B.ttf', name='Ubuntu', style='normal', variant='normal', weight=700, stretch='normal', size='scalable')) = 10.335\n",
      "DEBUG:matplotlib.font_manager:findfont: score(FontEntry(fname='/usr/share/fonts/truetype/ubuntu/Ubuntu-LI.ttf', name='Ubuntu', style='italic', variant='normal', weight=300, stretch='normal', size='scalable')) = 11.145\n",
      "DEBUG:matplotlib.font_manager:findfont: score(FontEntry(fname='/usr/share/fonts/truetype/ubuntu/UbuntuMono-R.ttf', name='Ubuntu Mono', style='normal', variant='normal', weight=400, stretch='normal', size='scalable')) = 10.05\n",
      "DEBUG:matplotlib.font_manager:findfont: score(FontEntry(fname='/usr/share/fonts/truetype/ubuntu/Ubuntu-MI.ttf', name='Ubuntu', style='italic', variant='normal', weight=500, stretch='normal', size='scalable')) = 11.145\n",
      "DEBUG:matplotlib.font_manager:findfont: score(FontEntry(fname='/usr/share/fonts/truetype/ubuntu/Ubuntu-L.ttf', name='Ubuntu', style='normal', variant='normal', weight=300, stretch='normal', size='scalable')) = 10.145\n",
      "DEBUG:matplotlib.font_manager:findfont: score(FontEntry(fname='/usr/share/fonts/truetype/ubuntu/Ubuntu-R.ttf', name='Ubuntu', style='normal', variant='normal', weight=400, stretch='normal', size='scalable')) = 10.05\n",
      "DEBUG:matplotlib.font_manager:findfont: score(FontEntry(fname='/usr/share/fonts/truetype/ubuntu/Ubuntu-C.ttf', name='Ubuntu Condensed', style='normal', variant='normal', weight=400, stretch='condensed', size='scalable')) = 10.25\n",
      "DEBUG:matplotlib.font_manager:findfont: Matching sans\\-serif:style=normal:variant=normal:weight=normal:stretch=normal:size=12.0 to DejaVu Sans ('/home/joff/miniconda3/envs/tf/lib/python3.9/site-packages/matplotlib/mpl-data/fonts/ttf/DejaVuSans.ttf') with score of 0.050000.\n"
     ]
    },
    {
     "data": {
      "image/png": "[encoded data removed]",
      "text/plain": [
       "<Figure size 1000x300 with 2 Axes>"
      ]
     },
     "metadata": {},
     "output_type": "display_data"
    }
   ],
   "source": [
    "from matplotlib import pyplot as plt\n",
    "import numpy as np\n",
    "import pandas as pd\n",
    "\n",
    "training_history = pd.read_csv(HIST_CSV_PATH, delimiter=\",\", header=0)\n",
    "\n",
    "fig = plt.figure(figsize=(10, 3))\n",
    "ax1 = fig.add_subplot(121)\n",
    "\n",
    "# Labels des axes\n",
    "ax1.set_xlabel('Epochs')\n",
    "ax1.set_ylabel('Accuracy')\n",
    "\n",
    "# Courbe de la précision sur l'échantillon d'entrainement\n",
    "ax1.plot(np.arange(1, training_history[\"accuracy\"].count() + 1, 1),\n",
    "         training_history[\"accuracy\"],\n",
    "         label='Training Accuracy',\n",
    "         color='blue')\n",
    "\n",
    "# Courbe de la précision sur l'échantillon de test\n",
    "ax1.plot(np.arange(1, training_history[\"val_accuracy\"].count() + 1, 1),\n",
    "         training_history['val_accuracy'],\n",
    "         label='Validation Accuracy',\n",
    "         color='red')\n",
    "\n",
    "ax1.legend()\n",
    "ax1.set_title(\"Accuracy per epoch\")\n",
    "\n",
    "ax2 = fig.add_subplot(122)\n",
    "ax2.set_ylabel('Loss')\n",
    "ax2.set_xlabel('Epochs')\n",
    "\n",
    "ax2.plot(np.arange(1, training_history[\"loss\"].count() + 1, 1),\n",
    "         training_history['loss'],\n",
    "         label='Training loss',\n",
    "         linestyle=\"dashed\",\n",
    "         color='blue')\n",
    "\n",
    "ax2.plot(np.arange(1, training_history[\"val_loss\"].count() + 1, 1),\n",
    "         training_history['val_loss'],\n",
    "         label='Validation loss',\n",
    "         linestyle=\"dashed\",\n",
    "         color='red')\n",
    "\n",
    "ax2.legend()\n",
    "ax2.set_title(\"Loss per epoch\")\n",
    "\n",
    "# Affichage de la figure\n",
    "plt.show()"
   ]
  },
  {
   "attachments": {},
   "cell_type": "markdown",
   "metadata": {},
   "source": [
    "# Analyse des performances"
   ]
  },
  {
   "attachments": {},
   "cell_type": "markdown",
   "metadata": {},
   "source": [
    "## Prédiction"
   ]
  },
  {
   "cell_type": "code",
   "execution_count": 11,
   "metadata": {},
   "outputs": [
    {
     "name": "stdout",
     "output_type": "stream",
     "text": [
      "5/5 [==============================] - 0s 6ms/step\n"
     ]
    }
   ],
   "source": [
    "import numpy as np\n",
    "from src.data.data import to_normal_prdtypecode\n",
    "\n",
    "y_pred_raw = text_model.predict(test_dataset)\n",
    "y_pred = to_normal_prdtypecode([np.argmax(i) for i in y_pred_raw])"
   ]
  },
  {
   "attachments": {},
   "cell_type": "markdown",
   "metadata": {},
   "source": [
    "## Rapport de classification"
   ]
  },
  {
   "cell_type": "code",
   "execution_count": 12,
   "metadata": {},
   "outputs": [
    {
     "name": "stdout",
     "output_type": "stream",
     "text": [
      "Score accuracy : 0.8086434291097504 \n",
      "\n",
      "\n",
      "              precision    recall  f1-score   support\n",
      "\n",
      "          10       0.53      0.44      0.48       570\n",
      "          40       0.64      0.69      0.66       508\n",
      "          50       0.80      0.80      0.80       335\n",
      "          60       0.92      0.85      0.88       179\n",
      "        1140       0.73      0.79      0.76       536\n",
      "        1160       0.93      0.93      0.93       786\n",
      "        1180       0.77      0.56      0.65       165\n",
      "        1280       0.68      0.66      0.67       958\n",
      "        1281       0.63      0.52      0.57       411\n",
      "        1300       0.90      0.93      0.92      1044\n",
      "        1301       0.94      0.93      0.94       157\n",
      "        1302       0.82      0.79      0.81       499\n",
      "        1320       0.86      0.80      0.83       694\n",
      "        1560       0.81      0.83      0.82      1030\n",
      "        1920       0.91      0.93      0.92       889\n",
      "        1940       0.93      0.86      0.89       167\n",
      "        2060       0.80      0.79      0.79      1022\n",
      "        2220       0.93      0.82      0.87       159\n",
      "        2280       0.66      0.77      0.71       899\n",
      "        2403       0.69      0.72      0.71       951\n",
      "        2462       0.73      0.77      0.75       280\n",
      "        2522       0.92      0.93      0.93      1000\n",
      "        2582       0.81      0.71      0.76       520\n",
      "        2583       0.97      0.98      0.97      2002\n",
      "        2585       0.81      0.82      0.82       520\n",
      "        2705       0.65      0.69      0.67       547\n",
      "        2905       0.97      0.85      0.91       156\n",
      "\n",
      "    accuracy                           0.81     16984\n",
      "   macro avg       0.80      0.78      0.79     16984\n",
      "weighted avg       0.81      0.81      0.81     16984\n",
      "\n"
     ]
    }
   ],
   "source": [
    "from sklearn import metrics\n",
    "\n",
    "print(\"Score accuracy :\", metrics.accuracy_score(\n",
    "    y_test, y_pred), \"\\n\\n\")\n",
    "print(metrics.classification_report(y_test, y_pred))"
   ]
  },
  {
   "attachments": {},
   "cell_type": "markdown",
   "metadata": {},
   "source": [
    "## Matrice de confusion"
   ]
  },
  {
   "cell_type": "code",
   "execution_count": 13,
   "metadata": {},
   "outputs": [
    {
     "data": {
      "image/png": "[encoded data removed]",
      "text/plain": [
       "<Figure size 1300x1300 with 1 Axes>"
      ]
     },
     "metadata": {},
     "output_type": "display_data"
    }
   ],
   "source": [
    "import itertools\n",
    "from matplotlib import pyplot as plt\n",
    "\n",
    "\n",
    "cnf_matrix = np.round(metrics.confusion_matrix(\n",
    "    y_test, y_pred, normalize=\"true\"), 2)\n",
    "\n",
    "classes = range(0, len(PRDTYPECODE_DIC.keys()))\n",
    "\n",
    "plt.figure(figsize=(13, 13))\n",
    "\n",
    "plt.imshow(cnf_matrix, interpolation='nearest', cmap='Blues')\n",
    "plt.title(\"Matrice de confusion\")\n",
    "tick_marks = classes\n",
    "plt.xticks(tick_marks, list(PRDTYPECODE_DIC.keys()))\n",
    "plt.yticks(tick_marks, list(PRDTYPECODE_DIC.keys()))\n",
    "\n",
    "for i, j in itertools.product(range(cnf_matrix.shape[0]), range(cnf_matrix.shape[1])):\n",
    "    plt.text(j, i, cnf_matrix[i, j],\n",
    "             horizontalalignment=\"center\",\n",
    "             color=\"white\" if cnf_matrix[i, j] > (cnf_matrix.max() / 2) else \"black\")\n",
    "\n",
    "plt.ylabel('Vrais labels')\n",
    "plt.xlabel('Labels prédits')\n",
    "plt.xticks(rotation=45)\n",
    "plt.show()"
   ]
  },
  {
   "attachments": {},
   "cell_type": "markdown",
   "metadata": {},
   "source": [
    "# Enregistrement du modèle"
   ]
  },
  {
   "cell_type": "code",
   "execution_count": 14,
   "metadata": {},
   "outputs": [
    {
     "name": "stderr",
     "output_type": "stream",
     "text": [
      "DEBUG:h5py._conv:Creating converter from 5 to 3\n"
     ]
    },
    {
     "name": "stdout",
     "output_type": "stream",
     "text": [
      "Modèle enregistré à l'adresse : data/models/mlp_model_v2/mlp_model_v2.h5\n"
     ]
    }
   ],
   "source": [
    "# Load the latest checkpoint to avoid overfitting\n",
    "latest = latest_checkpoint(CHECKPOINT_DIR)\n",
    "if (latest is not None):\n",
    "    print(\"Loading checkpoint\", latest)\n",
    "    text_model.load_weights(latest)\n",
    "\n",
    "# Save the model into a .h5 file\n",
    "model_path = os.path.join(CHECKPOINT_DIR, \"mlp_model_v2.h5\")\n",
    "text_model.save(model_path)\n",
    "print(\"Modèle enregistré à l'adresse :\", model_path)"
   ]
  },
  {
   "attachments": {},
   "cell_type": "markdown",
   "metadata": {},
   "source": [
    "# Vérification du bon enregistrement"
   ]
  },
  {
   "cell_type": "code",
   "execution_count": 15,
   "metadata": {},
   "outputs": [
    {
     "name": "stdout",
     "output_type": "stream",
     "text": [
      "5/5 [==============================] - 0s 5ms/step\n",
      "Score accuracy : 0.8086434291097504 \n",
      "\n",
      "\n",
      "              precision    recall  f1-score   support\n",
      "\n",
      "          10       0.53      0.44      0.48       570\n",
      "          40       0.64      0.69      0.66       508\n",
      "          50       0.80      0.80      0.80       335\n",
      "          60       0.92      0.85      0.88       179\n",
      "        1140       0.73      0.79      0.76       536\n",
      "        1160       0.93      0.93      0.93       786\n",
      "        1180       0.77      0.56      0.65       165\n",
      "        1280       0.68      0.66      0.67       958\n",
      "        1281       0.63      0.52      0.57       411\n",
      "        1300       0.90      0.93      0.92      1044\n",
      "        1301       0.94      0.93      0.94       157\n",
      "        1302       0.82      0.79      0.81       499\n",
      "        1320       0.86      0.80      0.83       694\n",
      "        1560       0.81      0.83      0.82      1030\n",
      "        1920       0.91      0.93      0.92       889\n",
      "        1940       0.93      0.86      0.89       167\n",
      "        2060       0.80      0.79      0.79      1022\n",
      "        2220       0.93      0.82      0.87       159\n",
      "        2280       0.66      0.77      0.71       899\n",
      "        2403       0.69      0.72      0.71       951\n",
      "        2462       0.73      0.77      0.75       280\n",
      "        2522       0.92      0.93      0.93      1000\n",
      "        2582       0.81      0.71      0.76       520\n",
      "        2583       0.97      0.98      0.97      2002\n",
      "        2585       0.81      0.82      0.82       520\n",
      "        2705       0.65      0.69      0.67       547\n",
      "        2905       0.97      0.85      0.91       156\n",
      "\n",
      "    accuracy                           0.81     16984\n",
      "   macro avg       0.80      0.78      0.79     16984\n",
      "weighted avg       0.81      0.81      0.81     16984\n",
      "\n"
     ]
    }
   ],
   "source": [
    "from tensorflow import keras\n",
    "import numpy as np\n",
    "from sklearn import metrics\n",
    "from src.data.data import to_normal_prdtypecode\n",
    "\n",
    "# Load the model, predict and display classification report to be sure we have the same results\n",
    "reconstructed_model = keras.models.load_model(model_path)\n",
    "\n",
    "y_pred_raw = reconstructed_model.predict(test_dataset)\n",
    "y_pred = to_normal_prdtypecode([np.argmax(i) for i in y_pred_raw])\n",
    "\n",
    "print(\"Score accuracy :\", metrics.accuracy_score(\n",
    "    y_test, y_pred), \"\\n\\n\")\n",
    "print(metrics.classification_report(y_test, y_pred))"
   ]
  }
 ],
 "metadata": {
  "kernelspec": {
   "display_name": "tf",
   "language": "python",
   "name": "python3"
  },
  "language_info": {
   "codemirror_mode": {
    "name": "ipython",
    "version": 3
   },
   "file_extension": ".py",
   "mimetype": "text/x-python",
   "name": "python",
   "nbconvert_exporter": "python",
   "pygments_lexer": "ipython3",
   "version": "3.9.16"
  },
  "orig_nbformat": 4
 },
 "nbformat": 4,
 "nbformat_minor": 2
}
