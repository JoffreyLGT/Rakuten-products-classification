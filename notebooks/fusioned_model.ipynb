{
 "cells": [
  {
   "attachments": {},
   "cell_type": "markdown",
   "metadata": {},
   "source": [
    "## Setup : chargement des données et des modèles"
   ]
  },
  {
   "cell_type": "code",
   "execution_count": 8,
   "metadata": {},
   "outputs": [],
   "source": [
    "import os\n",
    "\n",
    "\n",
    "# Dataset batch size\n",
    "BATCH_SIZE = 256\n",
    "# Directory containing the dataset pickles\n",
    "DATA_DIR = os.path.join(\"data\", \"pickle_img_datasets\")\n",
    "# Directory containing images\n",
    "IMAGES_DIR = os.path.join(\"data\", \"images\", \"image_train\")"
   ]
  },
  {
   "cell_type": "code",
   "execution_count": 2,
   "metadata": {},
   "outputs": [
    {
     "name": "stderr",
     "output_type": "stream",
     "text": [
      "2023-04-24 11:11:56.658548: I tensorflow/core/util/port.cc:110] oneDNN custom operations are on. You may see slightly different numerical results due to floating-point round-off errors from different computation orders. To turn them off, set the environment variable `TF_ENABLE_ONEDNN_OPTS=0`.\n",
      "2023-04-24 11:11:56.679728: I tensorflow/core/platform/cpu_feature_guard.cc:182] This TensorFlow binary is optimized to use available CPU instructions in performance-critical operations.\n",
      "To enable the following instructions: AVX2 AVX512F AVX512_VNNI AVX512_BF16 FMA, in other operations, rebuild TensorFlow with the appropriate compiler flags.\n",
      "2023-04-24 11:11:57.020336: W tensorflow/compiler/tf2tensorrt/utils/py_utils.cc:38] TF-TRT Warning: Could not find TensorRT\n",
      "2023-04-24 11:11:57.787066: I tensorflow/compiler/xla/stream_executor/cuda/cuda_gpu_executor.cc:982] could not open file to read NUMA node: /sys/bus/pci/devices/0000:01:00.0/numa_node\n",
      "Your kernel may have been built without NUMA support.\n",
      "2023-04-24 11:11:57.799378: I tensorflow/compiler/xla/stream_executor/cuda/cuda_gpu_executor.cc:982] could not open file to read NUMA node: /sys/bus/pci/devices/0000:01:00.0/numa_node\n",
      "Your kernel may have been built without NUMA support.\n",
      "2023-04-24 11:11:57.799546: I tensorflow/compiler/xla/stream_executor/cuda/cuda_gpu_executor.cc:982] could not open file to read NUMA node: /sys/bus/pci/devices/0000:01:00.0/numa_node\n",
      "Your kernel may have been built without NUMA support.\n",
      "2023-04-24 11:11:57.800943: I tensorflow/compiler/xla/stream_executor/cuda/cuda_gpu_executor.cc:982] could not open file to read NUMA node: /sys/bus/pci/devices/0000:01:00.0/numa_node\n",
      "Your kernel may have been built without NUMA support.\n",
      "2023-04-24 11:11:57.801098: I tensorflow/compiler/xla/stream_executor/cuda/cuda_gpu_executor.cc:982] could not open file to read NUMA node: /sys/bus/pci/devices/0000:01:00.0/numa_node\n",
      "Your kernel may have been built without NUMA support.\n",
      "2023-04-24 11:11:57.801248: I tensorflow/compiler/xla/stream_executor/cuda/cuda_gpu_executor.cc:982] could not open file to read NUMA node: /sys/bus/pci/devices/0000:01:00.0/numa_node\n",
      "Your kernel may have been built without NUMA support.\n",
      "2023-04-24 11:11:58.186179: I tensorflow/compiler/xla/stream_executor/cuda/cuda_gpu_executor.cc:982] could not open file to read NUMA node: /sys/bus/pci/devices/0000:01:00.0/numa_node\n",
      "Your kernel may have been built without NUMA support.\n",
      "2023-04-24 11:11:58.186348: I tensorflow/compiler/xla/stream_executor/cuda/cuda_gpu_executor.cc:982] could not open file to read NUMA node: /sys/bus/pci/devices/0000:01:00.0/numa_node\n",
      "Your kernel may have been built without NUMA support.\n",
      "2023-04-24 11:11:58.186357: I tensorflow/core/common_runtime/gpu/gpu_device.cc:1722] Could not identify NUMA node of platform GPU id 0, defaulting to 0.  Your kernel may not have been built with NUMA support.\n",
      "2023-04-24 11:11:58.186501: I tensorflow/compiler/xla/stream_executor/cuda/cuda_gpu_executor.cc:982] could not open file to read NUMA node: /sys/bus/pci/devices/0000:01:00.0/numa_node\n",
      "Your kernel may have been built without NUMA support.\n",
      "2023-04-24 11:11:58.186529: I tensorflow/core/common_runtime/gpu/gpu_device.cc:1635] Created device /job:localhost/replica:0/task:0/device:GPU:0 with 6569 MB memory:  -> device: 0, name: NVIDIA GeForce GTX 1070, pci bus id: 0000:01:00.0, compute capability: 6.1\n"
     ]
    },
    {
     "name": "stdout",
     "output_type": "stream",
     "text": [
      "WARNING:tensorflow:Error in loading the saved optimizer state. As a result, your model is starting with a freshly initialized optimizer.\n"
     ]
    }
   ],
   "source": [
    "from tensorflow import keras\n",
    "import tensorflow as tf\n",
    "import os\n",
    "import pickle\n",
    "from src.data import data\n",
    "\n",
    "\n",
    "# Load data\n",
    "X_train = pickle.load(\n",
    "    open(os.path.join(DATA_DIR, \"X_train.pkl\"), \"rb\")).fillna(\"\")\n",
    "X_test = pickle.load(\n",
    "    open(os.path.join(DATA_DIR, \"X_test.pkl\"), \"rb\")).fillna(\"\")\n",
    "y_test = pickle.load(open(os.path.join(DATA_DIR, \"y_test.pkl\"), \"rb\"))\n",
    "\n",
    "# Extract the features to be ready for preprocessing\n",
    "X_train_features = X_train['designation'] + \" \" + X_train['description']\n",
    "X_test_features = X_test['designation'] + \" \" + X_test['description']\n",
    "\n",
    "# Store the file path to images in variables\n",
    "X_train_images = data.get_imgs_filenames(\n",
    "    X_train[\"productid\"], X_train[\"imageid\"], IMAGES_DIR)\n",
    "X_test_images = data.get_imgs_filenames(\n",
    "    X_test[\"productid\"], X_test[\"imageid\"], IMAGES_DIR)\n",
    "\n",
    "# Define DataFrame names for preprocessing\n",
    "X_train_features.name = \"X_train\"\n",
    "X_test_features.name = \"X_test\"\n",
    "\n",
    "# Load text model\n",
    "text_model = keras.models.load_model(\n",
    "    os.path.join(\"data\", \"models\", \"mlp_model_v2.h5\"))\n",
    "\n",
    "# TODO Check why there is warning regarding the optimizer state\n",
    "# Load image model\n",
    "image_model = keras.models.load_model(\n",
    "    os.path.join(\"data\", \"models\", \"cnn_mobilenetv2_keras\", \"cnn_mobilenetv2.h5\"))"
   ]
  },
  {
   "attachments": {},
   "cell_type": "markdown",
   "metadata": {},
   "source": [
    "### Fonctions à déplacer dans un module une fois le notebook terminé."
   ]
  },
  {
   "cell_type": "code",
   "execution_count": 3,
   "metadata": {},
   "outputs": [],
   "source": [
    "import numpy as np\n",
    "from sklearn.metrics import accuracy_score\n",
    "\n",
    "\n",
    "# TODO Move the functions bellow into a library\n",
    "def convert_sparse_matrix_to_sparse_tensor(X):\n",
    "    \"\"\"\n",
    "    Convert sparse matrix to sparce tensor.\n",
    "    \"\"\"\n",
    "    coo = X.tocoo()\n",
    "    indices = np.mat([coo.row, coo.col]).transpose()\n",
    "    return tf.sparse.reorder(tf.SparseTensor(indices, coo.data, coo.shape))\n",
    "\n",
    "\n",
    "PRDTYPECODE_DIC = {10: 0, 40: 1, 50: 2, 60: 3, 1140: 4, 1160: 5, 1180: 6, 1280: 7, 1281: 8, 1300: 9, 1301: 10, 1302: 11, 1320: 12, 1560: 13,\n",
    "                   1920: 14, 1940: 15, 2060: 16, 2220: 17, 2280: 18, 2403: 19, 2462: 20, 2522: 21, 2582: 22, 2583: 23, 2585: 24, 2705: 25, 2905: 26}\n",
    "\n",
    "\n",
    "def to_simplified_prdtypecode(y: np.array):\n",
    "    \"\"\"\n",
    "    Convert the prdtypecode into a simplified equivalent ranging from 0 to 26.\n",
    "    \"\"\"\n",
    "    return np.array([PRDTYPECODE_DIC[i] for i in y])\n",
    "\n",
    "\n",
    "def to_normal_prdtypecode(y: np.array):\n",
    "    \"\"\"\n",
    "    Convert back a simplified prdtypecode (ranging from 0 to 26) to the original prdtypecode.\n",
    "    \"\"\"\n",
    "    return np.array([list(PRDTYPECODE_DIC.keys())[list(PRDTYPECODE_DIC.values()).index(i)] for i in y])\n",
    "\n",
    "\n",
    "# Dead code at this moment since we are not displaying any confusion matrix. However, it'll be usefull for the last model so I'm keeping the function here.\n",
    "def get_normal_text_model_prediction(y_pred):\n",
    "    \"\"\"\n",
    "    Get normal prdtypecode from text model prediction.\n",
    "    \"\"\"\n",
    "    list_decision = []\n",
    "    for y in y_pred:\n",
    "        list_decision.append(np.argmax(y))\n",
    "    return np.array(to_normal_prdtypecode(list_decision))"
   ]
  },
  {
   "attachments": {},
   "cell_type": "markdown",
   "metadata": {},
   "source": [
    "# Preprocessing du texte"
   ]
  },
  {
   "cell_type": "code",
   "execution_count": 4,
   "metadata": {},
   "outputs": [
    {
     "name": "stderr",
     "output_type": "stream",
     "text": [
      "INFO:textpipeline:class:TfidfStemming\n",
      "INFO:textpipeline:TextPreprocess.fit X_train 40.16 seconds\n",
      "INFO:textpipeline:TextPreprocess.transform X_test 9.84 seconds\n"
     ]
    }
   ],
   "source": [
    "from src.data.text_preproc_pipeline import TextPreprocess\n",
    "from src.data.vectorization_pipeline import TfidfStemming\n",
    "\n",
    "\n",
    "# TODO See with Heiko if this is the good preprocessing\n",
    "# Data preprocessing\n",
    "text_preprocessor = TextPreprocess(TfidfStemming())\n",
    "text_preprocessor.fit(X_train_features)\n",
    "\n",
    "# Transform X_test\n",
    "X_test_preproc = text_preprocessor.transform(X_test_features)"
   ]
  },
  {
   "attachments": {},
   "cell_type": "markdown",
   "metadata": {},
   "source": [
    "# Prédictions du modèle texte"
   ]
  },
  {
   "cell_type": "code",
   "execution_count": 5,
   "metadata": {},
   "outputs": [
    {
     "name": "stderr",
     "output_type": "stream",
     "text": [
      "2023-04-24 11:12:49.809058: I tensorflow/core/common_runtime/executor.cc:1197] [/device:CPU:0] (DEBUG INFO) Executor start aborting (this does not indicate an error and you can ignore this message): INVALID_ARGUMENT: You must feed a value for placeholder tensor 'Placeholder/_0' with dtype variant and shape [16984,3]\n",
      "\t [[{{node Placeholder/_0}}]]\n"
     ]
    },
    {
     "name": "stdout",
     "output_type": "stream",
     "text": [
      "531/531 [==============================] - 1s 2ms/step\n",
      "Text model accuracy score: 0.8133537447008949\n"
     ]
    }
   ],
   "source": [
    "# Predict the categories of X_test\n",
    "y_pred_text = text_model.predict(\n",
    "    convert_sparse_matrix_to_sparse_tensor(X_test_preproc))\n",
    "\n",
    "# Display the accuracy score\n",
    "print(\"Text model accuracy score:\", accuracy_score(\n",
    "    y_test, get_normal_text_model_prediction(y_pred_text)))"
   ]
  },
  {
   "attachments": {},
   "cell_type": "markdown",
   "metadata": {},
   "source": [
    "# Preprocessing des images"
   ]
  },
  {
   "cell_type": "code",
   "execution_count": 9,
   "metadata": {},
   "outputs": [],
   "source": [
    "# TODO Move the function bellow into a module\n",
    "def open_resize_img(filename: str) -> None:\n",
    "    \"\"\"\n",
    "    Open image using the filename and return a resized version of it ready for the image model.\n",
    "\n",
    "    Argument:\n",
    "    - filename: complete path to image file including the extension.\n",
    "\n",
    "    Return:\n",
    "    - Image matrix in a tensor.\n",
    "    \"\"\"\n",
    "    img = tf.io.read_file(filename)\n",
    "    img = tf.io.decode_jpeg(img, channels=3)\n",
    "    return tf.image.resize(img, [224, 224])\n",
    "\n",
    "\n",
    "test_images_dataset = tf.data.Dataset.from_tensor_slices(X_test_images)\n",
    "test_images_dataset = test_images_dataset.map(\n",
    "    open_resize_img).batch(BATCH_SIZE)"
   ]
  },
  {
   "attachments": {},
   "cell_type": "markdown",
   "metadata": {},
   "source": [
    "# Prédictions du modèle image"
   ]
  },
  {
   "cell_type": "code",
   "execution_count": 11,
   "metadata": {},
   "outputs": [
    {
     "name": "stdout",
     "output_type": "stream",
     "text": [
      "67/67 [==============================] - 20s 303ms/step\n",
      "Image model accuracy score: 0.03467969853980217\n"
     ]
    }
   ],
   "source": [
    "from sklearn.metrics import accuracy_score\n",
    "\n",
    "\n",
    "# Predict the categories of X_test\n",
    "y_pred_image = image_model.predict(test_images_dataset)\n",
    "\n",
    "# Display the accuracy score\n",
    "print(\"Image model accuracy score:\", accuracy_score(\n",
    "    y_test, get_normal_text_model_prediction(y_pred_image)))"
   ]
  }
 ],
 "metadata": {
  "kernelspec": {
   "display_name": "tf",
   "language": "python",
   "name": "python3"
  },
  "language_info": {
   "codemirror_mode": {
    "name": "ipython",
    "version": 3
   },
   "file_extension": ".py",
   "mimetype": "text/x-python",
   "name": "python",
   "nbconvert_exporter": "python",
   "pygments_lexer": "ipython3",
   "version": "3.9.16"
  },
  "orig_nbformat": 4
 },
 "nbformat": 4,
 "nbformat_minor": 2
}
